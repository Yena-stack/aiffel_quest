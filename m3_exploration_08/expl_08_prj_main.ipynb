{
 "cells": [
  {
   "cell_type": "markdown",
   "id": "7697d3dd",
   "metadata": {},
   "source": [
    "# 작업할 내용"
   ]
  },
  {
   "cell_type": "markdown",
   "id": "ee6e70bd",
   "metadata": {},
   "source": [
    "- 데이터의 중복 제거\n",
    "- NaN 결측치 제거\n",
    "- 한국어 토크나이저로 토큰화\n",
    "- 불용어(Stopwords) 제거\n",
    "- 사전word_to_index 구성\n",
    "- 텍스트 스트링을 사전 인덱스 스트링으로 변환\n",
    "- X_train, y_train, X_test, y_test, word_to_index 리턴"
   ]
  },
  {
   "cell_type": "markdown",
   "id": "f5244efb",
   "metadata": {},
   "source": [
    "# 모듈 "
   ]
  },
  {
   "cell_type": "code",
   "execution_count": 2,
   "id": "6c88af0c",
   "metadata": {},
   "outputs": [],
   "source": [
    "import konlpy\n",
    "import gensim\n",
    "\n",
    "import pandas as pd\n",
    "import tensorflow as tf\n",
    "import numpy as np\n",
    "import matplotlib.pyplot as plt\n",
    "import seaborn as sns\n",
    "\n",
    "from konlpy.tag import Okt\n",
    "from konlpy.tag import Kkma\n",
    "\n",
    "from tensorflow.keras.utils import pad_sequences\n",
    "from sklearn.model_selection import train_test_split\n"
   ]
  },
  {
   "cell_type": "markdown",
   "id": "5eccb44f",
   "metadata": {},
   "source": [
    "# 변수 초기화"
   ]
  },
  {
   "cell_type": "code",
   "execution_count": 3,
   "id": "f656c9a3",
   "metadata": {},
   "outputs": [],
   "source": [
    "stopwords = ['의','가','이','은','들','는','좀','잘','걍','과','도','를','으로','자','에','와','한','하다']\n",
    "max_sequence_length = 30\n",
    "word_vector_dim = 100"
   ]
  },
  {
   "cell_type": "code",
   "execution_count": 4,
   "id": "e7946aba",
   "metadata": {},
   "outputs": [],
   "source": [
    "okt = Okt()\n",
    "kkma = Kkma()"
   ]
  },
  {
   "cell_type": "markdown",
   "id": "0f798c02",
   "metadata": {},
   "source": [
    "# 데이터 확인"
   ]
  },
  {
   "cell_type": "code",
   "execution_count": 5,
   "id": "295950a7",
   "metadata": {},
   "outputs": [],
   "source": [
    "# 데이터 불러오기\n",
    "train_data = pd.read_table('ratings_train.txt')\n",
    "test_data = pd.read_table('ratings_test.txt')"
   ]
  },
  {
   "cell_type": "code",
   "execution_count": 6,
   "id": "c2dae55d",
   "metadata": {
    "scrolled": true
   },
   "outputs": [
    {
     "data": {
      "text/plain": [
       "(150000, 3)"
      ]
     },
     "execution_count": 6,
     "metadata": {},
     "output_type": "execute_result"
    }
   ],
   "source": [
    "train_data.shape"
   ]
  },
  {
   "cell_type": "code",
   "execution_count": 7,
   "id": "1e42247d",
   "metadata": {},
   "outputs": [
    {
     "name": "stdout",
     "output_type": "stream",
     "text": [
      "<class 'pandas.core.frame.DataFrame'>\n",
      "RangeIndex: 150000 entries, 0 to 149999\n",
      "Data columns (total 3 columns):\n",
      " #   Column    Non-Null Count   Dtype \n",
      "---  ------    --------------   ----- \n",
      " 0   id        150000 non-null  int64 \n",
      " 1   document  149995 non-null  object\n",
      " 2   label     150000 non-null  int64 \n",
      "dtypes: int64(2), object(1)\n",
      "memory usage: 3.4+ MB\n"
     ]
    }
   ],
   "source": [
    "train_data.info()"
   ]
  },
  {
   "cell_type": "markdown",
   "id": "863cd636",
   "metadata": {},
   "source": [
    "document 컬럼에 5개가 null"
   ]
  },
  {
   "cell_type": "code",
   "execution_count": 8,
   "id": "8e12389b",
   "metadata": {},
   "outputs": [
    {
     "data": {
      "text/plain": [
       "(50000, 3)"
      ]
     },
     "execution_count": 8,
     "metadata": {},
     "output_type": "execute_result"
    }
   ],
   "source": [
    "test_data.shape"
   ]
  },
  {
   "cell_type": "code",
   "execution_count": 9,
   "id": "d609de22",
   "metadata": {},
   "outputs": [
    {
     "name": "stdout",
     "output_type": "stream",
     "text": [
      "<class 'pandas.core.frame.DataFrame'>\n",
      "RangeIndex: 50000 entries, 0 to 49999\n",
      "Data columns (total 3 columns):\n",
      " #   Column    Non-Null Count  Dtype \n",
      "---  ------    --------------  ----- \n",
      " 0   id        50000 non-null  int64 \n",
      " 1   document  49997 non-null  object\n",
      " 2   label     50000 non-null  int64 \n",
      "dtypes: int64(2), object(1)\n",
      "memory usage: 1.1+ MB\n"
     ]
    }
   ],
   "source": [
    "test_data.info()"
   ]
  },
  {
   "cell_type": "markdown",
   "id": "81d80f95",
   "metadata": {},
   "source": [
    "# NaN 결측치 제거"
   ]
  },
  {
   "cell_type": "code",
   "execution_count": 10,
   "id": "bace4cd6",
   "metadata": {},
   "outputs": [
    {
     "data": {
      "text/html": [
       "<div>\n",
       "<style scoped>\n",
       "    .dataframe tbody tr th:only-of-type {\n",
       "        vertical-align: middle;\n",
       "    }\n",
       "\n",
       "    .dataframe tbody tr th {\n",
       "        vertical-align: top;\n",
       "    }\n",
       "\n",
       "    .dataframe thead th {\n",
       "        text-align: right;\n",
       "    }\n",
       "</style>\n",
       "<table border=\"1\" class=\"dataframe\">\n",
       "  <thead>\n",
       "    <tr style=\"text-align: right;\">\n",
       "      <th></th>\n",
       "      <th>id</th>\n",
       "      <th>document</th>\n",
       "      <th>label</th>\n",
       "    </tr>\n",
       "  </thead>\n",
       "  <tbody>\n",
       "    <tr>\n",
       "      <th>25857</th>\n",
       "      <td>2172111</td>\n",
       "      <td>NaN</td>\n",
       "      <td>1</td>\n",
       "    </tr>\n",
       "    <tr>\n",
       "      <th>55737</th>\n",
       "      <td>6369843</td>\n",
       "      <td>NaN</td>\n",
       "      <td>1</td>\n",
       "    </tr>\n",
       "    <tr>\n",
       "      <th>110014</th>\n",
       "      <td>1034280</td>\n",
       "      <td>NaN</td>\n",
       "      <td>0</td>\n",
       "    </tr>\n",
       "    <tr>\n",
       "      <th>126782</th>\n",
       "      <td>5942978</td>\n",
       "      <td>NaN</td>\n",
       "      <td>0</td>\n",
       "    </tr>\n",
       "    <tr>\n",
       "      <th>140721</th>\n",
       "      <td>1034283</td>\n",
       "      <td>NaN</td>\n",
       "      <td>0</td>\n",
       "    </tr>\n",
       "  </tbody>\n",
       "</table>\n",
       "</div>"
      ],
      "text/plain": [
       "             id document  label\n",
       "25857   2172111      NaN      1\n",
       "55737   6369843      NaN      1\n",
       "110014  1034280      NaN      0\n",
       "126782  5942978      NaN      0\n",
       "140721  1034283      NaN      0"
      ]
     },
     "execution_count": 10,
     "metadata": {},
     "output_type": "execute_result"
    }
   ],
   "source": [
    "nan_label = train_data[train_data[\"document\"].isna() == True]\n",
    "nan_label"
   ]
  },
  {
   "cell_type": "code",
   "execution_count": 11,
   "id": "8ff02188",
   "metadata": {},
   "outputs": [
    {
     "data": {
      "text/html": [
       "<div>\n",
       "<style scoped>\n",
       "    .dataframe tbody tr th:only-of-type {\n",
       "        vertical-align: middle;\n",
       "    }\n",
       "\n",
       "    .dataframe tbody tr th {\n",
       "        vertical-align: top;\n",
       "    }\n",
       "\n",
       "    .dataframe thead th {\n",
       "        text-align: right;\n",
       "    }\n",
       "</style>\n",
       "<table border=\"1\" class=\"dataframe\">\n",
       "  <thead>\n",
       "    <tr style=\"text-align: right;\">\n",
       "      <th></th>\n",
       "      <th>id</th>\n",
       "      <th>document</th>\n",
       "      <th>label</th>\n",
       "    </tr>\n",
       "  </thead>\n",
       "  <tbody>\n",
       "  </tbody>\n",
       "</table>\n",
       "</div>"
      ],
      "text/plain": [
       "Empty DataFrame\n",
       "Columns: [id, document, label]\n",
       "Index: []"
      ]
     },
     "execution_count": 11,
     "metadata": {},
     "output_type": "execute_result"
    }
   ],
   "source": [
    "for i in nan_label.index:\n",
    "    train_data.drop(index=i, inplace=True)\n",
    "\n",
    "train_data[train_data[\"document\"].isna() == True]"
   ]
  },
  {
   "cell_type": "code",
   "execution_count": 12,
   "id": "5bd2094e",
   "metadata": {},
   "outputs": [
    {
     "data": {
      "text/html": [
       "<div>\n",
       "<style scoped>\n",
       "    .dataframe tbody tr th:only-of-type {\n",
       "        vertical-align: middle;\n",
       "    }\n",
       "\n",
       "    .dataframe tbody tr th {\n",
       "        vertical-align: top;\n",
       "    }\n",
       "\n",
       "    .dataframe thead th {\n",
       "        text-align: right;\n",
       "    }\n",
       "</style>\n",
       "<table border=\"1\" class=\"dataframe\">\n",
       "  <thead>\n",
       "    <tr style=\"text-align: right;\">\n",
       "      <th></th>\n",
       "      <th>id</th>\n",
       "      <th>document</th>\n",
       "      <th>label</th>\n",
       "    </tr>\n",
       "  </thead>\n",
       "  <tbody>\n",
       "    <tr>\n",
       "      <th>5746</th>\n",
       "      <td>402110</td>\n",
       "      <td>NaN</td>\n",
       "      <td>1</td>\n",
       "    </tr>\n",
       "    <tr>\n",
       "      <th>7899</th>\n",
       "      <td>5026896</td>\n",
       "      <td>NaN</td>\n",
       "      <td>0</td>\n",
       "    </tr>\n",
       "    <tr>\n",
       "      <th>27097</th>\n",
       "      <td>511097</td>\n",
       "      <td>NaN</td>\n",
       "      <td>1</td>\n",
       "    </tr>\n",
       "  </tbody>\n",
       "</table>\n",
       "</div>"
      ],
      "text/plain": [
       "            id document  label\n",
       "5746    402110      NaN      1\n",
       "7899   5026896      NaN      0\n",
       "27097   511097      NaN      1"
      ]
     },
     "execution_count": 12,
     "metadata": {},
     "output_type": "execute_result"
    }
   ],
   "source": [
    "nan_label = test_data[test_data[\"document\"].isna() == True]\n",
    "nan_label"
   ]
  },
  {
   "cell_type": "code",
   "execution_count": 13,
   "id": "8723beaf",
   "metadata": {},
   "outputs": [
    {
     "data": {
      "text/html": [
       "<div>\n",
       "<style scoped>\n",
       "    .dataframe tbody tr th:only-of-type {\n",
       "        vertical-align: middle;\n",
       "    }\n",
       "\n",
       "    .dataframe tbody tr th {\n",
       "        vertical-align: top;\n",
       "    }\n",
       "\n",
       "    .dataframe thead th {\n",
       "        text-align: right;\n",
       "    }\n",
       "</style>\n",
       "<table border=\"1\" class=\"dataframe\">\n",
       "  <thead>\n",
       "    <tr style=\"text-align: right;\">\n",
       "      <th></th>\n",
       "      <th>id</th>\n",
       "      <th>document</th>\n",
       "      <th>label</th>\n",
       "    </tr>\n",
       "  </thead>\n",
       "  <tbody>\n",
       "  </tbody>\n",
       "</table>\n",
       "</div>"
      ],
      "text/plain": [
       "Empty DataFrame\n",
       "Columns: [id, document, label]\n",
       "Index: []"
      ]
     },
     "execution_count": 13,
     "metadata": {},
     "output_type": "execute_result"
    }
   ],
   "source": [
    "for i in nan_label.index:\n",
    "    test_data.drop(index=i, inplace=True)\n",
    "\n",
    "test_data[test_data[\"document\"].isna() == True]"
   ]
  },
  {
   "cell_type": "markdown",
   "id": "dbd9c98c",
   "metadata": {},
   "source": [
    "# 데이터 중복 제거"
   ]
  },
  {
   "cell_type": "code",
   "execution_count": 14,
   "id": "3c8372b8",
   "metadata": {},
   "outputs": [
    {
     "data": {
      "text/html": [
       "<div>\n",
       "<style scoped>\n",
       "    .dataframe tbody tr th:only-of-type {\n",
       "        vertical-align: middle;\n",
       "    }\n",
       "\n",
       "    .dataframe tbody tr th {\n",
       "        vertical-align: top;\n",
       "    }\n",
       "\n",
       "    .dataframe thead th {\n",
       "        text-align: right;\n",
       "    }\n",
       "</style>\n",
       "<table border=\"1\" class=\"dataframe\">\n",
       "  <thead>\n",
       "    <tr style=\"text-align: right;\">\n",
       "      <th></th>\n",
       "      <th>id</th>\n",
       "      <th>document</th>\n",
       "      <th>label</th>\n",
       "    </tr>\n",
       "  </thead>\n",
       "  <tbody>\n",
       "    <tr>\n",
       "      <th>1058</th>\n",
       "      <td>5890638</td>\n",
       "      <td>4</td>\n",
       "      <td>0</td>\n",
       "    </tr>\n",
       "    <tr>\n",
       "      <th>1097</th>\n",
       "      <td>2062443</td>\n",
       "      <td>쵝오</td>\n",
       "      <td>1</td>\n",
       "    </tr>\n",
       "    <tr>\n",
       "      <th>1248</th>\n",
       "      <td>3502685</td>\n",
       "      <td>최고</td>\n",
       "      <td>1</td>\n",
       "    </tr>\n",
       "    <tr>\n",
       "      <th>1483</th>\n",
       "      <td>775332</td>\n",
       "      <td>최고</td>\n",
       "      <td>1</td>\n",
       "    </tr>\n",
       "    <tr>\n",
       "      <th>1707</th>\n",
       "      <td>8009134</td>\n",
       "      <td>재밌다</td>\n",
       "      <td>1</td>\n",
       "    </tr>\n",
       "    <tr>\n",
       "      <th>...</th>\n",
       "      <td>...</td>\n",
       "      <td>...</td>\n",
       "      <td>...</td>\n",
       "    </tr>\n",
       "    <tr>\n",
       "      <th>149919</th>\n",
       "      <td>6502490</td>\n",
       "      <td>짱</td>\n",
       "      <td>1</td>\n",
       "    </tr>\n",
       "    <tr>\n",
       "      <th>149949</th>\n",
       "      <td>3924716</td>\n",
       "      <td>OO 영화</td>\n",
       "      <td>0</td>\n",
       "    </tr>\n",
       "    <tr>\n",
       "      <th>149960</th>\n",
       "      <td>6368431</td>\n",
       "      <td>지루하다</td>\n",
       "      <td>0</td>\n",
       "    </tr>\n",
       "    <tr>\n",
       "      <th>149966</th>\n",
       "      <td>6735753</td>\n",
       "      <td>1</td>\n",
       "      <td>0</td>\n",
       "    </tr>\n",
       "    <tr>\n",
       "      <th>149987</th>\n",
       "      <td>7669621</td>\n",
       "      <td>재미있어요^^</td>\n",
       "      <td>1</td>\n",
       "    </tr>\n",
       "  </tbody>\n",
       "</table>\n",
       "<p>3813 rows × 3 columns</p>\n",
       "</div>"
      ],
      "text/plain": [
       "             id document  label\n",
       "1058    5890638        4      0\n",
       "1097    2062443       쵝오      1\n",
       "1248    3502685       최고      1\n",
       "1483     775332       최고      1\n",
       "1707    8009134      재밌다      1\n",
       "...         ...      ...    ...\n",
       "149919  6502490        짱      1\n",
       "149949  3924716    OO 영화      0\n",
       "149960  6368431     지루하다      0\n",
       "149966  6735753        1      0\n",
       "149987  7669621  재미있어요^^      1\n",
       "\n",
       "[3813 rows x 3 columns]"
      ]
     },
     "execution_count": 14,
     "metadata": {},
     "output_type": "execute_result"
    }
   ],
   "source": [
    "train_data[train_data.duplicated(['document']) == True]"
   ]
  },
  {
   "cell_type": "markdown",
   "id": "0cab5b95",
   "metadata": {},
   "source": [
    "> 중복 데이터를 지워야 하는가?\n",
    "\n",
    "- 감성 분석에는 보존하는게 좋다고 함.\n",
    "- 텍스트 분류나 토픽 모델링 할 때는 지우는 게 좋다고 함"
   ]
  },
  {
   "cell_type": "code",
   "execution_count": 15,
   "id": "9c9b20fb",
   "metadata": {},
   "outputs": [
    {
     "data": {
      "text/html": [
       "<div>\n",
       "<style scoped>\n",
       "    .dataframe tbody tr th:only-of-type {\n",
       "        vertical-align: middle;\n",
       "    }\n",
       "\n",
       "    .dataframe tbody tr th {\n",
       "        vertical-align: top;\n",
       "    }\n",
       "\n",
       "    .dataframe thead th {\n",
       "        text-align: right;\n",
       "    }\n",
       "</style>\n",
       "<table border=\"1\" class=\"dataframe\">\n",
       "  <thead>\n",
       "    <tr style=\"text-align: right;\">\n",
       "      <th></th>\n",
       "      <th>id</th>\n",
       "      <th>document</th>\n",
       "      <th>label</th>\n",
       "    </tr>\n",
       "  </thead>\n",
       "  <tbody>\n",
       "  </tbody>\n",
       "</table>\n",
       "</div>"
      ],
      "text/plain": [
       "Empty DataFrame\n",
       "Columns: [id, document, label]\n",
       "Index: []"
      ]
     },
     "execution_count": 15,
     "metadata": {},
     "output_type": "execute_result"
    }
   ],
   "source": [
    "train_data[train_data.duplicated(['id']) == True]"
   ]
  },
  {
   "cell_type": "markdown",
   "id": "6d8794e9",
   "metadata": {},
   "source": [
    "말 그대로 레이블 자체가 중복된 데이터는 없음"
   ]
  },
  {
   "cell_type": "code",
   "execution_count": 16,
   "id": "40177c64",
   "metadata": {},
   "outputs": [
    {
     "data": {
      "text/plain": [
       "(149995, 3)"
      ]
     },
     "execution_count": 16,
     "metadata": {},
     "output_type": "execute_result"
    }
   ],
   "source": [
    "train_data.shape"
   ]
  },
  {
   "cell_type": "markdown",
   "id": "990e6872",
   "metadata": {},
   "source": [
    "# 토큰화"
   ]
  },
  {
   "cell_type": "code",
   "execution_count": 17,
   "id": "96fddc47",
   "metadata": {},
   "outputs": [],
   "source": [
    "# 토큰화\n",
    "train_data['tokenized'] = train_data['document'].apply(okt.morphs)"
   ]
  },
  {
   "cell_type": "code",
   "execution_count": 18,
   "id": "838a3c71",
   "metadata": {},
   "outputs": [],
   "source": [
    "test_data['tokenized'] = test_data['document'].apply(okt.morphs)"
   ]
  },
  {
   "cell_type": "markdown",
   "id": "2df753d3",
   "metadata": {},
   "source": [
    "시간이 꽤 걸림..."
   ]
  },
  {
   "cell_type": "code",
   "execution_count": 19,
   "id": "6d509016",
   "metadata": {},
   "outputs": [],
   "source": [
    "# 백업용 데이터 생성\n",
    "train_data_org = train_data.copy()"
   ]
  },
  {
   "cell_type": "code",
   "execution_count": 20,
   "id": "1aeb2d3f",
   "metadata": {},
   "outputs": [],
   "source": [
    "test_data_org = test_data.copy()"
   ]
  },
  {
   "cell_type": "code",
   "execution_count": 21,
   "id": "4c36a1a5",
   "metadata": {},
   "outputs": [
    {
     "data": {
      "text/plain": [
       "(149995, 4)"
      ]
     },
     "execution_count": 21,
     "metadata": {},
     "output_type": "execute_result"
    }
   ],
   "source": [
    "# 복원\n",
    "# train_data = train_data_org.copy()\n",
    "train_data_org.shape"
   ]
  },
  {
   "cell_type": "code",
   "execution_count": 22,
   "id": "31423537",
   "metadata": {},
   "outputs": [
    {
     "data": {
      "text/html": [
       "<div>\n",
       "<style scoped>\n",
       "    .dataframe tbody tr th:only-of-type {\n",
       "        vertical-align: middle;\n",
       "    }\n",
       "\n",
       "    .dataframe tbody tr th {\n",
       "        vertical-align: top;\n",
       "    }\n",
       "\n",
       "    .dataframe thead th {\n",
       "        text-align: right;\n",
       "    }\n",
       "</style>\n",
       "<table border=\"1\" class=\"dataframe\">\n",
       "  <thead>\n",
       "    <tr style=\"text-align: right;\">\n",
       "      <th></th>\n",
       "      <th>id</th>\n",
       "      <th>document</th>\n",
       "      <th>label</th>\n",
       "      <th>tokenized</th>\n",
       "    </tr>\n",
       "  </thead>\n",
       "  <tbody>\n",
       "    <tr>\n",
       "      <th>0</th>\n",
       "      <td>9976970</td>\n",
       "      <td>아 더빙.. 진짜 짜증나네요 목소리</td>\n",
       "      <td>0</td>\n",
       "      <td>[아, 더빙, .., 진짜, 짜증나네요, 목소리]</td>\n",
       "    </tr>\n",
       "    <tr>\n",
       "      <th>1</th>\n",
       "      <td>3819312</td>\n",
       "      <td>흠...포스터보고 초딩영화줄....오버연기조차 가볍지 않구나</td>\n",
       "      <td>1</td>\n",
       "      <td>[흠, ..., 포스터, 보고, 초딩, 영화, 줄, ...., 오버, 연기, 조차,...</td>\n",
       "    </tr>\n",
       "    <tr>\n",
       "      <th>2</th>\n",
       "      <td>10265843</td>\n",
       "      <td>너무재밓었다그래서보는것을추천한다</td>\n",
       "      <td>0</td>\n",
       "      <td>[너, 무재, 밓었, 다그, 래서, 보는것을, 추천, 한, 다]</td>\n",
       "    </tr>\n",
       "    <tr>\n",
       "      <th>3</th>\n",
       "      <td>9045019</td>\n",
       "      <td>교도소 이야기구먼 ..솔직히 재미는 없다..평점 조정</td>\n",
       "      <td>0</td>\n",
       "      <td>[교도소, 이야기, 구먼, .., 솔직히, 재미, 는, 없다, .., 평점, 조정]</td>\n",
       "    </tr>\n",
       "    <tr>\n",
       "      <th>4</th>\n",
       "      <td>6483659</td>\n",
       "      <td>사이몬페그의 익살스런 연기가 돋보였던 영화!스파이더맨에서 늙어보이기만 했던 커스틴 ...</td>\n",
       "      <td>1</td>\n",
       "      <td>[사이, 몬페, 그, 의, 익살스런, 연기, 가, 돋보였던, 영화, !, 스파이더맨...</td>\n",
       "    </tr>\n",
       "  </tbody>\n",
       "</table>\n",
       "</div>"
      ],
      "text/plain": [
       "         id                                           document  label  \\\n",
       "0   9976970                                아 더빙.. 진짜 짜증나네요 목소리      0   \n",
       "1   3819312                  흠...포스터보고 초딩영화줄....오버연기조차 가볍지 않구나      1   \n",
       "2  10265843                                  너무재밓었다그래서보는것을추천한다      0   \n",
       "3   9045019                      교도소 이야기구먼 ..솔직히 재미는 없다..평점 조정      0   \n",
       "4   6483659  사이몬페그의 익살스런 연기가 돋보였던 영화!스파이더맨에서 늙어보이기만 했던 커스틴 ...      1   \n",
       "\n",
       "                                           tokenized  \n",
       "0                        [아, 더빙, .., 진짜, 짜증나네요, 목소리]  \n",
       "1  [흠, ..., 포스터, 보고, 초딩, 영화, 줄, ...., 오버, 연기, 조차,...  \n",
       "2                [너, 무재, 밓었, 다그, 래서, 보는것을, 추천, 한, 다]  \n",
       "3     [교도소, 이야기, 구먼, .., 솔직히, 재미, 는, 없다, .., 평점, 조정]  \n",
       "4  [사이, 몬페, 그, 의, 익살스런, 연기, 가, 돋보였던, 영화, !, 스파이더맨...  "
      ]
     },
     "execution_count": 22,
     "metadata": {},
     "output_type": "execute_result"
    }
   ],
   "source": [
    "train_data.head()"
   ]
  },
  {
   "cell_type": "code",
   "execution_count": 23,
   "id": "1b55914c",
   "metadata": {},
   "outputs": [
    {
     "name": "stdout",
     "output_type": "stream",
     "text": [
      "<class 'pandas.core.frame.DataFrame'>\n",
      "Index: 149995 entries, 0 to 149999\n",
      "Data columns (total 4 columns):\n",
      " #   Column     Non-Null Count   Dtype \n",
      "---  ------     --------------   ----- \n",
      " 0   id         149995 non-null  int64 \n",
      " 1   document   149995 non-null  object\n",
      " 2   label      149995 non-null  int64 \n",
      " 3   tokenized  149995 non-null  object\n",
      "dtypes: int64(2), object(2)\n",
      "memory usage: 5.7+ MB\n"
     ]
    }
   ],
   "source": [
    "train_data.info()"
   ]
  },
  {
   "cell_type": "markdown",
   "id": "f4f4a60f",
   "metadata": {},
   "source": [
    "# 불용어 제거"
   ]
  },
  {
   "cell_type": "code",
   "execution_count": 24,
   "id": "44a2a4f6",
   "metadata": {},
   "outputs": [],
   "source": [
    "# 불용어 포함된 텍스트 확인\n",
    "df_stop = train_data[train_data['tokenized'].apply(lambda x: any(word in x for word in stopwords))]"
   ]
  },
  {
   "cell_type": "code",
   "execution_count": 25,
   "id": "002b77a6",
   "metadata": {},
   "outputs": [],
   "source": [
    "# 불용어 포함된 텍스트 확인\n",
    "df_stop_test = test_data[test_data['tokenized'].apply(lambda x: any(word in x for word in stopwords))]"
   ]
  },
  {
   "cell_type": "code",
   "execution_count": 26,
   "id": "9bed9a0d",
   "metadata": {},
   "outputs": [
    {
     "data": {
      "text/html": [
       "<div>\n",
       "<style scoped>\n",
       "    .dataframe tbody tr th:only-of-type {\n",
       "        vertical-align: middle;\n",
       "    }\n",
       "\n",
       "    .dataframe tbody tr th {\n",
       "        vertical-align: top;\n",
       "    }\n",
       "\n",
       "    .dataframe thead th {\n",
       "        text-align: right;\n",
       "    }\n",
       "</style>\n",
       "<table border=\"1\" class=\"dataframe\">\n",
       "  <thead>\n",
       "    <tr style=\"text-align: right;\">\n",
       "      <th></th>\n",
       "      <th>id</th>\n",
       "      <th>document</th>\n",
       "      <th>label</th>\n",
       "      <th>tokenized</th>\n",
       "    </tr>\n",
       "  </thead>\n",
       "  <tbody>\n",
       "    <tr>\n",
       "      <th>2</th>\n",
       "      <td>10265843</td>\n",
       "      <td>너무재밓었다그래서보는것을추천한다</td>\n",
       "      <td>0</td>\n",
       "      <td>[너, 무재, 밓었, 다그, 래서, 보는것을, 추천, 한, 다]</td>\n",
       "    </tr>\n",
       "    <tr>\n",
       "      <th>3</th>\n",
       "      <td>9045019</td>\n",
       "      <td>교도소 이야기구먼 ..솔직히 재미는 없다..평점 조정</td>\n",
       "      <td>0</td>\n",
       "      <td>[교도소, 이야기, 구먼, .., 솔직히, 재미, 는, 없다, .., 평점, 조정]</td>\n",
       "    </tr>\n",
       "    <tr>\n",
       "      <th>4</th>\n",
       "      <td>6483659</td>\n",
       "      <td>사이몬페그의 익살스런 연기가 돋보였던 영화!스파이더맨에서 늙어보이기만 했던 커스틴 ...</td>\n",
       "      <td>1</td>\n",
       "      <td>[사이, 몬페, 그, 의, 익살스런, 연기, 가, 돋보였던, 영화, !, 스파이더맨...</td>\n",
       "    </tr>\n",
       "    <tr>\n",
       "      <th>5</th>\n",
       "      <td>5403919</td>\n",
       "      <td>막 걸음마 뗀 3세부터 초등학교 1학년생인 8살용영화.ㅋㅋㅋ...별반개도 아까움.</td>\n",
       "      <td>0</td>\n",
       "      <td>[막, 걸음, 마, 뗀, 3, 세, 부터, 초등학교, 1, 학년, 생인, 8, 살용...</td>\n",
       "    </tr>\n",
       "    <tr>\n",
       "      <th>6</th>\n",
       "      <td>7797314</td>\n",
       "      <td>원작의 긴장감을 제대로 살려내지못했다.</td>\n",
       "      <td>0</td>\n",
       "      <td>[원작, 의, 긴장감, 을, 제대로, 살려내지못, 했다, .]</td>\n",
       "    </tr>\n",
       "  </tbody>\n",
       "</table>\n",
       "</div>"
      ],
      "text/plain": [
       "         id                                           document  label  \\\n",
       "2  10265843                                  너무재밓었다그래서보는것을추천한다      0   \n",
       "3   9045019                      교도소 이야기구먼 ..솔직히 재미는 없다..평점 조정      0   \n",
       "4   6483659  사이몬페그의 익살스런 연기가 돋보였던 영화!스파이더맨에서 늙어보이기만 했던 커스틴 ...      1   \n",
       "5   5403919      막 걸음마 뗀 3세부터 초등학교 1학년생인 8살용영화.ㅋㅋㅋ...별반개도 아까움.      0   \n",
       "6   7797314                              원작의 긴장감을 제대로 살려내지못했다.      0   \n",
       "\n",
       "                                           tokenized  \n",
       "2                [너, 무재, 밓었, 다그, 래서, 보는것을, 추천, 한, 다]  \n",
       "3     [교도소, 이야기, 구먼, .., 솔직히, 재미, 는, 없다, .., 평점, 조정]  \n",
       "4  [사이, 몬페, 그, 의, 익살스런, 연기, 가, 돋보였던, 영화, !, 스파이더맨...  \n",
       "5  [막, 걸음, 마, 뗀, 3, 세, 부터, 초등학교, 1, 학년, 생인, 8, 살용...  \n",
       "6                 [원작, 의, 긴장감, 을, 제대로, 살려내지못, 했다, .]  "
      ]
     },
     "execution_count": 26,
     "metadata": {},
     "output_type": "execute_result"
    }
   ],
   "source": [
    "df_stop.head()"
   ]
  },
  {
   "cell_type": "code",
   "execution_count": 27,
   "id": "3654fe51",
   "metadata": {},
   "outputs": [
    {
     "data": {
      "text/plain": [
       "(104137, 4)"
      ]
     },
     "execution_count": 27,
     "metadata": {},
     "output_type": "execute_result"
    }
   ],
   "source": [
    "df_stop.shape"
   ]
  },
  {
   "cell_type": "code",
   "execution_count": 28,
   "id": "c59580db",
   "metadata": {},
   "outputs": [
    {
     "data": {
      "text/plain": [
       "(34977, 4)"
      ]
     },
     "execution_count": 28,
     "metadata": {},
     "output_type": "execute_result"
    }
   ],
   "source": [
    "df_stop_test.shape"
   ]
  },
  {
   "cell_type": "code",
   "execution_count": 29,
   "id": "cd0360cc",
   "metadata": {},
   "outputs": [],
   "source": [
    "# 불용어 제거\n",
    "train_data.loc[:, 'tokenized'] = train_data['tokenized'].apply(lambda x: [word for word in x if word not in stopwords])"
   ]
  },
  {
   "cell_type": "code",
   "execution_count": 30,
   "id": "17726d88",
   "metadata": {},
   "outputs": [],
   "source": [
    "# 불용어 제거\n",
    "test_data.loc[:, 'tokenized'] = test_data['tokenized'].apply(lambda x: [word for word in x if word not in stopwords])"
   ]
  },
  {
   "cell_type": "code",
   "execution_count": 31,
   "id": "3841a34b",
   "metadata": {},
   "outputs": [
    {
     "data": {
      "text/html": [
       "<div>\n",
       "<style scoped>\n",
       "    .dataframe tbody tr th:only-of-type {\n",
       "        vertical-align: middle;\n",
       "    }\n",
       "\n",
       "    .dataframe tbody tr th {\n",
       "        vertical-align: top;\n",
       "    }\n",
       "\n",
       "    .dataframe thead th {\n",
       "        text-align: right;\n",
       "    }\n",
       "</style>\n",
       "<table border=\"1\" class=\"dataframe\">\n",
       "  <thead>\n",
       "    <tr style=\"text-align: right;\">\n",
       "      <th></th>\n",
       "      <th>id</th>\n",
       "      <th>document</th>\n",
       "      <th>label</th>\n",
       "      <th>tokenized</th>\n",
       "    </tr>\n",
       "  </thead>\n",
       "  <tbody>\n",
       "  </tbody>\n",
       "</table>\n",
       "</div>"
      ],
      "text/plain": [
       "Empty DataFrame\n",
       "Columns: [id, document, label, tokenized]\n",
       "Index: []"
      ]
     },
     "execution_count": 31,
     "metadata": {},
     "output_type": "execute_result"
    }
   ],
   "source": [
    "# 제거 확인\n",
    "train_data[train_data['tokenized'].apply(lambda x: any(word in x for word in stopwords))]"
   ]
  },
  {
   "cell_type": "code",
   "execution_count": 32,
   "id": "d03bae79",
   "metadata": {},
   "outputs": [
    {
     "data": {
      "text/html": [
       "<div>\n",
       "<style scoped>\n",
       "    .dataframe tbody tr th:only-of-type {\n",
       "        vertical-align: middle;\n",
       "    }\n",
       "\n",
       "    .dataframe tbody tr th {\n",
       "        vertical-align: top;\n",
       "    }\n",
       "\n",
       "    .dataframe thead th {\n",
       "        text-align: right;\n",
       "    }\n",
       "</style>\n",
       "<table border=\"1\" class=\"dataframe\">\n",
       "  <thead>\n",
       "    <tr style=\"text-align: right;\">\n",
       "      <th></th>\n",
       "      <th>id</th>\n",
       "      <th>document</th>\n",
       "      <th>label</th>\n",
       "      <th>tokenized</th>\n",
       "    </tr>\n",
       "  </thead>\n",
       "  <tbody>\n",
       "  </tbody>\n",
       "</table>\n",
       "</div>"
      ],
      "text/plain": [
       "Empty DataFrame\n",
       "Columns: [id, document, label, tokenized]\n",
       "Index: []"
      ]
     },
     "execution_count": 32,
     "metadata": {},
     "output_type": "execute_result"
    }
   ],
   "source": [
    "# 제거 확인\n",
    "test_data[test_data['tokenized'].apply(lambda x: any(word in x for word in stopwords))]"
   ]
  },
  {
   "cell_type": "code",
   "execution_count": 33,
   "id": "af9c303f",
   "metadata": {},
   "outputs": [
    {
     "data": {
      "text/plain": [
       "(149995, 4)"
      ]
     },
     "execution_count": 33,
     "metadata": {},
     "output_type": "execute_result"
    }
   ],
   "source": [
    "train_data.shape"
   ]
  },
  {
   "cell_type": "code",
   "execution_count": 34,
   "id": "d254190c",
   "metadata": {},
   "outputs": [
    {
     "data": {
      "text/plain": [
       "(49997, 4)"
      ]
     },
     "execution_count": 34,
     "metadata": {},
     "output_type": "execute_result"
    }
   ],
   "source": [
    "test_data.shape"
   ]
  },
  {
   "cell_type": "markdown",
   "id": "f28bb6e7",
   "metadata": {},
   "source": [
    "# word to index"
   ]
  },
  {
   "cell_type": "markdown",
   "id": "7efc0b84",
   "metadata": {},
   "source": [
    "## 고유 단어"
   ]
  },
  {
   "cell_type": "code",
   "execution_count": 35,
   "id": "afdc7ef3",
   "metadata": {},
   "outputs": [],
   "source": [
    "df_merge = pd.concat([train_data['tokenized'], test_data['tokenized']])"
   ]
  },
  {
   "cell_type": "code",
   "execution_count": 36,
   "id": "79965300",
   "metadata": {},
   "outputs": [
    {
     "name": "stdout",
     "output_type": "stream",
     "text": [
      "<class 'pandas.core.series.Series'>\n",
      "Index: 199992 entries, 0 to 49999\n",
      "Series name: tokenized\n",
      "Non-Null Count   Dtype \n",
      "--------------   ----- \n",
      "199992 non-null  object\n",
      "dtypes: object(1)\n",
      "memory usage: 3.1+ MB\n"
     ]
    }
   ],
   "source": [
    "df_merge.info()"
   ]
  },
  {
   "cell_type": "code",
   "execution_count": 37,
   "id": "e284a696",
   "metadata": {},
   "outputs": [
    {
     "name": "stdout",
     "output_type": "stream",
     "text": [
      "<class 'pandas.core.frame.DataFrame'>\n",
      "RangeIndex: 122876 entries, 0 to 122875\n",
      "Data columns (total 1 columns):\n",
      " #   Column  Non-Null Count   Dtype \n",
      "---  ------  --------------   ----- \n",
      " 0   0       122876 non-null  object\n",
      "dtypes: object(1)\n",
      "memory usage: 960.1+ KB\n"
     ]
    }
   ],
   "source": [
    "unique_words = set([word for words in df_merge for word in words])\n",
    "df_unique = pd.DataFrame(list(unique_words))\n",
    "df_unique.info()"
   ]
  },
  {
   "cell_type": "code",
   "execution_count": 38,
   "id": "5f40b60b",
   "metadata": {},
   "outputs": [
    {
     "data": {
      "text/html": [
       "<div>\n",
       "<style scoped>\n",
       "    .dataframe tbody tr th:only-of-type {\n",
       "        vertical-align: middle;\n",
       "    }\n",
       "\n",
       "    .dataframe tbody tr th {\n",
       "        vertical-align: top;\n",
       "    }\n",
       "\n",
       "    .dataframe thead th {\n",
       "        text-align: right;\n",
       "    }\n",
       "</style>\n",
       "<table border=\"1\" class=\"dataframe\">\n",
       "  <thead>\n",
       "    <tr style=\"text-align: right;\">\n",
       "      <th></th>\n",
       "      <th>0</th>\n",
       "    </tr>\n",
       "  </thead>\n",
       "  <tbody>\n",
       "    <tr>\n",
       "      <th>122871</th>\n",
       "      <td>뻔할</td>\n",
       "    </tr>\n",
       "    <tr>\n",
       "      <th>122872</th>\n",
       "      <td>저조했던</td>\n",
       "    </tr>\n",
       "    <tr>\n",
       "      <th>122873</th>\n",
       "      <td>헷헷</td>\n",
       "    </tr>\n",
       "    <tr>\n",
       "      <th>122874</th>\n",
       "      <td>있었다</td>\n",
       "    </tr>\n",
       "    <tr>\n",
       "      <th>122875</th>\n",
       "      <td>쓸쓸했던</td>\n",
       "    </tr>\n",
       "  </tbody>\n",
       "</table>\n",
       "</div>"
      ],
      "text/plain": [
       "           0\n",
       "122871    뻔할\n",
       "122872  저조했던\n",
       "122873    헷헷\n",
       "122874   있었다\n",
       "122875  쓸쓸했던"
      ]
     },
     "execution_count": 38,
     "metadata": {},
     "output_type": "execute_result"
    }
   ],
   "source": [
    "df_unique.tail()"
   ]
  },
  {
   "cell_type": "code",
   "execution_count": 39,
   "id": "d04990a1",
   "metadata": {},
   "outputs": [],
   "source": [
    "df_unique['count'] = 0"
   ]
  },
  {
   "cell_type": "code",
   "execution_count": 40,
   "id": "56a39290",
   "metadata": {},
   "outputs": [],
   "source": [
    "df_unique.columns.values[0] = 'word'"
   ]
  },
  {
   "cell_type": "code",
   "execution_count": 41,
   "id": "5263e1d2",
   "metadata": {},
   "outputs": [
    {
     "data": {
      "text/html": [
       "<div>\n",
       "<style scoped>\n",
       "    .dataframe tbody tr th:only-of-type {\n",
       "        vertical-align: middle;\n",
       "    }\n",
       "\n",
       "    .dataframe tbody tr th {\n",
       "        vertical-align: top;\n",
       "    }\n",
       "\n",
       "    .dataframe thead th {\n",
       "        text-align: right;\n",
       "    }\n",
       "</style>\n",
       "<table border=\"1\" class=\"dataframe\">\n",
       "  <thead>\n",
       "    <tr style=\"text-align: right;\">\n",
       "      <th></th>\n",
       "      <th>word</th>\n",
       "      <th>count</th>\n",
       "    </tr>\n",
       "  </thead>\n",
       "  <tbody>\n",
       "    <tr>\n",
       "      <th>122871</th>\n",
       "      <td>뻔할</td>\n",
       "      <td>0</td>\n",
       "    </tr>\n",
       "    <tr>\n",
       "      <th>122872</th>\n",
       "      <td>저조했던</td>\n",
       "      <td>0</td>\n",
       "    </tr>\n",
       "    <tr>\n",
       "      <th>122873</th>\n",
       "      <td>헷헷</td>\n",
       "      <td>0</td>\n",
       "    </tr>\n",
       "    <tr>\n",
       "      <th>122874</th>\n",
       "      <td>있었다</td>\n",
       "      <td>0</td>\n",
       "    </tr>\n",
       "    <tr>\n",
       "      <th>122875</th>\n",
       "      <td>쓸쓸했던</td>\n",
       "      <td>0</td>\n",
       "    </tr>\n",
       "  </tbody>\n",
       "</table>\n",
       "</div>"
      ],
      "text/plain": [
       "        word  count\n",
       "122871    뻔할      0\n",
       "122872  저조했던      0\n",
       "122873    헷헷      0\n",
       "122874   있었다      0\n",
       "122875  쓸쓸했던      0"
      ]
     },
     "execution_count": 41,
     "metadata": {},
     "output_type": "execute_result"
    }
   ],
   "source": [
    "df_unique.tail()"
   ]
  },
  {
   "cell_type": "markdown",
   "id": "ce3b1594",
   "metadata": {},
   "source": [
    "## 단어 인덱스"
   ]
  },
  {
   "cell_type": "code",
   "execution_count": 42,
   "id": "0914d0df",
   "metadata": {},
   "outputs": [],
   "source": [
    "word_index = {}"
   ]
  },
  {
   "cell_type": "code",
   "execution_count": 43,
   "id": "0cc48973",
   "metadata": {},
   "outputs": [],
   "source": [
    "def words_to_indices(texts):\n",
    "    \n",
    "    # 0: '<PAD>' ; 패딩용 단어\n",
    "    # 1: '<BOS>' ; 문장의 시작지점\n",
    "    # 2: '<UNK>' ; 사전에 없는(Unknown) 단어\n",
    "\n",
    "    index = 3  # Start indexing from 1 (0 can be used for padding or reserved for special tokens)\n",
    "\n",
    "    indices = []\n",
    "    for word in texts:\n",
    "        if word not in word_index:\n",
    "            word_index[word] = index\n",
    "            index += 1\n",
    "        indices.append(word_index[word])\n",
    "\n",
    "    return indices"
   ]
  },
  {
   "cell_type": "code",
   "execution_count": 44,
   "id": "e3e45d91",
   "metadata": {},
   "outputs": [],
   "source": [
    "train_data.loc[:, 'word_index'] = train_data['tokenized'].apply(words_to_indices)"
   ]
  },
  {
   "cell_type": "code",
   "execution_count": 45,
   "id": "741217e0",
   "metadata": {},
   "outputs": [],
   "source": [
    "test_data.loc[:, 'word_index'] = test_data['tokenized'].apply(words_to_indices)"
   ]
  },
  {
   "cell_type": "code",
   "execution_count": 46,
   "id": "b3dbde63",
   "metadata": {},
   "outputs": [
    {
     "data": {
      "text/plain": [
       "0                                   [3, 4, 5, 6, 7, 8]\n",
       "1        [3, 4, 5, 6, 7, 8, 9, 10, 11, 12, 13, 14, 15]\n",
       "2                            [3, 4, 5, 6, 7, 8, 9, 10]\n",
       "3                      [3, 4, 5, 5, 6, 7, 8, 5, 9, 10]\n",
       "4    [3, 4, 5, 6, 12, 7, 8, 8, 9, 10, 11, 12, 13, 1...\n",
       "Name: word_index, dtype: object"
      ]
     },
     "execution_count": 46,
     "metadata": {},
     "output_type": "execute_result"
    }
   ],
   "source": [
    "train_data['word_index'].head()"
   ]
  },
  {
   "cell_type": "code",
   "execution_count": 48,
   "id": "ebd94a4b",
   "metadata": {},
   "outputs": [
    {
     "name": "stdout",
     "output_type": "stream",
     "text": [
      "id                                                      7978306\n",
      "document      임시완 보아 커플 최다니엘 김지원 커플 보러 가자 연장 고 고 고 고 고 고 고 고...\n",
      "label                                                         1\n",
      "tokenized     [임시완, 보아, 커플, 최다니엘, 김지원, 커플, 보러, 가자, 연장, 고, 고,...\n",
      "word_index    [3, 22, 8, 3, 3, 8, 6, 3, 12, 6, 6, 6, 6, 6, 6...\n",
      "Name: 149047, dtype: object\n"
     ]
    }
   ],
   "source": [
    "row_with_max_items = train_data.loc[train_data['word_index'].apply(lambda x: len(x)).idxmax()]\n",
    "print(row_with_max_items)"
   ]
  },
  {
   "cell_type": "markdown",
   "id": "a332cf42",
   "metadata": {},
   "source": [
    "## max length"
   ]
  },
  {
   "cell_type": "code",
   "execution_count": 49,
   "id": "7d59849e",
   "metadata": {},
   "outputs": [],
   "source": [
    "df_len = train_data['word_index'].apply(lambda x: len(x))"
   ]
  },
  {
   "cell_type": "code",
   "execution_count": 50,
   "id": "03159c8e",
   "metadata": {},
   "outputs": [],
   "source": [
    "df_len_test = test_data['word_index'].apply(lambda x: len(x))"
   ]
  },
  {
   "cell_type": "code",
   "execution_count": 51,
   "id": "d03d5cda",
   "metadata": {},
   "outputs": [],
   "source": [
    "train_data['word_index_length'] = df_len"
   ]
  },
  {
   "cell_type": "code",
   "execution_count": 52,
   "id": "206794e8",
   "metadata": {},
   "outputs": [],
   "source": [
    "test_data['word_index_length'] = df_len_test"
   ]
  },
  {
   "cell_type": "code",
   "execution_count": 53,
   "id": "134b36fa",
   "metadata": {},
   "outputs": [
    {
     "data": {
      "text/html": [
       "<div>\n",
       "<style scoped>\n",
       "    .dataframe tbody tr th:only-of-type {\n",
       "        vertical-align: middle;\n",
       "    }\n",
       "\n",
       "    .dataframe tbody tr th {\n",
       "        vertical-align: top;\n",
       "    }\n",
       "\n",
       "    .dataframe thead th {\n",
       "        text-align: right;\n",
       "    }\n",
       "</style>\n",
       "<table border=\"1\" class=\"dataframe\">\n",
       "  <thead>\n",
       "    <tr style=\"text-align: right;\">\n",
       "      <th></th>\n",
       "      <th>id</th>\n",
       "      <th>document</th>\n",
       "      <th>label</th>\n",
       "      <th>tokenized</th>\n",
       "      <th>word_index</th>\n",
       "      <th>word_index_length</th>\n",
       "    </tr>\n",
       "  </thead>\n",
       "  <tbody>\n",
       "    <tr>\n",
       "      <th>0</th>\n",
       "      <td>9976970</td>\n",
       "      <td>아 더빙.. 진짜 짜증나네요 목소리</td>\n",
       "      <td>0</td>\n",
       "      <td>[아, 더빙, .., 진짜, 짜증나네요, 목소리]</td>\n",
       "      <td>[3, 4, 5, 6, 7, 8]</td>\n",
       "      <td>6</td>\n",
       "    </tr>\n",
       "    <tr>\n",
       "      <th>1</th>\n",
       "      <td>3819312</td>\n",
       "      <td>흠...포스터보고 초딩영화줄....오버연기조차 가볍지 않구나</td>\n",
       "      <td>1</td>\n",
       "      <td>[흠, ..., 포스터, 보고, 초딩, 영화, 줄, ...., 오버, 연기, 조차,...</td>\n",
       "      <td>[3, 4, 5, 6, 7, 8, 9, 10, 11, 12, 13, 14, 15]</td>\n",
       "      <td>13</td>\n",
       "    </tr>\n",
       "    <tr>\n",
       "      <th>2</th>\n",
       "      <td>10265843</td>\n",
       "      <td>너무재밓었다그래서보는것을추천한다</td>\n",
       "      <td>0</td>\n",
       "      <td>[너, 무재, 밓었, 다그, 래서, 보는것을, 추천, 다]</td>\n",
       "      <td>[3, 4, 5, 6, 7, 8, 9, 10]</td>\n",
       "      <td>8</td>\n",
       "    </tr>\n",
       "    <tr>\n",
       "      <th>3</th>\n",
       "      <td>9045019</td>\n",
       "      <td>교도소 이야기구먼 ..솔직히 재미는 없다..평점 조정</td>\n",
       "      <td>0</td>\n",
       "      <td>[교도소, 이야기, 구먼, .., 솔직히, 재미, 없다, .., 평점, 조정]</td>\n",
       "      <td>[3, 4, 5, 5, 6, 7, 8, 5, 9, 10]</td>\n",
       "      <td>10</td>\n",
       "    </tr>\n",
       "    <tr>\n",
       "      <th>4</th>\n",
       "      <td>6483659</td>\n",
       "      <td>사이몬페그의 익살스런 연기가 돋보였던 영화!스파이더맨에서 늙어보이기만 했던 커스틴 ...</td>\n",
       "      <td>1</td>\n",
       "      <td>[사이, 몬페, 그, 익살스런, 연기, 돋보였던, 영화, !, 스파이더맨, 에서, ...</td>\n",
       "      <td>[3, 4, 5, 6, 12, 7, 8, 8, 9, 10, 11, 12, 13, 1...</td>\n",
       "      <td>18</td>\n",
       "    </tr>\n",
       "  </tbody>\n",
       "</table>\n",
       "</div>"
      ],
      "text/plain": [
       "         id                                           document  label  \\\n",
       "0   9976970                                아 더빙.. 진짜 짜증나네요 목소리      0   \n",
       "1   3819312                  흠...포스터보고 초딩영화줄....오버연기조차 가볍지 않구나      1   \n",
       "2  10265843                                  너무재밓었다그래서보는것을추천한다      0   \n",
       "3   9045019                      교도소 이야기구먼 ..솔직히 재미는 없다..평점 조정      0   \n",
       "4   6483659  사이몬페그의 익살스런 연기가 돋보였던 영화!스파이더맨에서 늙어보이기만 했던 커스틴 ...      1   \n",
       "\n",
       "                                           tokenized  \\\n",
       "0                        [아, 더빙, .., 진짜, 짜증나네요, 목소리]   \n",
       "1  [흠, ..., 포스터, 보고, 초딩, 영화, 줄, ...., 오버, 연기, 조차,...   \n",
       "2                   [너, 무재, 밓었, 다그, 래서, 보는것을, 추천, 다]   \n",
       "3        [교도소, 이야기, 구먼, .., 솔직히, 재미, 없다, .., 평점, 조정]   \n",
       "4  [사이, 몬페, 그, 익살스런, 연기, 돋보였던, 영화, !, 스파이더맨, 에서, ...   \n",
       "\n",
       "                                          word_index  word_index_length  \n",
       "0                                 [3, 4, 5, 6, 7, 8]                  6  \n",
       "1      [3, 4, 5, 6, 7, 8, 9, 10, 11, 12, 13, 14, 15]                 13  \n",
       "2                          [3, 4, 5, 6, 7, 8, 9, 10]                  8  \n",
       "3                    [3, 4, 5, 5, 6, 7, 8, 5, 9, 10]                 10  \n",
       "4  [3, 4, 5, 6, 12, 7, 8, 8, 9, 10, 11, 12, 13, 1...                 18  "
      ]
     },
     "execution_count": 53,
     "metadata": {},
     "output_type": "execute_result"
    }
   ],
   "source": [
    "train_data.head()"
   ]
  },
  {
   "cell_type": "code",
   "execution_count": 54,
   "id": "f0ed7c05",
   "metadata": {},
   "outputs": [
    {
     "data": {
      "text/plain": [
       "(array([2.3605e+04, 5.1311e+04, 3.4000e+04, 1.5080e+04, 8.1870e+03,\n",
       "        4.7810e+03, 3.4320e+03, 2.1610e+03, 2.4290e+03, 2.6230e+03,\n",
       "        1.7130e+03, 4.5500e+02, 1.6700e+02, 3.8000e+01, 9.0000e+00,\n",
       "        0.0000e+00, 0.0000e+00, 1.0000e+00, 1.0000e+00, 2.0000e+00]),\n",
       " array([ 0.  ,  4.75,  9.5 , 14.25, 19.  , 23.75, 28.5 , 33.25, 38.  ,\n",
       "        42.75, 47.5 , 52.25, 57.  , 61.75, 66.5 , 71.25, 76.  , 80.75,\n",
       "        85.5 , 90.25, 95.  ]),\n",
       " <BarContainer object of 20 artists>)"
      ]
     },
     "execution_count": 54,
     "metadata": {},
     "output_type": "execute_result"
    },
    {
     "data": {
      "image/png": "[encoded data removed]",
      "text/plain": [
       "<Figure size 500x300 with 1 Axes>"
      ]
     },
     "metadata": {},
     "output_type": "display_data"
    }
   ],
   "source": [
    "plt.figure(figsize=(5,3))\n",
    "plt.hist(train_data['word_index_length'], bins=20)"
   ]
  },
  {
   "cell_type": "code",
   "execution_count": 55,
   "id": "bf17a318",
   "metadata": {},
   "outputs": [
    {
     "data": {
      "text/plain": [
       "(array([4.6380e+03, 1.4190e+04, 1.1246e+04, 7.7860e+03, 4.1460e+03,\n",
       "        1.9400e+03, 1.3820e+03, 1.0330e+03, 8.6000e+02, 6.0600e+02,\n",
       "        6.4200e+02, 7.3600e+02, 4.7200e+02, 2.0400e+02, 6.9000e+01,\n",
       "        2.9000e+01, 1.4000e+01, 3.0000e+00, 0.0000e+00, 1.0000e+00]),\n",
       " array([ 0.  ,  3.95,  7.9 , 11.85, 15.8 , 19.75, 23.7 , 27.65, 31.6 ,\n",
       "        35.55, 39.5 , 43.45, 47.4 , 51.35, 55.3 , 59.25, 63.2 , 67.15,\n",
       "        71.1 , 75.05, 79.  ]),\n",
       " <BarContainer object of 20 artists>)"
      ]
     },
     "execution_count": 55,
     "metadata": {},
     "output_type": "execute_result"
    },
    {
     "data": {
      "image/png": "[encoded data removed]",
      "text/plain": [
       "<Figure size 500x300 with 1 Axes>"
      ]
     },
     "metadata": {},
     "output_type": "display_data"
    }
   ],
   "source": [
    "plt.figure(figsize=(5,3))\n",
    "plt.hist(test_data['word_index_length'], bins=20)"
   ]
  },
  {
   "cell_type": "code",
   "execution_count": 56,
   "id": "78a64777",
   "metadata": {},
   "outputs": [
    {
     "data": {
      "text/plain": [
       "id                   126253\n",
       "document             126253\n",
       "label                126253\n",
       "tokenized            126253\n",
       "word_index           126253\n",
       "word_index_length    126253\n",
       "dtype: int64"
      ]
     },
     "execution_count": 56,
     "metadata": {},
     "output_type": "execute_result"
    }
   ],
   "source": [
    "train_data[train_data['word_index_length'] < 20].count()"
   ]
  },
  {
   "cell_type": "code",
   "execution_count": 57,
   "id": "e5dd81eb",
   "metadata": {
    "scrolled": true
   },
   "outputs": [
    {
     "data": {
      "text/html": [
       "<div>\n",
       "<style scoped>\n",
       "    .dataframe tbody tr th:only-of-type {\n",
       "        vertical-align: middle;\n",
       "    }\n",
       "\n",
       "    .dataframe tbody tr th {\n",
       "        vertical-align: top;\n",
       "    }\n",
       "\n",
       "    .dataframe thead th {\n",
       "        text-align: right;\n",
       "    }\n",
       "</style>\n",
       "<table border=\"1\" class=\"dataframe\">\n",
       "  <thead>\n",
       "    <tr style=\"text-align: right;\">\n",
       "      <th></th>\n",
       "      <th>id</th>\n",
       "      <th>document</th>\n",
       "      <th>label</th>\n",
       "      <th>tokenized</th>\n",
       "      <th>word_index</th>\n",
       "      <th>word_index_length</th>\n",
       "    </tr>\n",
       "  </thead>\n",
       "  <tbody>\n",
       "    <tr>\n",
       "      <th>65113</th>\n",
       "      <td>8520307</td>\n",
       "      <td>강추@강추@강추@강추@강추@강추@강추@강추@강추@강추@강추@강추@강추@강추@강추@강...</td>\n",
       "      <td>1</td>\n",
       "      <td>[강추, @, 강추, @, 강추, @, 강추, @, 강추, @, 강추, @, 강추,...</td>\n",
       "      <td>[5, 6, 5, 6, 5, 6, 5, 6, 5, 6, 5, 6, 5, 6, 5, ...</td>\n",
       "      <td>93</td>\n",
       "    </tr>\n",
       "    <tr>\n",
       "      <th>116829</th>\n",
       "      <td>10002342</td>\n",
       "      <td>선유야 사랑해 우리 좀있다가 보자!!♥!!♥!!♥!!♥!!♥!!♥!!♥!!♥!!♥!...</td>\n",
       "      <td>1</td>\n",
       "      <td>[선, 유야, 사랑, 해, 우리, 좀있다가, 보자, !!, ♥, !!, ♥, !!,...</td>\n",
       "      <td>[3, 4, 4, 16, 3, 3, 6, 11, 6, 11, 6, 11, 6, 11...</td>\n",
       "      <td>88</td>\n",
       "    </tr>\n",
       "    <tr>\n",
       "      <th>126174</th>\n",
       "      <td>9230852</td>\n",
       "      <td>내평점은쓰레기임 진심평점줬더만일분만에삭제댓음티비서 내돈주고만원내고제돈주고내평썻더만 ...</td>\n",
       "      <td>0</td>\n",
       "      <td>[내, 평점, 쓰레기, 임, 진심, 평점, 줬, 더, 만일분, 만에, 삭제, 댓, ...</td>\n",
       "      <td>[11, 9, 4, 14, 4, 9, 7, 7, 3, 4, 7, 5, 9, 17, ...</td>\n",
       "      <td>81</td>\n",
       "    </tr>\n",
       "    <tr>\n",
       "      <th>149047</th>\n",
       "      <td>7978306</td>\n",
       "      <td>임시완 보아 커플 최다니엘 김지원 커플 보러 가자 연장 고 고 고 고 고 고 고 고...</td>\n",
       "      <td>1</td>\n",
       "      <td>[임시완, 보아, 커플, 최다니엘, 김지원, 커플, 보러, 가자, 연장, 고, 고,...</td>\n",
       "      <td>[3, 22, 8, 3, 3, 8, 6, 3, 12, 6, 6, 6, 6, 6, 6...</td>\n",
       "      <td>95</td>\n",
       "    </tr>\n",
       "  </tbody>\n",
       "</table>\n",
       "</div>"
      ],
      "text/plain": [
       "              id                                           document  label  \\\n",
       "65113    8520307  강추@강추@강추@강추@강추@강추@강추@강추@강추@강추@강추@강추@강추@강추@강추@강...      1   \n",
       "116829  10002342  선유야 사랑해 우리 좀있다가 보자!!♥!!♥!!♥!!♥!!♥!!♥!!♥!!♥!!♥!...      1   \n",
       "126174   9230852  내평점은쓰레기임 진심평점줬더만일분만에삭제댓음티비서 내돈주고만원내고제돈주고내평썻더만 ...      0   \n",
       "149047   7978306  임시완 보아 커플 최다니엘 김지원 커플 보러 가자 연장 고 고 고 고 고 고 고 고...      1   \n",
       "\n",
       "                                                tokenized  \\\n",
       "65113   [강추, @, 강추, @, 강추, @, 강추, @, 강추, @, 강추, @, 강추,...   \n",
       "116829  [선, 유야, 사랑, 해, 우리, 좀있다가, 보자, !!, ♥, !!, ♥, !!,...   \n",
       "126174  [내, 평점, 쓰레기, 임, 진심, 평점, 줬, 더, 만일분, 만에, 삭제, 댓, ...   \n",
       "149047  [임시완, 보아, 커플, 최다니엘, 김지원, 커플, 보러, 가자, 연장, 고, 고,...   \n",
       "\n",
       "                                               word_index  word_index_length  \n",
       "65113   [5, 6, 5, 6, 5, 6, 5, 6, 5, 6, 5, 6, 5, 6, 5, ...                 93  \n",
       "116829  [3, 4, 4, 16, 3, 3, 6, 11, 6, 11, 6, 11, 6, 11...                 88  \n",
       "126174  [11, 9, 4, 14, 4, 9, 7, 7, 3, 4, 7, 5, 9, 17, ...                 81  \n",
       "149047  [3, 22, 8, 3, 3, 8, 6, 3, 12, 6, 6, 6, 6, 6, 6...                 95  "
      ]
     },
     "execution_count": 57,
     "metadata": {},
     "output_type": "execute_result"
    }
   ],
   "source": [
    "train_data[train_data['word_index_length'] > 80]"
   ]
  },
  {
   "cell_type": "markdown",
   "id": "af42bcf8",
   "metadata": {},
   "source": [
    "## word embedding"
   ]
  },
  {
   "cell_type": "code",
   "execution_count": 58,
   "id": "fbeddc06",
   "metadata": {
    "scrolled": true
   },
   "outputs": [
    {
     "data": {
      "text/plain": [
       "122876"
      ]
     },
     "execution_count": 58,
     "metadata": {},
     "output_type": "execute_result"
    }
   ],
   "source": [
    "vocab_size = df_unique.shape[0]\n",
    "vocab_size"
   ]
  },
  {
   "cell_type": "code",
   "execution_count": 59,
   "id": "80f31831",
   "metadata": {},
   "outputs": [],
   "source": [
    "seq_train = train_data['word_index']"
   ]
  },
  {
   "cell_type": "code",
   "execution_count": 60,
   "id": "3f69a9a5",
   "metadata": {},
   "outputs": [],
   "source": [
    "seq_test = test_data['word_index']"
   ]
  },
  {
   "cell_type": "code",
   "execution_count": 61,
   "id": "0b50ec7f",
   "metadata": {},
   "outputs": [],
   "source": [
    "X_train = pad_sequences(seq_train, maxlen=max_sequence_length, padding='post')"
   ]
  },
  {
   "cell_type": "code",
   "execution_count": 62,
   "id": "95a1403f",
   "metadata": {},
   "outputs": [],
   "source": [
    "X_test = pad_sequences(seq_test, maxlen=max_sequence_length, padding='post')"
   ]
  },
  {
   "cell_type": "code",
   "execution_count": null,
   "id": "b4e74dd3",
   "metadata": {},
   "outputs": [],
   "source": []
  },
  {
   "cell_type": "markdown",
   "id": "ac6272b0",
   "metadata": {},
   "source": [
    "# 모델링"
   ]
  },
  {
   "cell_type": "markdown",
   "id": "9d02f2fe",
   "metadata": {},
   "source": [
    "- pad_sequences의 max_sequence_length에 따라 Conv1D 레이어 필터 크기에 제한이 있음\n",
    "    - 최대 시퀀스 길이 30에 필터 크기는 5 적용"
   ]
  },
  {
   "cell_type": "code",
   "execution_count": 63,
   "id": "50e45d7c",
   "metadata": {},
   "outputs": [
    {
     "name": "stdout",
     "output_type": "stream",
     "text": [
      "Model: \"sequential\"\n",
      "_________________________________________________________________\n",
      " Layer (type)                Output Shape              Param #   \n",
      "=================================================================\n",
      " embedding (Embedding)       (None, None, 100)         12287600  \n",
      "                                                                 \n",
      " conv1d (Conv1D)             (None, None, 16)          8016      \n",
      "                                                                 \n",
      " max_pooling1d (MaxPooling1  (None, None, 16)          0         \n",
      " D)                                                              \n",
      "                                                                 \n",
      " conv1d_1 (Conv1D)           (None, None, 16)          1296      \n",
      "                                                                 \n",
      " global_max_pooling1d (Glob  (None, 16)                0         \n",
      " alMaxPooling1D)                                                 \n",
      "                                                                 \n",
      " dense (Dense)               (None, 8)                 136       \n",
      "                                                                 \n",
      " dense_1 (Dense)             (None, 1)                 9         \n",
      "                                                                 \n",
      "=================================================================\n",
      "Total params: 12297057 (46.91 MB)\n",
      "Trainable params: 12297057 (46.91 MB)\n",
      "Non-trainable params: 0 (0.00 Byte)\n",
      "_________________________________________________________________\n"
     ]
    }
   ],
   "source": [
    "model = tf.keras.Sequential()\n",
    "model.add(tf.keras.layers.Embedding(vocab_size, word_vector_dim, input_shape=(None,)))\n",
    "model.add(tf.keras.layers.Conv1D(16, 5, activation='relu'))\n",
    "model.add(tf.keras.layers.MaxPooling1D(5))\n",
    "model.add(tf.keras.layers.Conv1D(16, 5, activation='relu'))\n",
    "model.add(tf.keras.layers.GlobalMaxPooling1D())\n",
    "model.add(tf.keras.layers.Dense(8, activation='relu'))\n",
    "model.add(tf.keras.layers.Dense(1, activation='sigmoid'))  # 최종 출력은 긍정/부정을 나타내는 1dim 입니다.\n",
    "\n",
    "model.compile(optimizer='adam', loss='binary_crossentropy', metrics=['accuracy'])\n",
    "model.summary()"
   ]
  },
  {
   "cell_type": "markdown",
   "id": "93387cc5",
   "metadata": {},
   "source": [
    "## 학습용/테스트용 데이터 준비"
   ]
  },
  {
   "cell_type": "code",
   "execution_count": 64,
   "id": "274a1adc",
   "metadata": {},
   "outputs": [],
   "source": [
    "# X_train, X_test, y_train, y_test = train_test_split(padded_sequences, labels, test_size=0.2, random_state=42)"
   ]
  },
  {
   "cell_type": "code",
   "execution_count": 65,
   "id": "753537c3",
   "metadata": {},
   "outputs": [],
   "source": [
    "# 타겟 레이블\n",
    "y_train = train_data['label']"
   ]
  },
  {
   "cell_type": "code",
   "execution_count": 66,
   "id": "ba808baf",
   "metadata": {},
   "outputs": [],
   "source": [
    "y_test = test_data['label']"
   ]
  },
  {
   "cell_type": "code",
   "execution_count": 67,
   "id": "27227a9d",
   "metadata": {},
   "outputs": [
    {
     "data": {
      "text/plain": [
       "((149995, 30), (49997, 30), (149995,), (49997,))"
      ]
     },
     "execution_count": 67,
     "metadata": {},
     "output_type": "execute_result"
    }
   ],
   "source": [
    "X_train.shape, X_test.shape, y_train.shape, y_test.shape"
   ]
  },
  {
   "cell_type": "markdown",
   "id": "4e51bdfe",
   "metadata": {},
   "source": [
    "## 학습"
   ]
  },
  {
   "cell_type": "code",
   "execution_count": 69,
   "id": "a8ec186b",
   "metadata": {},
   "outputs": [
    {
     "name": "stdout",
     "output_type": "stream",
     "text": [
      "Epoch 1/10\n",
      "293/293 [==============================] - 12s 41ms/step - loss: 0.6693 - accuracy: 0.5831\n",
      "Epoch 2/10\n",
      "293/293 [==============================] - 12s 42ms/step - loss: 0.6624 - accuracy: 0.5933\n",
      "Epoch 3/10\n",
      "293/293 [==============================] - 11s 38ms/step - loss: 0.6582 - accuracy: 0.5998\n",
      "Epoch 4/10\n",
      "293/293 [==============================] - 12s 40ms/step - loss: 0.6555 - accuracy: 0.6018\n",
      "Epoch 5/10\n",
      "293/293 [==============================] - 12s 39ms/step - loss: 0.6531 - accuracy: 0.6049\n",
      "Epoch 6/10\n",
      "293/293 [==============================] - 11s 39ms/step - loss: 0.6514 - accuracy: 0.6071\n",
      "Epoch 7/10\n",
      "293/293 [==============================] - 11s 39ms/step - loss: 0.6499 - accuracy: 0.6096\n",
      "Epoch 8/10\n",
      "293/293 [==============================] - 11s 37ms/step - loss: 0.6487 - accuracy: 0.6099\n",
      "Epoch 9/10\n",
      "293/293 [==============================] - 11s 37ms/step - loss: 0.6478 - accuracy: 0.6115\n",
      "Epoch 10/10\n",
      "293/293 [==============================] - 11s 37ms/step - loss: 0.6467 - accuracy: 0.6130\n"
     ]
    }
   ],
   "source": [
    "# Train the model\n",
    "result = model.fit(X_train, y_train, batch_size=512, epochs=10)"
   ]
  },
  {
   "cell_type": "markdown",
   "id": "d7689137",
   "metadata": {},
   "source": [
    "# loss, accuracy"
   ]
  },
  {
   "cell_type": "code",
   "execution_count": 70,
   "id": "dff1510e",
   "metadata": {},
   "outputs": [
    {
     "name": "stdout",
     "output_type": "stream",
     "text": [
      "1563/1563 [==============================] - 2s 630us/step - loss: 0.6583 - accuracy: 0.5964\n",
      "Test Loss: 0.6583\n",
      "Test Accuracy: 0.5964\n"
     ]
    }
   ],
   "source": [
    "# Evaluate the model\n",
    "loss, accuracy = model.evaluate(X_test, y_test)\n",
    "print(f\"Test Loss: {loss:.4f}\")\n",
    "print(f\"Test Accuracy: {accuracy:.4f}\")"
   ]
  },
  {
   "cell_type": "markdown",
   "id": "41834bfc",
   "metadata": {},
   "source": [
    "Loss, Accuracy.... 수치가 엉망..."
   ]
  },
  {
   "cell_type": "code",
   "execution_count": 71,
   "id": "6c9e6ae2",
   "metadata": {},
   "outputs": [
    {
     "data": {
      "image/png": "[encoded data removed]",
      "text/plain": [
       "<Figure size 1000x500 with 2 Axes>"
      ]
     },
     "metadata": {},
     "output_type": "display_data"
    }
   ],
   "source": [
    "plt.figure(figsize=(10, 5))\n",
    "epochs = range(1, len(result.history['loss']) + 1)\n",
    "\n",
    "# loss\n",
    "plt.subplot(1, 2, 1)\n",
    "plt.plot(epochs, result.history['loss'], 'bo', label='loss')\n",
    "plt.title('Loss')\n",
    "plt.xlabel('Epochs')\n",
    "plt.ylabel('Loss')\n",
    "plt.xticks(range(1, len(epochs) + 1))\n",
    "plt.legend()\n",
    "\n",
    "# accuracy\n",
    "plt.subplot(1, 2, 2)\n",
    "plt.plot(epochs, result.history['accuracy'], 'bo', label='accuracy')\n",
    "plt.title('Accuracy')\n",
    "plt.xlabel('Epochs')\n",
    "plt.ylabel('Accuracy')\n",
    "plt.xticks(range(1, len(epochs) + 1))\n",
    "plt.legend()\n",
    "\n",
    "plt.tight_layout()\n",
    "plt.show()"
   ]
  },
  {
   "cell_type": "markdown",
   "id": "5b7ddd4d",
   "metadata": {},
   "source": [
    "# load_data() 구성"
   ]
  },
  {
   "cell_type": "code",
   "execution_count": 165,
   "id": "57247e4b",
   "metadata": {},
   "outputs": [],
   "source": [
    "df_train = train_data[:10].copy()\n",
    "df_test = test_data[:10].copy()"
   ]
  },
  {
   "cell_type": "code",
   "execution_count": 155,
   "id": "c972dd0a",
   "metadata": {},
   "outputs": [],
   "source": [
    "# na 제거\n",
    "def remove_na(df):\n",
    "    nan_label = df[df.isna() == True]\n",
    "    \n",
    "    for i in nan_label.index:\n",
    "        df.drop(index=i, inplace=True)\n",
    "        \n",
    "    return df"
   ]
  },
  {
   "cell_type": "code",
   "execution_count": 159,
   "id": "533d2496",
   "metadata": {},
   "outputs": [],
   "source": [
    "# 토큰화\n",
    "def tokenize(df):\n",
    "    return df.apply(okt.morphs)"
   ]
  },
  {
   "cell_type": "code",
   "execution_count": 166,
   "id": "0e3a4987",
   "metadata": {},
   "outputs": [],
   "source": [
    "# 불용어 제거\n",
    "def remove_stopwords(df):\n",
    "    return df.apply(lambda x: [word for word in x if word not in stopwords])"
   ]
  },
  {
   "cell_type": "code",
   "execution_count": 175,
   "id": "0ed9def1",
   "metadata": {},
   "outputs": [],
   "source": [
    "def load_data(train_data, test_data):\n",
    "    \n",
    "    \"\"\"\n",
    "    - 데이터의 중복 제거\n",
    "    - NaN 결측치 제거\n",
    "    - 한국어 토크나이저로 토큰화\n",
    "    - 불용어(Stopwords) 제거\n",
    "    - 사전word_to_index 구성\n",
    "    - 텍스트 스트링을 사전 인덱스 스트링으로 변환\n",
    "    - X_train, y_train, X_test, y_test, word_to_index 리턴\n",
    "    \"\"\"\n",
    "    \n",
    "    # na 제거\n",
    "    train_data.loc[:, 'document'] = remove_na(train_data['document'])\n",
    "    test_data.loc[:, 'document'] = remove_na(test_data['document'])\n",
    "    \n",
    "    # tokenize\n",
    "    train_data['tokenized'] = tokenize(train_data['document'])\n",
    "    test_data['tokenized'] = tokenize(test_data['document'])\n",
    "    \n",
    "    # 불용어 제거\n",
    "    train_data.loc[:, 'tokenized'] = remove_stopwords(train_data['tokenized'])\n",
    "    test_data.loc[:, 'tokenized'] = remove_stopwords(test_data['tokenized'])\n",
    "    \n",
    "    # 고유단어\n",
    "    #df_merge = pd.concat([train_data['tokenized'], test_data['tokenized']])\n",
    "    #unique_words = set([word for words in df_merge for word in words])\n",
    "    \n",
    "    # word to index\n",
    "    word_index_dict = {}\n",
    "    \n",
    "    def words_to_indices(texts):    \n",
    "        index = 3  # Start indexing from 1 (0 can be used for padding or reserved for special tokens)\n",
    "        indices = []\n",
    "        for word in texts:\n",
    "            if word not in word_index_dict:\n",
    "                word_index_dict[word] = index\n",
    "                index += 1\n",
    "            indices.append(word_index_dict[word])\n",
    "        return indices\n",
    "    \n",
    "    train_data.loc[:, 'word_index'] = train_data['tokenized'].apply(words_to_indices)\n",
    "    test_data.loc[:, 'word_index'] = test_data['tokenized'].apply(words_to_indices)\n",
    "    \n",
    "    \n",
    "    # 임베딩\n",
    "    seq_train = train_data['word_index']\n",
    "    seq_test = test_data['word_index']\n",
    "    X_train = pad_sequences(seq_train, maxlen=max_sequence_length, padding='post')\n",
    "    X_test = pad_sequences(seq_test, maxlen=max_sequence_length, padding='post')\n",
    "    \n",
    "    return X_train, X_test, train_data['label'], test_data['label'], word_index_dict"
   ]
  },
  {
   "cell_type": "code",
   "execution_count": 176,
   "id": "439c03b1",
   "metadata": {},
   "outputs": [],
   "source": [
    "X_train, X_test, y_train, y_test, word_to_index = load_data(df_train, df_test)"
   ]
  },
  {
   "cell_type": "code",
   "execution_count": 171,
   "id": "89bfcf6b",
   "metadata": {},
   "outputs": [
    {
     "data": {
      "text/plain": [
       "209"
      ]
     },
     "execution_count": 171,
     "metadata": {},
     "output_type": "execute_result"
    }
   ],
   "source": [
    "len(word_to_index)"
   ]
  },
  {
   "cell_type": "code",
   "execution_count": 178,
   "id": "65ead194",
   "metadata": {},
   "outputs": [
    {
     "data": {
      "text/plain": [
       "(array([3, 4, 5, 6, 7, 8, 0, 0, 0, 0, 0, 0, 0, 0, 0, 0, 0, 0, 0, 0, 0, 0,\n",
       "        0, 0, 0, 0, 0, 0, 0, 0], dtype=int32),\n",
       " array([3, 4, 0, 0, 0, 0, 0, 0, 0, 0, 0, 0, 0, 0, 0, 0, 0, 0, 0, 0, 0, 0,\n",
       "        0, 0, 0, 0, 0, 0, 0, 0], dtype=int32),\n",
       " 0,\n",
       " 1)"
      ]
     },
     "execution_count": 178,
     "metadata": {},
     "output_type": "execute_result"
    }
   ],
   "source": [
    "X_train[0], X_test[0], y_train[0], y_test[0]"
   ]
  },
  {
   "cell_type": "markdown",
   "id": "960e79f3",
   "metadata": {},
   "source": [
    "# word2vec"
   ]
  },
  {
   "cell_type": "code",
   "execution_count": 13,
   "id": "c34af90f",
   "metadata": {},
   "outputs": [],
   "source": [
    "from gensim.models.keyedvectors import Word2VecKeyedVectors\n",
    "\n",
    "word2vec_file_path = './word2vec_ko.model'\n",
    "wv_model = Word2VecKeyedVectors.load(word2vec_file_path)\n",
    "wv = wv_model.wv"
   ]
  },
  {
   "cell_type": "code",
   "execution_count": 14,
   "id": "79d28a51",
   "metadata": {},
   "outputs": [],
   "source": [
    "def words_to_indices_wv(texts):\n",
    "    \n",
    "    indices = []\n",
    "    for word in texts:\n",
    "        if word in wv:\n",
    "            indices.append(wv[word])\n",
    "\n",
    "    return indices"
   ]
  },
  {
   "cell_type": "code",
   "execution_count": 15,
   "id": "38c426a3",
   "metadata": {},
   "outputs": [],
   "source": [
    "train_data.loc[:, 'wv'] = train_data['tokenized'].apply(words_to_indices_wv)"
   ]
  },
  {
   "cell_type": "code",
   "execution_count": 111,
   "id": "223dde01",
   "metadata": {},
   "outputs": [],
   "source": [
    "test_data.loc[:, 'wv'] = test_data['tokenized'].apply(words_to_indices_wv)"
   ]
  },
  {
   "cell_type": "code",
   "execution_count": 188,
   "id": "1c9bf58d",
   "metadata": {},
   "outputs": [
    {
     "data": {
      "text/plain": [
       "302960"
      ]
     },
     "execution_count": 188,
     "metadata": {},
     "output_type": "execute_result"
    }
   ],
   "source": [
    "vocab_size = len(wv)\n",
    "vocab_size"
   ]
  },
  {
   "cell_type": "code",
   "execution_count": 144,
   "id": "7eff782c",
   "metadata": {},
   "outputs": [],
   "source": [
    "seq_train_wv = train_data['wv']"
   ]
  },
  {
   "cell_type": "code",
   "execution_count": 151,
   "id": "de78cb6e",
   "metadata": {},
   "outputs": [],
   "source": [
    "seq_test_wv = test_data['wv']"
   ]
  },
  {
   "cell_type": "code",
   "execution_count": 180,
   "id": "5403b72e",
   "metadata": {},
   "outputs": [
    {
     "data": {
      "text/plain": [
       "((149995,), (49997,))"
      ]
     },
     "execution_count": 180,
     "metadata": {},
     "output_type": "execute_result"
    }
   ],
   "source": [
    "seq_train_wv.shape, seq_test_wv.shape"
   ]
  },
  {
   "cell_type": "code",
   "execution_count": 186,
   "id": "03e4eaf9",
   "metadata": {},
   "outputs": [
    {
     "data": {
      "text/plain": [
       "(100,)"
      ]
     },
     "execution_count": 186,
     "metadata": {},
     "output_type": "execute_result"
    }
   ],
   "source": [
    "seq_train_wv[0][0].shape"
   ]
  },
  {
   "cell_type": "code",
   "execution_count": 146,
   "id": "bfa43111",
   "metadata": {},
   "outputs": [],
   "source": [
    "df_len = seq_train_wv.apply(lambda x: len(x))"
   ]
  },
  {
   "cell_type": "code",
   "execution_count": 147,
   "id": "86b78319",
   "metadata": {},
   "outputs": [
    {
     "data": {
      "text/plain": [
       "(array([4.0946e+04, 5.3892e+04, 2.7923e+04, 9.2170e+03, 6.0830e+03,\n",
       "        3.9010e+03, 2.5950e+03, 2.7120e+03, 1.7810e+03, 6.1200e+02,\n",
       "        2.5600e+02, 5.7000e+01, 1.2000e+01, 3.0000e+00, 2.0000e+00,\n",
       "        1.0000e+00, 0.0000e+00, 0.0000e+00, 1.0000e+00, 1.0000e+00]),\n",
       " array([ 0. ,  4.7,  9.4, 14.1, 18.8, 23.5, 28.2, 32.9, 37.6, 42.3, 47. ,\n",
       "        51.7, 56.4, 61.1, 65.8, 70.5, 75.2, 79.9, 84.6, 89.3, 94. ]),\n",
       " <BarContainer object of 20 artists>)"
      ]
     },
     "execution_count": 147,
     "metadata": {},
     "output_type": "execute_result"
    },
    {
     "data": {
      "image/png": "[encoded data removed]",
      "text/plain": [
       "<Figure size 500x300 with 1 Axes>"
      ]
     },
     "metadata": {},
     "output_type": "display_data"
    }
   ],
   "source": [
    "plt.figure(figsize=(5,3))\n",
    "plt.hist(df_len, bins=20)"
   ]
  },
  {
   "cell_type": "code",
   "execution_count": 19,
   "id": "4ff38cb4",
   "metadata": {},
   "outputs": [],
   "source": [
    "max_sequence_length = 30"
   ]
  },
  {
   "cell_type": "code",
   "execution_count": 149,
   "id": "d0633b88",
   "metadata": {},
   "outputs": [],
   "source": [
    "X_train_wv = pad_sequences(seq_train_wv, maxlen=max_sequence_length, padding='post')"
   ]
  },
  {
   "cell_type": "code",
   "execution_count": 153,
   "id": "6f4c4d99",
   "metadata": {},
   "outputs": [],
   "source": [
    "X_test_wv = pad_sequences(seq_test_wv, maxlen=max_sequence_length, padding='post')"
   ]
  },
  {
   "cell_type": "code",
   "execution_count": 154,
   "id": "44d8e623",
   "metadata": {},
   "outputs": [
    {
     "data": {
      "text/plain": [
       "((149995, 30, 100), (49997, 30, 100))"
      ]
     },
     "execution_count": 154,
     "metadata": {},
     "output_type": "execute_result"
    }
   ],
   "source": [
    "X_train_wv.shape, X_test_wv.shape"
   ]
  },
  {
   "cell_type": "code",
   "execution_count": 51,
   "id": "924e70bd",
   "metadata": {},
   "outputs": [
    {
     "name": "stdout",
     "output_type": "stream",
     "text": [
      "Model: \"sequential_11\"\n",
      "_________________________________________________________________\n",
      " Layer (type)                Output Shape              Param #   \n",
      "=================================================================\n",
      " embedding_10 (Embedding)    (None, None, 100)         30296000  \n",
      "                                                                 \n",
      " conv1d_15 (Conv1D)          (None, None, 16)          11216     \n",
      "                                                                 \n",
      " max_pooling1d_9 (MaxPoolin  (None, None, 16)          0         \n",
      " g1D)                                                            \n",
      "                                                                 \n",
      " conv1d_16 (Conv1D)          (None, None, 16)          1808      \n",
      "                                                                 \n",
      " global_max_pooling1d_5 (Gl  (None, 16)                0         \n",
      " obalMaxPooling1D)                                               \n",
      "                                                                 \n",
      " dense_10 (Dense)            (None, 8)                 136       \n",
      "                                                                 \n",
      " dense_11 (Dense)            (None, 1)                 9         \n",
      "                                                                 \n",
      "=================================================================\n",
      "Total params: 30309169 (115.62 MB)\n",
      "Trainable params: 30309169 (115.62 MB)\n",
      "Non-trainable params: 0 (0.00 Byte)\n",
      "_________________________________________________________________\n"
     ]
    }
   ],
   "source": [
    "model = tf.keras.Sequential()\n",
    "model.add(tf.keras.layers.Embedding(vocab_size, word_vector_dim, input_shape=(None,)))\n",
    "model.add(tf.keras.layers.Conv1D(16, 7, activation='relu'))\n",
    "model.add(tf.keras.layers.MaxPooling1D(5))\n",
    "model.add(tf.keras.layers.Conv1D(16, 7, activation='relu'))\n",
    "model.add(tf.keras.layers.GlobalMaxPooling1D())\n",
    "model.add(tf.keras.layers.Dense(8, activation='relu'))\n",
    "model.add(tf.keras.layers.Dense(1, activation='sigmoid'))\n",
    "\n",
    "model.compile(optimizer='adam', loss='binary_crossentropy', metrics=['accuracy'])\n",
    "model.summary()"
   ]
  },
  {
   "cell_type": "code",
   "execution_count": 192,
   "id": "bddfb245",
   "metadata": {
    "collapsed": true
   },
   "outputs": [
    {
     "ename": "InvalidArgumentError",
     "evalue": "Graph execution error:\n\nDetected at node 'sequential_14/embedding_13/embedding_lookup' defined at (most recent call last):\n    File \"/Users/salgu/miniconda3/envs/py38/lib/python3.8/runpy.py\", line 194, in _run_module_as_main\n      return _run_code(code, main_globals, None,\n    File \"/Users/salgu/miniconda3/envs/py38/lib/python3.8/runpy.py\", line 87, in _run_code\n      exec(code, run_globals)\n    File \"/Users/salgu/miniconda3/envs/py38/lib/python3.8/site-packages/ipykernel_launcher.py\", line 17, in <module>\n      app.launch_new_instance()\n    File \"/Users/salgu/miniconda3/envs/py38/lib/python3.8/site-packages/traitlets/config/application.py\", line 1043, in launch_instance\n      app.start()\n    File \"/Users/salgu/miniconda3/envs/py38/lib/python3.8/site-packages/ipykernel/kernelapp.py\", line 728, in start\n      self.io_loop.start()\n    File \"/Users/salgu/miniconda3/envs/py38/lib/python3.8/site-packages/tornado/platform/asyncio.py\", line 195, in start\n      self.asyncio_loop.run_forever()\n    File \"/Users/salgu/miniconda3/envs/py38/lib/python3.8/asyncio/base_events.py\", line 570, in run_forever\n      self._run_once()\n    File \"/Users/salgu/miniconda3/envs/py38/lib/python3.8/asyncio/base_events.py\", line 1859, in _run_once\n      handle._run()\n    File \"/Users/salgu/miniconda3/envs/py38/lib/python3.8/asyncio/events.py\", line 81, in _run\n      self._context.run(self._callback, *self._args)\n    File \"/Users/salgu/miniconda3/envs/py38/lib/python3.8/site-packages/ipykernel/kernelbase.py\", line 513, in dispatch_queue\n      await self.process_one()\n    File \"/Users/salgu/miniconda3/envs/py38/lib/python3.8/site-packages/ipykernel/kernelbase.py\", line 502, in process_one\n      await dispatch(*args)\n    File \"/Users/salgu/miniconda3/envs/py38/lib/python3.8/site-packages/ipykernel/kernelbase.py\", line 409, in dispatch_shell\n      await result\n    File \"/Users/salgu/miniconda3/envs/py38/lib/python3.8/site-packages/ipykernel/kernelbase.py\", line 729, in execute_request\n      reply_content = await reply_content\n    File \"/Users/salgu/miniconda3/envs/py38/lib/python3.8/site-packages/ipykernel/ipkernel.py\", line 422, in do_execute\n      res = shell.run_cell(\n    File \"/Users/salgu/miniconda3/envs/py38/lib/python3.8/site-packages/ipykernel/zmqshell.py\", line 540, in run_cell\n      return super().run_cell(*args, **kwargs)\n    File \"/Users/salgu/miniconda3/envs/py38/lib/python3.8/site-packages/IPython/core/interactiveshell.py\", line 3009, in run_cell\n      result = self._run_cell(\n    File \"/Users/salgu/miniconda3/envs/py38/lib/python3.8/site-packages/IPython/core/interactiveshell.py\", line 3064, in _run_cell\n      result = runner(coro)\n    File \"/Users/salgu/miniconda3/envs/py38/lib/python3.8/site-packages/IPython/core/async_helpers.py\", line 129, in _pseudo_sync_runner\n      coro.send(None)\n    File \"/Users/salgu/miniconda3/envs/py38/lib/python3.8/site-packages/IPython/core/interactiveshell.py\", line 3269, in run_cell_async\n      has_raised = await self.run_ast_nodes(code_ast.body, cell_name,\n    File \"/Users/salgu/miniconda3/envs/py38/lib/python3.8/site-packages/IPython/core/interactiveshell.py\", line 3448, in run_ast_nodes\n      if await self.run_code(code, result, async_=asy):\n    File \"/Users/salgu/miniconda3/envs/py38/lib/python3.8/site-packages/IPython/core/interactiveshell.py\", line 3508, in run_code\n      exec(code_obj, self.user_global_ns, self.user_ns)\n    File \"/var/folders/r0/w084nh2s0v3fstg3n70027500000gn/T/ipykernel_7424/2073901463.py\", line 2, in <module>\n      model.fit(X_train_wv, y_train, batch_size=32, epochs=1)\n    File \"/Users/salgu/miniconda3/envs/py38/lib/python3.8/site-packages/keras/src/utils/traceback_utils.py\", line 65, in error_handler\n      return fn(*args, **kwargs)\n    File \"/Users/salgu/miniconda3/envs/py38/lib/python3.8/site-packages/keras/src/engine/training.py\", line 1742, in fit\n      tmp_logs = self.train_function(iterator)\n    File \"/Users/salgu/miniconda3/envs/py38/lib/python3.8/site-packages/keras/src/engine/training.py\", line 1338, in train_function\n      return step_function(self, iterator)\n    File \"/Users/salgu/miniconda3/envs/py38/lib/python3.8/site-packages/keras/src/engine/training.py\", line 1322, in step_function\n      outputs = model.distribute_strategy.run(run_step, args=(data,))\n    File \"/Users/salgu/miniconda3/envs/py38/lib/python3.8/site-packages/keras/src/engine/training.py\", line 1303, in run_step\n      outputs = model.train_step(data)\n    File \"/Users/salgu/miniconda3/envs/py38/lib/python3.8/site-packages/keras/src/engine/training.py\", line 1080, in train_step\n      y_pred = self(x, training=True)\n    File \"/Users/salgu/miniconda3/envs/py38/lib/python3.8/site-packages/keras/src/utils/traceback_utils.py\", line 65, in error_handler\n      return fn(*args, **kwargs)\n    File \"/Users/salgu/miniconda3/envs/py38/lib/python3.8/site-packages/keras/src/engine/training.py\", line 569, in __call__\n      return super().__call__(*args, **kwargs)\n    File \"/Users/salgu/miniconda3/envs/py38/lib/python3.8/site-packages/keras/src/utils/traceback_utils.py\", line 65, in error_handler\n      return fn(*args, **kwargs)\n    File \"/Users/salgu/miniconda3/envs/py38/lib/python3.8/site-packages/keras/src/engine/base_layer.py\", line 1150, in __call__\n      outputs = call_fn(inputs, *args, **kwargs)\n    File \"/Users/salgu/miniconda3/envs/py38/lib/python3.8/site-packages/keras/src/utils/traceback_utils.py\", line 96, in error_handler\n      return fn(*args, **kwargs)\n    File \"/Users/salgu/miniconda3/envs/py38/lib/python3.8/site-packages/keras/src/engine/sequential.py\", line 405, in call\n      return super().call(inputs, training=training, mask=mask)\n    File \"/Users/salgu/miniconda3/envs/py38/lib/python3.8/site-packages/keras/src/engine/functional.py\", line 512, in call\n      return self._run_internal_graph(inputs, training=training, mask=mask)\n    File \"/Users/salgu/miniconda3/envs/py38/lib/python3.8/site-packages/keras/src/engine/functional.py\", line 669, in _run_internal_graph\n      outputs = node.layer(*args, **kwargs)\n    File \"/Users/salgu/miniconda3/envs/py38/lib/python3.8/site-packages/keras/src/utils/traceback_utils.py\", line 65, in error_handler\n      return fn(*args, **kwargs)\n    File \"/Users/salgu/miniconda3/envs/py38/lib/python3.8/site-packages/keras/src/engine/base_layer.py\", line 1150, in __call__\n      outputs = call_fn(inputs, *args, **kwargs)\n    File \"/Users/salgu/miniconda3/envs/py38/lib/python3.8/site-packages/keras/src/utils/traceback_utils.py\", line 96, in error_handler\n      return fn(*args, **kwargs)\n    File \"/Users/salgu/miniconda3/envs/py38/lib/python3.8/site-packages/keras/src/layers/core/embedding.py\", line 272, in call\n      out = tf.nn.embedding_lookup(self.embeddings, inputs)\nNode: 'sequential_14/embedding_13/embedding_lookup'\nindices[26,1,2] = -3 is not in [0, 122876)\n\t [[{{node sequential_14/embedding_13/embedding_lookup}}]] [Op:__inference_train_function_49029]",
     "output_type": "error",
     "traceback": [
      "\u001b[0;31m---------------------------------------------------------------------------\u001b[0m",
      "\u001b[0;31mInvalidArgumentError\u001b[0m                      Traceback (most recent call last)",
      "Cell \u001b[0;32mIn[192], line 2\u001b[0m\n\u001b[1;32m      1\u001b[0m \u001b[38;5;66;03m# train\u001b[39;00m\n\u001b[0;32m----> 2\u001b[0m \u001b[43mmodel\u001b[49m\u001b[38;5;241;43m.\u001b[39;49m\u001b[43mfit\u001b[49m\u001b[43m(\u001b[49m\u001b[43mX_train_wv\u001b[49m\u001b[43m,\u001b[49m\u001b[43m \u001b[49m\u001b[43my_train\u001b[49m\u001b[43m,\u001b[49m\u001b[43m \u001b[49m\u001b[43mbatch_size\u001b[49m\u001b[38;5;241;43m=\u001b[39;49m\u001b[38;5;241;43m32\u001b[39;49m\u001b[43m,\u001b[49m\u001b[43m \u001b[49m\u001b[43mepochs\u001b[49m\u001b[38;5;241;43m=\u001b[39;49m\u001b[38;5;241;43m1\u001b[39;49m\u001b[43m)\u001b[49m\n",
      "File \u001b[0;32m~/miniconda3/envs/py38/lib/python3.8/site-packages/keras/src/utils/traceback_utils.py:70\u001b[0m, in \u001b[0;36mfilter_traceback.<locals>.error_handler\u001b[0;34m(*args, **kwargs)\u001b[0m\n\u001b[1;32m     67\u001b[0m     filtered_tb \u001b[38;5;241m=\u001b[39m _process_traceback_frames(e\u001b[38;5;241m.\u001b[39m__traceback__)\n\u001b[1;32m     68\u001b[0m     \u001b[38;5;66;03m# To get the full stack trace, call:\u001b[39;00m\n\u001b[1;32m     69\u001b[0m     \u001b[38;5;66;03m# `tf.debugging.disable_traceback_filtering()`\u001b[39;00m\n\u001b[0;32m---> 70\u001b[0m     \u001b[38;5;28;01mraise\u001b[39;00m e\u001b[38;5;241m.\u001b[39mwith_traceback(filtered_tb) \u001b[38;5;28;01mfrom\u001b[39;00m \u001b[38;5;28;01mNone\u001b[39;00m\n\u001b[1;32m     71\u001b[0m \u001b[38;5;28;01mfinally\u001b[39;00m:\n\u001b[1;32m     72\u001b[0m     \u001b[38;5;28;01mdel\u001b[39;00m filtered_tb\n",
      "File \u001b[0;32m~/miniconda3/envs/py38/lib/python3.8/site-packages/tensorflow/python/eager/execute.py:53\u001b[0m, in \u001b[0;36mquick_execute\u001b[0;34m(op_name, num_outputs, inputs, attrs, ctx, name)\u001b[0m\n\u001b[1;32m     51\u001b[0m \u001b[38;5;28;01mtry\u001b[39;00m:\n\u001b[1;32m     52\u001b[0m   ctx\u001b[38;5;241m.\u001b[39mensure_initialized()\n\u001b[0;32m---> 53\u001b[0m   tensors \u001b[38;5;241m=\u001b[39m pywrap_tfe\u001b[38;5;241m.\u001b[39mTFE_Py_Execute(ctx\u001b[38;5;241m.\u001b[39m_handle, device_name, op_name,\n\u001b[1;32m     54\u001b[0m                                       inputs, attrs, num_outputs)\n\u001b[1;32m     55\u001b[0m \u001b[38;5;28;01mexcept\u001b[39;00m core\u001b[38;5;241m.\u001b[39m_NotOkStatusException \u001b[38;5;28;01mas\u001b[39;00m e:\n\u001b[1;32m     56\u001b[0m   \u001b[38;5;28;01mif\u001b[39;00m name \u001b[38;5;129;01mis\u001b[39;00m \u001b[38;5;129;01mnot\u001b[39;00m \u001b[38;5;28;01mNone\u001b[39;00m:\n",
      "\u001b[0;31mInvalidArgumentError\u001b[0m: Graph execution error:\n\nDetected at node 'sequential_14/embedding_13/embedding_lookup' defined at (most recent call last):\n    File \"/Users/salgu/miniconda3/envs/py38/lib/python3.8/runpy.py\", line 194, in _run_module_as_main\n      return _run_code(code, main_globals, None,\n    File \"/Users/salgu/miniconda3/envs/py38/lib/python3.8/runpy.py\", line 87, in _run_code\n      exec(code, run_globals)\n    File \"/Users/salgu/miniconda3/envs/py38/lib/python3.8/site-packages/ipykernel_launcher.py\", line 17, in <module>\n      app.launch_new_instance()\n    File \"/Users/salgu/miniconda3/envs/py38/lib/python3.8/site-packages/traitlets/config/application.py\", line 1043, in launch_instance\n      app.start()\n    File \"/Users/salgu/miniconda3/envs/py38/lib/python3.8/site-packages/ipykernel/kernelapp.py\", line 728, in start\n      self.io_loop.start()\n    File \"/Users/salgu/miniconda3/envs/py38/lib/python3.8/site-packages/tornado/platform/asyncio.py\", line 195, in start\n      self.asyncio_loop.run_forever()\n    File \"/Users/salgu/miniconda3/envs/py38/lib/python3.8/asyncio/base_events.py\", line 570, in run_forever\n      self._run_once()\n    File \"/Users/salgu/miniconda3/envs/py38/lib/python3.8/asyncio/base_events.py\", line 1859, in _run_once\n      handle._run()\n    File \"/Users/salgu/miniconda3/envs/py38/lib/python3.8/asyncio/events.py\", line 81, in _run\n      self._context.run(self._callback, *self._args)\n    File \"/Users/salgu/miniconda3/envs/py38/lib/python3.8/site-packages/ipykernel/kernelbase.py\", line 513, in dispatch_queue\n      await self.process_one()\n    File \"/Users/salgu/miniconda3/envs/py38/lib/python3.8/site-packages/ipykernel/kernelbase.py\", line 502, in process_one\n      await dispatch(*args)\n    File \"/Users/salgu/miniconda3/envs/py38/lib/python3.8/site-packages/ipykernel/kernelbase.py\", line 409, in dispatch_shell\n      await result\n    File \"/Users/salgu/miniconda3/envs/py38/lib/python3.8/site-packages/ipykernel/kernelbase.py\", line 729, in execute_request\n      reply_content = await reply_content\n    File \"/Users/salgu/miniconda3/envs/py38/lib/python3.8/site-packages/ipykernel/ipkernel.py\", line 422, in do_execute\n      res = shell.run_cell(\n    File \"/Users/salgu/miniconda3/envs/py38/lib/python3.8/site-packages/ipykernel/zmqshell.py\", line 540, in run_cell\n      return super().run_cell(*args, **kwargs)\n    File \"/Users/salgu/miniconda3/envs/py38/lib/python3.8/site-packages/IPython/core/interactiveshell.py\", line 3009, in run_cell\n      result = self._run_cell(\n    File \"/Users/salgu/miniconda3/envs/py38/lib/python3.8/site-packages/IPython/core/interactiveshell.py\", line 3064, in _run_cell\n      result = runner(coro)\n    File \"/Users/salgu/miniconda3/envs/py38/lib/python3.8/site-packages/IPython/core/async_helpers.py\", line 129, in _pseudo_sync_runner\n      coro.send(None)\n    File \"/Users/salgu/miniconda3/envs/py38/lib/python3.8/site-packages/IPython/core/interactiveshell.py\", line 3269, in run_cell_async\n      has_raised = await self.run_ast_nodes(code_ast.body, cell_name,\n    File \"/Users/salgu/miniconda3/envs/py38/lib/python3.8/site-packages/IPython/core/interactiveshell.py\", line 3448, in run_ast_nodes\n      if await self.run_code(code, result, async_=asy):\n    File \"/Users/salgu/miniconda3/envs/py38/lib/python3.8/site-packages/IPython/core/interactiveshell.py\", line 3508, in run_code\n      exec(code_obj, self.user_global_ns, self.user_ns)\n    File \"/var/folders/r0/w084nh2s0v3fstg3n70027500000gn/T/ipykernel_7424/2073901463.py\", line 2, in <module>\n      model.fit(X_train_wv, y_train, batch_size=32, epochs=1)\n    File \"/Users/salgu/miniconda3/envs/py38/lib/python3.8/site-packages/keras/src/utils/traceback_utils.py\", line 65, in error_handler\n      return fn(*args, **kwargs)\n    File \"/Users/salgu/miniconda3/envs/py38/lib/python3.8/site-packages/keras/src/engine/training.py\", line 1742, in fit\n      tmp_logs = self.train_function(iterator)\n    File \"/Users/salgu/miniconda3/envs/py38/lib/python3.8/site-packages/keras/src/engine/training.py\", line 1338, in train_function\n      return step_function(self, iterator)\n    File \"/Users/salgu/miniconda3/envs/py38/lib/python3.8/site-packages/keras/src/engine/training.py\", line 1322, in step_function\n      outputs = model.distribute_strategy.run(run_step, args=(data,))\n    File \"/Users/salgu/miniconda3/envs/py38/lib/python3.8/site-packages/keras/src/engine/training.py\", line 1303, in run_step\n      outputs = model.train_step(data)\n    File \"/Users/salgu/miniconda3/envs/py38/lib/python3.8/site-packages/keras/src/engine/training.py\", line 1080, in train_step\n      y_pred = self(x, training=True)\n    File \"/Users/salgu/miniconda3/envs/py38/lib/python3.8/site-packages/keras/src/utils/traceback_utils.py\", line 65, in error_handler\n      return fn(*args, **kwargs)\n    File \"/Users/salgu/miniconda3/envs/py38/lib/python3.8/site-packages/keras/src/engine/training.py\", line 569, in __call__\n      return super().__call__(*args, **kwargs)\n    File \"/Users/salgu/miniconda3/envs/py38/lib/python3.8/site-packages/keras/src/utils/traceback_utils.py\", line 65, in error_handler\n      return fn(*args, **kwargs)\n    File \"/Users/salgu/miniconda3/envs/py38/lib/python3.8/site-packages/keras/src/engine/base_layer.py\", line 1150, in __call__\n      outputs = call_fn(inputs, *args, **kwargs)\n    File \"/Users/salgu/miniconda3/envs/py38/lib/python3.8/site-packages/keras/src/utils/traceback_utils.py\", line 96, in error_handler\n      return fn(*args, **kwargs)\n    File \"/Users/salgu/miniconda3/envs/py38/lib/python3.8/site-packages/keras/src/engine/sequential.py\", line 405, in call\n      return super().call(inputs, training=training, mask=mask)\n    File \"/Users/salgu/miniconda3/envs/py38/lib/python3.8/site-packages/keras/src/engine/functional.py\", line 512, in call\n      return self._run_internal_graph(inputs, training=training, mask=mask)\n    File \"/Users/salgu/miniconda3/envs/py38/lib/python3.8/site-packages/keras/src/engine/functional.py\", line 669, in _run_internal_graph\n      outputs = node.layer(*args, **kwargs)\n    File \"/Users/salgu/miniconda3/envs/py38/lib/python3.8/site-packages/keras/src/utils/traceback_utils.py\", line 65, in error_handler\n      return fn(*args, **kwargs)\n    File \"/Users/salgu/miniconda3/envs/py38/lib/python3.8/site-packages/keras/src/engine/base_layer.py\", line 1150, in __call__\n      outputs = call_fn(inputs, *args, **kwargs)\n    File \"/Users/salgu/miniconda3/envs/py38/lib/python3.8/site-packages/keras/src/utils/traceback_utils.py\", line 96, in error_handler\n      return fn(*args, **kwargs)\n    File \"/Users/salgu/miniconda3/envs/py38/lib/python3.8/site-packages/keras/src/layers/core/embedding.py\", line 272, in call\n      out = tf.nn.embedding_lookup(self.embeddings, inputs)\nNode: 'sequential_14/embedding_13/embedding_lookup'\nindices[26,1,2] = -3 is not in [0, 122876)\n\t [[{{node sequential_14/embedding_13/embedding_lookup}}]] [Op:__inference_train_function_49029]"
     ]
    }
   ],
   "source": [
    "# train\n",
    "model.fit(X_train_wv, y_train, batch_size=32, epochs=1)"
   ]
  },
  {
   "cell_type": "markdown",
   "id": "b806d33f",
   "metadata": {},
   "source": [
    "중간에... 왜 4개로 늘어나는거지???"
   ]
  },
  {
   "cell_type": "code",
   "execution_count": null,
   "id": "ef72e0c5",
   "metadata": {},
   "outputs": [],
   "source": []
  }
 ],
 "metadata": {
  "kernelspec": {
   "display_name": "Python 3 (ipykernel)",
   "language": "python",
   "name": "python3"
  },
  "language_info": {
   "codemirror_mode": {
    "name": "ipython",
    "version": 3
   },
   "file_extension": ".py",
   "mimetype": "text/x-python",
   "name": "python",
   "nbconvert_exporter": "python",
   "pygments_lexer": "ipython3",
   "version": "3.8.16"
  }
 },
 "nbformat": 4,
 "nbformat_minor": 5
}
