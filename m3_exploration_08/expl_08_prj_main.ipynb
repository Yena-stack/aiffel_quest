{
 "cells": [
  {
   "cell_type": "markdown",
   "id": "7697d3dd",
   "metadata": {},
   "source": [
    "# 작업할 내용"
   ]
  },
  {
   "cell_type": "markdown",
   "id": "ee6e70bd",
   "metadata": {},
   "source": [
    "- 데이터의 중복 제거\n",
    "- NaN 결측치 제거\n",
    "- 한국어 토크나이저로 토큰화\n",
    "- 불용어(Stopwords) 제거\n",
    "- 사전word_to_index 구성\n",
    "- 텍스트 스트링을 사전 인덱스 스트링으로 변환\n",
    "- X_train, y_train, X_test, y_test, word_to_index 리턴"
   ]
  },
  {
   "cell_type": "markdown",
   "id": "f5244efb",
   "metadata": {},
   "source": [
    "# 모듈 "
   ]
  },
  {
   "cell_type": "code",
   "execution_count": 78,
   "id": "6c88af0c",
   "metadata": {},
   "outputs": [],
   "source": [
    "import konlpy\n",
    "import gensim\n",
    "\n",
    "import pandas as pd\n",
    "import tensorflow as tf\n",
    "import numpy as np\n",
    "import matplotlib.pyplot as plt\n",
    "import seaborn as sns\n",
    "\n",
    "from konlpy.tag import Okt\n",
    "from konlpy.tag import Kkma\n",
    "\n",
    "from tensorflow.keras.utils import pad_sequences\n",
    "from sklearn.model_selection import train_test_split\n"
   ]
  },
  {
   "cell_type": "markdown",
   "id": "5eccb44f",
   "metadata": {},
   "source": [
    "# 변수 초기화"
   ]
  },
  {
   "cell_type": "code",
   "execution_count": 60,
   "id": "f656c9a3",
   "metadata": {},
   "outputs": [],
   "source": [
    "stopwords = ['의','가','이','은','들','는','좀','잘','걍','과','도','를','으로','자','에','와','한','하다']\n",
    "max_sequence_length = 30\n",
    "word_vector_dim = 100"
   ]
  },
  {
   "cell_type": "code",
   "execution_count": 12,
   "id": "e7946aba",
   "metadata": {},
   "outputs": [],
   "source": [
    "okt = Okt()\n",
    "kkma = Kkma()"
   ]
  },
  {
   "cell_type": "markdown",
   "id": "0f798c02",
   "metadata": {},
   "source": [
    "# 데이터 확인"
   ]
  },
  {
   "cell_type": "code",
   "execution_count": 134,
   "id": "295950a7",
   "metadata": {},
   "outputs": [],
   "source": [
    "# 데이터 불러오기\n",
    "train_data = pd.read_table('ratings_train.txt')\n",
    "test_data = pd.read_table('ratings_test.txt')"
   ]
  },
  {
   "cell_type": "code",
   "execution_count": 135,
   "id": "c2dae55d",
   "metadata": {
    "scrolled": true
   },
   "outputs": [
    {
     "data": {
      "text/plain": [
       "(150000, 3)"
      ]
     },
     "execution_count": 135,
     "metadata": {},
     "output_type": "execute_result"
    }
   ],
   "source": [
    "train_data.shape"
   ]
  },
  {
   "cell_type": "code",
   "execution_count": 136,
   "id": "1e42247d",
   "metadata": {},
   "outputs": [
    {
     "name": "stdout",
     "output_type": "stream",
     "text": [
      "<class 'pandas.core.frame.DataFrame'>\n",
      "RangeIndex: 150000 entries, 0 to 149999\n",
      "Data columns (total 3 columns):\n",
      " #   Column    Non-Null Count   Dtype \n",
      "---  ------    --------------   ----- \n",
      " 0   id        150000 non-null  int64 \n",
      " 1   document  149995 non-null  object\n",
      " 2   label     150000 non-null  int64 \n",
      "dtypes: int64(2), object(1)\n",
      "memory usage: 3.4+ MB\n"
     ]
    }
   ],
   "source": [
    "train_data.info()"
   ]
  },
  {
   "cell_type": "markdown",
   "id": "863cd636",
   "metadata": {},
   "source": [
    "document 컬럼에 5개가 null"
   ]
  },
  {
   "cell_type": "markdown",
   "id": "81d80f95",
   "metadata": {},
   "source": [
    "# NaN 결측치 제거"
   ]
  },
  {
   "cell_type": "code",
   "execution_count": 137,
   "id": "bace4cd6",
   "metadata": {},
   "outputs": [
    {
     "data": {
      "text/html": [
       "<div>\n",
       "<style scoped>\n",
       "    .dataframe tbody tr th:only-of-type {\n",
       "        vertical-align: middle;\n",
       "    }\n",
       "\n",
       "    .dataframe tbody tr th {\n",
       "        vertical-align: top;\n",
       "    }\n",
       "\n",
       "    .dataframe thead th {\n",
       "        text-align: right;\n",
       "    }\n",
       "</style>\n",
       "<table border=\"1\" class=\"dataframe\">\n",
       "  <thead>\n",
       "    <tr style=\"text-align: right;\">\n",
       "      <th></th>\n",
       "      <th>id</th>\n",
       "      <th>document</th>\n",
       "      <th>label</th>\n",
       "    </tr>\n",
       "  </thead>\n",
       "  <tbody>\n",
       "    <tr>\n",
       "      <th>25857</th>\n",
       "      <td>2172111</td>\n",
       "      <td>NaN</td>\n",
       "      <td>1</td>\n",
       "    </tr>\n",
       "    <tr>\n",
       "      <th>55737</th>\n",
       "      <td>6369843</td>\n",
       "      <td>NaN</td>\n",
       "      <td>1</td>\n",
       "    </tr>\n",
       "    <tr>\n",
       "      <th>110014</th>\n",
       "      <td>1034280</td>\n",
       "      <td>NaN</td>\n",
       "      <td>0</td>\n",
       "    </tr>\n",
       "    <tr>\n",
       "      <th>126782</th>\n",
       "      <td>5942978</td>\n",
       "      <td>NaN</td>\n",
       "      <td>0</td>\n",
       "    </tr>\n",
       "    <tr>\n",
       "      <th>140721</th>\n",
       "      <td>1034283</td>\n",
       "      <td>NaN</td>\n",
       "      <td>0</td>\n",
       "    </tr>\n",
       "  </tbody>\n",
       "</table>\n",
       "</div>"
      ],
      "text/plain": [
       "             id document  label\n",
       "25857   2172111      NaN      1\n",
       "55737   6369843      NaN      1\n",
       "110014  1034280      NaN      0\n",
       "126782  5942978      NaN      0\n",
       "140721  1034283      NaN      0"
      ]
     },
     "execution_count": 137,
     "metadata": {},
     "output_type": "execute_result"
    }
   ],
   "source": [
    "nan_label = train_data[train_data[\"document\"].isna() == True]\n",
    "nan_label"
   ]
  },
  {
   "cell_type": "code",
   "execution_count": 138,
   "id": "8ff02188",
   "metadata": {},
   "outputs": [
    {
     "data": {
      "text/html": [
       "<div>\n",
       "<style scoped>\n",
       "    .dataframe tbody tr th:only-of-type {\n",
       "        vertical-align: middle;\n",
       "    }\n",
       "\n",
       "    .dataframe tbody tr th {\n",
       "        vertical-align: top;\n",
       "    }\n",
       "\n",
       "    .dataframe thead th {\n",
       "        text-align: right;\n",
       "    }\n",
       "</style>\n",
       "<table border=\"1\" class=\"dataframe\">\n",
       "  <thead>\n",
       "    <tr style=\"text-align: right;\">\n",
       "      <th></th>\n",
       "      <th>id</th>\n",
       "      <th>document</th>\n",
       "      <th>label</th>\n",
       "    </tr>\n",
       "  </thead>\n",
       "  <tbody>\n",
       "  </tbody>\n",
       "</table>\n",
       "</div>"
      ],
      "text/plain": [
       "Empty DataFrame\n",
       "Columns: [id, document, label]\n",
       "Index: []"
      ]
     },
     "execution_count": 138,
     "metadata": {},
     "output_type": "execute_result"
    }
   ],
   "source": [
    "for i in nan_label.index:\n",
    "    train_data.drop(index=i, inplace=True)\n",
    "\n",
    "train_data[train_data[\"document\"].isna() == True]"
   ]
  },
  {
   "cell_type": "markdown",
   "id": "dbd9c98c",
   "metadata": {},
   "source": [
    "# 데이터 중복 제거"
   ]
  },
  {
   "cell_type": "code",
   "execution_count": 139,
   "id": "3c8372b8",
   "metadata": {},
   "outputs": [
    {
     "data": {
      "text/html": [
       "<div>\n",
       "<style scoped>\n",
       "    .dataframe tbody tr th:only-of-type {\n",
       "        vertical-align: middle;\n",
       "    }\n",
       "\n",
       "    .dataframe tbody tr th {\n",
       "        vertical-align: top;\n",
       "    }\n",
       "\n",
       "    .dataframe thead th {\n",
       "        text-align: right;\n",
       "    }\n",
       "</style>\n",
       "<table border=\"1\" class=\"dataframe\">\n",
       "  <thead>\n",
       "    <tr style=\"text-align: right;\">\n",
       "      <th></th>\n",
       "      <th>id</th>\n",
       "      <th>document</th>\n",
       "      <th>label</th>\n",
       "    </tr>\n",
       "  </thead>\n",
       "  <tbody>\n",
       "    <tr>\n",
       "      <th>1058</th>\n",
       "      <td>5890638</td>\n",
       "      <td>4</td>\n",
       "      <td>0</td>\n",
       "    </tr>\n",
       "    <tr>\n",
       "      <th>1097</th>\n",
       "      <td>2062443</td>\n",
       "      <td>쵝오</td>\n",
       "      <td>1</td>\n",
       "    </tr>\n",
       "    <tr>\n",
       "      <th>1248</th>\n",
       "      <td>3502685</td>\n",
       "      <td>최고</td>\n",
       "      <td>1</td>\n",
       "    </tr>\n",
       "    <tr>\n",
       "      <th>1483</th>\n",
       "      <td>775332</td>\n",
       "      <td>최고</td>\n",
       "      <td>1</td>\n",
       "    </tr>\n",
       "    <tr>\n",
       "      <th>1707</th>\n",
       "      <td>8009134</td>\n",
       "      <td>재밌다</td>\n",
       "      <td>1</td>\n",
       "    </tr>\n",
       "    <tr>\n",
       "      <th>...</th>\n",
       "      <td>...</td>\n",
       "      <td>...</td>\n",
       "      <td>...</td>\n",
       "    </tr>\n",
       "    <tr>\n",
       "      <th>149919</th>\n",
       "      <td>6502490</td>\n",
       "      <td>짱</td>\n",
       "      <td>1</td>\n",
       "    </tr>\n",
       "    <tr>\n",
       "      <th>149949</th>\n",
       "      <td>3924716</td>\n",
       "      <td>OO 영화</td>\n",
       "      <td>0</td>\n",
       "    </tr>\n",
       "    <tr>\n",
       "      <th>149960</th>\n",
       "      <td>6368431</td>\n",
       "      <td>지루하다</td>\n",
       "      <td>0</td>\n",
       "    </tr>\n",
       "    <tr>\n",
       "      <th>149966</th>\n",
       "      <td>6735753</td>\n",
       "      <td>1</td>\n",
       "      <td>0</td>\n",
       "    </tr>\n",
       "    <tr>\n",
       "      <th>149987</th>\n",
       "      <td>7669621</td>\n",
       "      <td>재미있어요^^</td>\n",
       "      <td>1</td>\n",
       "    </tr>\n",
       "  </tbody>\n",
       "</table>\n",
       "<p>3813 rows × 3 columns</p>\n",
       "</div>"
      ],
      "text/plain": [
       "             id document  label\n",
       "1058    5890638        4      0\n",
       "1097    2062443       쵝오      1\n",
       "1248    3502685       최고      1\n",
       "1483     775332       최고      1\n",
       "1707    8009134      재밌다      1\n",
       "...         ...      ...    ...\n",
       "149919  6502490        짱      1\n",
       "149949  3924716    OO 영화      0\n",
       "149960  6368431     지루하다      0\n",
       "149966  6735753        1      0\n",
       "149987  7669621  재미있어요^^      1\n",
       "\n",
       "[3813 rows x 3 columns]"
      ]
     },
     "execution_count": 139,
     "metadata": {},
     "output_type": "execute_result"
    }
   ],
   "source": [
    "train_data[train_data.duplicated(['document']) == True]"
   ]
  },
  {
   "cell_type": "markdown",
   "id": "0cab5b95",
   "metadata": {},
   "source": [
    "> 중복 데이터를 지워야 하는가?\n",
    "\n",
    "- 감성 분석에는 보존하는게 좋다고 함.\n",
    "- 텍스트 분류나 토픽 모델링 할 때는 지우는 게 좋다고 함"
   ]
  },
  {
   "cell_type": "code",
   "execution_count": 140,
   "id": "9c9b20fb",
   "metadata": {},
   "outputs": [
    {
     "data": {
      "text/html": [
       "<div>\n",
       "<style scoped>\n",
       "    .dataframe tbody tr th:only-of-type {\n",
       "        vertical-align: middle;\n",
       "    }\n",
       "\n",
       "    .dataframe tbody tr th {\n",
       "        vertical-align: top;\n",
       "    }\n",
       "\n",
       "    .dataframe thead th {\n",
       "        text-align: right;\n",
       "    }\n",
       "</style>\n",
       "<table border=\"1\" class=\"dataframe\">\n",
       "  <thead>\n",
       "    <tr style=\"text-align: right;\">\n",
       "      <th></th>\n",
       "      <th>id</th>\n",
       "      <th>document</th>\n",
       "      <th>label</th>\n",
       "    </tr>\n",
       "  </thead>\n",
       "  <tbody>\n",
       "  </tbody>\n",
       "</table>\n",
       "</div>"
      ],
      "text/plain": [
       "Empty DataFrame\n",
       "Columns: [id, document, label]\n",
       "Index: []"
      ]
     },
     "execution_count": 140,
     "metadata": {},
     "output_type": "execute_result"
    }
   ],
   "source": [
    "train_data[train_data.duplicated(['id']) == True]"
   ]
  },
  {
   "cell_type": "markdown",
   "id": "6d8794e9",
   "metadata": {},
   "source": [
    "말 그대로 레이블 자체가 중복된 데이터는 없음"
   ]
  },
  {
   "cell_type": "code",
   "execution_count": 141,
   "id": "40177c64",
   "metadata": {},
   "outputs": [
    {
     "data": {
      "text/plain": [
       "(149995, 3)"
      ]
     },
     "execution_count": 141,
     "metadata": {},
     "output_type": "execute_result"
    }
   ],
   "source": [
    "train_data.shape"
   ]
  },
  {
   "cell_type": "markdown",
   "id": "990e6872",
   "metadata": {},
   "source": [
    "# 토큰화"
   ]
  },
  {
   "cell_type": "code",
   "execution_count": 142,
   "id": "96fddc47",
   "metadata": {},
   "outputs": [],
   "source": [
    "# 토큰화\n",
    "train_data['tokenized'] = train_data['document'].apply(okt.morphs)"
   ]
  },
  {
   "cell_type": "markdown",
   "id": "2df753d3",
   "metadata": {},
   "source": [
    "시간이 꽤 걸림..."
   ]
  },
  {
   "cell_type": "code",
   "execution_count": 143,
   "id": "6d509016",
   "metadata": {},
   "outputs": [],
   "source": [
    "# 백업용 데이터 생성\n",
    "train_data_org = train_data.copy()"
   ]
  },
  {
   "cell_type": "code",
   "execution_count": 144,
   "id": "4c36a1a5",
   "metadata": {},
   "outputs": [
    {
     "data": {
      "text/plain": [
       "(149995, 4)"
      ]
     },
     "execution_count": 144,
     "metadata": {},
     "output_type": "execute_result"
    }
   ],
   "source": [
    "# 복원\n",
    "# train_data = train_data_org.copy()\n",
    "train_data_org.shape"
   ]
  },
  {
   "cell_type": "code",
   "execution_count": 100,
   "id": "31423537",
   "metadata": {},
   "outputs": [
    {
     "data": {
      "text/html": [
       "<div>\n",
       "<style scoped>\n",
       "    .dataframe tbody tr th:only-of-type {\n",
       "        vertical-align: middle;\n",
       "    }\n",
       "\n",
       "    .dataframe tbody tr th {\n",
       "        vertical-align: top;\n",
       "    }\n",
       "\n",
       "    .dataframe thead th {\n",
       "        text-align: right;\n",
       "    }\n",
       "</style>\n",
       "<table border=\"1\" class=\"dataframe\">\n",
       "  <thead>\n",
       "    <tr style=\"text-align: right;\">\n",
       "      <th></th>\n",
       "      <th>id</th>\n",
       "      <th>document</th>\n",
       "      <th>label</th>\n",
       "      <th>tokenized</th>\n",
       "      <th>word_index</th>\n",
       "      <th>word_index_length</th>\n",
       "    </tr>\n",
       "  </thead>\n",
       "  <tbody>\n",
       "    <tr>\n",
       "      <th>2</th>\n",
       "      <td>10265843</td>\n",
       "      <td>너무재밓었다그래서보는것을추천한다</td>\n",
       "      <td>0</td>\n",
       "      <td>[너, 무재, 밓었, 다그, 래서, 보는것을, 추천, 한, 다]</td>\n",
       "      <td>[[3, 4, 5, 6, 7, 8, 9, 10]]</td>\n",
       "      <td>8</td>\n",
       "    </tr>\n",
       "    <tr>\n",
       "      <th>3</th>\n",
       "      <td>9045019</td>\n",
       "      <td>교도소 이야기구먼 ..솔직히 재미는 없다..평점 조정</td>\n",
       "      <td>0</td>\n",
       "      <td>[교도소, 이야기, 구먼, .., 솔직히, 재미, 는, 없다, .., 평점, 조정]</td>\n",
       "      <td>[[3, 4, 5, 6, 7, 8, 9, 6, 10, 11]]</td>\n",
       "      <td>10</td>\n",
       "    </tr>\n",
       "    <tr>\n",
       "      <th>4</th>\n",
       "      <td>6483659</td>\n",
       "      <td>사이몬페그의 익살스런 연기가 돋보였던 영화!스파이더맨에서 늙어보이기만 했던 커스틴 ...</td>\n",
       "      <td>1</td>\n",
       "      <td>[사이, 몬페, 그, 의, 익살스런, 연기, 가, 돋보였던, 영화, !, 스파이더맨...</td>\n",
       "      <td>[[3, 4, 5, 6, 7, 8, 9, 10, 11, 12, 13, 14, 15,...</td>\n",
       "      <td>18</td>\n",
       "    </tr>\n",
       "    <tr>\n",
       "      <th>5</th>\n",
       "      <td>5403919</td>\n",
       "      <td>막 걸음마 뗀 3세부터 초등학교 1학년생인 8살용영화.ㅋㅋㅋ...별반개도 아까움.</td>\n",
       "      <td>0</td>\n",
       "      <td>[막, 걸음, 마, 뗀, 3, 세, 부터, 초등학교, 1, 학년, 생인, 8, 살용...</td>\n",
       "      <td>[[3, 4, 5, 6, 7, 8, 9, 10, 11, 12, 13, 14, 15,...</td>\n",
       "      <td>22</td>\n",
       "    </tr>\n",
       "    <tr>\n",
       "      <th>6</th>\n",
       "      <td>7797314</td>\n",
       "      <td>원작의 긴장감을 제대로 살려내지못했다.</td>\n",
       "      <td>0</td>\n",
       "      <td>[원작, 의, 긴장감, 을, 제대로, 살려내지못, 했다, .]</td>\n",
       "      <td>[[3, 4, 5, 6, 7, 8, 16]]</td>\n",
       "      <td>7</td>\n",
       "    </tr>\n",
       "  </tbody>\n",
       "</table>\n",
       "</div>"
      ],
      "text/plain": [
       "         id                                           document  label  \\\n",
       "2  10265843                                  너무재밓었다그래서보는것을추천한다      0   \n",
       "3   9045019                      교도소 이야기구먼 ..솔직히 재미는 없다..평점 조정      0   \n",
       "4   6483659  사이몬페그의 익살스런 연기가 돋보였던 영화!스파이더맨에서 늙어보이기만 했던 커스틴 ...      1   \n",
       "5   5403919      막 걸음마 뗀 3세부터 초등학교 1학년생인 8살용영화.ㅋㅋㅋ...별반개도 아까움.      0   \n",
       "6   7797314                              원작의 긴장감을 제대로 살려내지못했다.      0   \n",
       "\n",
       "                                           tokenized  \\\n",
       "2                [너, 무재, 밓었, 다그, 래서, 보는것을, 추천, 한, 다]   \n",
       "3     [교도소, 이야기, 구먼, .., 솔직히, 재미, 는, 없다, .., 평점, 조정]   \n",
       "4  [사이, 몬페, 그, 의, 익살스런, 연기, 가, 돋보였던, 영화, !, 스파이더맨...   \n",
       "5  [막, 걸음, 마, 뗀, 3, 세, 부터, 초등학교, 1, 학년, 생인, 8, 살용...   \n",
       "6                 [원작, 의, 긴장감, 을, 제대로, 살려내지못, 했다, .]   \n",
       "\n",
       "                                          word_index  word_index_length  \n",
       "2                        [[3, 4, 5, 6, 7, 8, 9, 10]]                  8  \n",
       "3                 [[3, 4, 5, 6, 7, 8, 9, 6, 10, 11]]                 10  \n",
       "4  [[3, 4, 5, 6, 7, 8, 9, 10, 11, 12, 13, 14, 15,...                 18  \n",
       "5  [[3, 4, 5, 6, 7, 8, 9, 10, 11, 12, 13, 14, 15,...                 22  \n",
       "6                           [[3, 4, 5, 6, 7, 8, 16]]                  7  "
      ]
     },
     "execution_count": 100,
     "metadata": {},
     "output_type": "execute_result"
    }
   ],
   "source": [
    "train_data.head()"
   ]
  },
  {
   "cell_type": "code",
   "execution_count": 145,
   "id": "1b55914c",
   "metadata": {},
   "outputs": [
    {
     "name": "stdout",
     "output_type": "stream",
     "text": [
      "<class 'pandas.core.frame.DataFrame'>\n",
      "Index: 149995 entries, 0 to 149999\n",
      "Data columns (total 4 columns):\n",
      " #   Column     Non-Null Count   Dtype \n",
      "---  ------     --------------   ----- \n",
      " 0   id         149995 non-null  int64 \n",
      " 1   document   149995 non-null  object\n",
      " 2   label      149995 non-null  int64 \n",
      " 3   tokenized  149995 non-null  object\n",
      "dtypes: int64(2), object(2)\n",
      "memory usage: 5.7+ MB\n"
     ]
    }
   ],
   "source": [
    "train_data.info()"
   ]
  },
  {
   "cell_type": "markdown",
   "id": "f4f4a60f",
   "metadata": {},
   "source": [
    "# 불용어 제거"
   ]
  },
  {
   "cell_type": "code",
   "execution_count": 146,
   "id": "44a2a4f6",
   "metadata": {},
   "outputs": [],
   "source": [
    "# 불용어 포함된 텍스트 확인\n",
    "df_stop = train_data[train_data['tokenized'].apply(lambda x: any(word in x for word in stopwords))]"
   ]
  },
  {
   "cell_type": "code",
   "execution_count": 102,
   "id": "9bed9a0d",
   "metadata": {},
   "outputs": [
    {
     "data": {
      "text/html": [
       "<div>\n",
       "<style scoped>\n",
       "    .dataframe tbody tr th:only-of-type {\n",
       "        vertical-align: middle;\n",
       "    }\n",
       "\n",
       "    .dataframe tbody tr th {\n",
       "        vertical-align: top;\n",
       "    }\n",
       "\n",
       "    .dataframe thead th {\n",
       "        text-align: right;\n",
       "    }\n",
       "</style>\n",
       "<table border=\"1\" class=\"dataframe\">\n",
       "  <thead>\n",
       "    <tr style=\"text-align: right;\">\n",
       "      <th></th>\n",
       "      <th>id</th>\n",
       "      <th>document</th>\n",
       "      <th>label</th>\n",
       "      <th>tokenized</th>\n",
       "      <th>word_index</th>\n",
       "      <th>word_index_length</th>\n",
       "    </tr>\n",
       "  </thead>\n",
       "  <tbody>\n",
       "    <tr>\n",
       "      <th>2</th>\n",
       "      <td>10265843</td>\n",
       "      <td>너무재밓었다그래서보는것을추천한다</td>\n",
       "      <td>0</td>\n",
       "      <td>[너, 무재, 밓었, 다그, 래서, 보는것을, 추천, 한, 다]</td>\n",
       "      <td>[[3, 4, 5, 6, 7, 8, 9, 10]]</td>\n",
       "      <td>8</td>\n",
       "    </tr>\n",
       "    <tr>\n",
       "      <th>3</th>\n",
       "      <td>9045019</td>\n",
       "      <td>교도소 이야기구먼 ..솔직히 재미는 없다..평점 조정</td>\n",
       "      <td>0</td>\n",
       "      <td>[교도소, 이야기, 구먼, .., 솔직히, 재미, 는, 없다, .., 평점, 조정]</td>\n",
       "      <td>[[3, 4, 5, 6, 7, 8, 9, 6, 10, 11]]</td>\n",
       "      <td>10</td>\n",
       "    </tr>\n",
       "    <tr>\n",
       "      <th>4</th>\n",
       "      <td>6483659</td>\n",
       "      <td>사이몬페그의 익살스런 연기가 돋보였던 영화!스파이더맨에서 늙어보이기만 했던 커스틴 ...</td>\n",
       "      <td>1</td>\n",
       "      <td>[사이, 몬페, 그, 의, 익살스런, 연기, 가, 돋보였던, 영화, !, 스파이더맨...</td>\n",
       "      <td>[[3, 4, 5, 6, 7, 8, 9, 10, 11, 12, 13, 14, 15,...</td>\n",
       "      <td>18</td>\n",
       "    </tr>\n",
       "    <tr>\n",
       "      <th>5</th>\n",
       "      <td>5403919</td>\n",
       "      <td>막 걸음마 뗀 3세부터 초등학교 1학년생인 8살용영화.ㅋㅋㅋ...별반개도 아까움.</td>\n",
       "      <td>0</td>\n",
       "      <td>[막, 걸음, 마, 뗀, 3, 세, 부터, 초등학교, 1, 학년, 생인, 8, 살용...</td>\n",
       "      <td>[[3, 4, 5, 6, 7, 8, 9, 10, 11, 12, 13, 14, 15,...</td>\n",
       "      <td>22</td>\n",
       "    </tr>\n",
       "    <tr>\n",
       "      <th>6</th>\n",
       "      <td>7797314</td>\n",
       "      <td>원작의 긴장감을 제대로 살려내지못했다.</td>\n",
       "      <td>0</td>\n",
       "      <td>[원작, 의, 긴장감, 을, 제대로, 살려내지못, 했다, .]</td>\n",
       "      <td>[[3, 4, 5, 6, 7, 8, 16]]</td>\n",
       "      <td>7</td>\n",
       "    </tr>\n",
       "  </tbody>\n",
       "</table>\n",
       "</div>"
      ],
      "text/plain": [
       "         id                                           document  label  \\\n",
       "2  10265843                                  너무재밓었다그래서보는것을추천한다      0   \n",
       "3   9045019                      교도소 이야기구먼 ..솔직히 재미는 없다..평점 조정      0   \n",
       "4   6483659  사이몬페그의 익살스런 연기가 돋보였던 영화!스파이더맨에서 늙어보이기만 했던 커스틴 ...      1   \n",
       "5   5403919      막 걸음마 뗀 3세부터 초등학교 1학년생인 8살용영화.ㅋㅋㅋ...별반개도 아까움.      0   \n",
       "6   7797314                              원작의 긴장감을 제대로 살려내지못했다.      0   \n",
       "\n",
       "                                           tokenized  \\\n",
       "2                [너, 무재, 밓었, 다그, 래서, 보는것을, 추천, 한, 다]   \n",
       "3     [교도소, 이야기, 구먼, .., 솔직히, 재미, 는, 없다, .., 평점, 조정]   \n",
       "4  [사이, 몬페, 그, 의, 익살스런, 연기, 가, 돋보였던, 영화, !, 스파이더맨...   \n",
       "5  [막, 걸음, 마, 뗀, 3, 세, 부터, 초등학교, 1, 학년, 생인, 8, 살용...   \n",
       "6                 [원작, 의, 긴장감, 을, 제대로, 살려내지못, 했다, .]   \n",
       "\n",
       "                                          word_index  word_index_length  \n",
       "2                        [[3, 4, 5, 6, 7, 8, 9, 10]]                  8  \n",
       "3                 [[3, 4, 5, 6, 7, 8, 9, 6, 10, 11]]                 10  \n",
       "4  [[3, 4, 5, 6, 7, 8, 9, 10, 11, 12, 13, 14, 15,...                 18  \n",
       "5  [[3, 4, 5, 6, 7, 8, 9, 10, 11, 12, 13, 14, 15,...                 22  \n",
       "6                           [[3, 4, 5, 6, 7, 8, 16]]                  7  "
      ]
     },
     "execution_count": 102,
     "metadata": {},
     "output_type": "execute_result"
    }
   ],
   "source": [
    "df_stop.head()"
   ]
  },
  {
   "cell_type": "code",
   "execution_count": 147,
   "id": "3654fe51",
   "metadata": {},
   "outputs": [
    {
     "data": {
      "text/plain": [
       "(104137, 4)"
      ]
     },
     "execution_count": 147,
     "metadata": {},
     "output_type": "execute_result"
    }
   ],
   "source": [
    "df_stop.shape"
   ]
  },
  {
   "cell_type": "code",
   "execution_count": 148,
   "id": "cd0360cc",
   "metadata": {},
   "outputs": [],
   "source": [
    "# 불용어 제거\n",
    "train_data.loc[:, 'tokenized'] = train_data['tokenized'].apply(lambda x: [word for word in x if word not in stopwords])"
   ]
  },
  {
   "cell_type": "code",
   "execution_count": 149,
   "id": "3841a34b",
   "metadata": {},
   "outputs": [
    {
     "data": {
      "text/html": [
       "<div>\n",
       "<style scoped>\n",
       "    .dataframe tbody tr th:only-of-type {\n",
       "        vertical-align: middle;\n",
       "    }\n",
       "\n",
       "    .dataframe tbody tr th {\n",
       "        vertical-align: top;\n",
       "    }\n",
       "\n",
       "    .dataframe thead th {\n",
       "        text-align: right;\n",
       "    }\n",
       "</style>\n",
       "<table border=\"1\" class=\"dataframe\">\n",
       "  <thead>\n",
       "    <tr style=\"text-align: right;\">\n",
       "      <th></th>\n",
       "      <th>id</th>\n",
       "      <th>document</th>\n",
       "      <th>label</th>\n",
       "      <th>tokenized</th>\n",
       "    </tr>\n",
       "  </thead>\n",
       "  <tbody>\n",
       "  </tbody>\n",
       "</table>\n",
       "</div>"
      ],
      "text/plain": [
       "Empty DataFrame\n",
       "Columns: [id, document, label, tokenized]\n",
       "Index: []"
      ]
     },
     "execution_count": 149,
     "metadata": {},
     "output_type": "execute_result"
    }
   ],
   "source": [
    "# 제거 확인\n",
    "train_data[train_data['tokenized'].apply(lambda x: any(word in x for word in stopwords))]"
   ]
  },
  {
   "cell_type": "code",
   "execution_count": 150,
   "id": "af9c303f",
   "metadata": {},
   "outputs": [
    {
     "data": {
      "text/plain": [
       "(149995, 4)"
      ]
     },
     "execution_count": 150,
     "metadata": {},
     "output_type": "execute_result"
    }
   ],
   "source": [
    "train_data.shape"
   ]
  },
  {
   "cell_type": "markdown",
   "id": "f28bb6e7",
   "metadata": {},
   "source": [
    "# word to index"
   ]
  },
  {
   "cell_type": "markdown",
   "id": "7efc0b84",
   "metadata": {},
   "source": [
    "## 고유 단어"
   ]
  },
  {
   "cell_type": "code",
   "execution_count": 151,
   "id": "e284a696",
   "metadata": {},
   "outputs": [
    {
     "name": "stdout",
     "output_type": "stream",
     "text": [
      "<class 'pandas.core.frame.DataFrame'>\n",
      "RangeIndex: 104659 entries, 0 to 104658\n",
      "Data columns (total 1 columns):\n",
      " #   Column  Non-Null Count   Dtype \n",
      "---  ------  --------------   ----- \n",
      " 0   0       104659 non-null  object\n",
      "dtypes: object(1)\n",
      "memory usage: 817.8+ KB\n"
     ]
    }
   ],
   "source": [
    "unique_words = set([word for words in train_data['tokenized'] for word in words])\n",
    "df_unique = pd.DataFrame(list(unique_words))\n",
    "df_unique.info()"
   ]
  },
  {
   "cell_type": "code",
   "execution_count": 107,
   "id": "5f40b60b",
   "metadata": {},
   "outputs": [
    {
     "data": {
      "text/html": [
       "<div>\n",
       "<style scoped>\n",
       "    .dataframe tbody tr th:only-of-type {\n",
       "        vertical-align: middle;\n",
       "    }\n",
       "\n",
       "    .dataframe tbody tr th {\n",
       "        vertical-align: top;\n",
       "    }\n",
       "\n",
       "    .dataframe thead th {\n",
       "        text-align: right;\n",
       "    }\n",
       "</style>\n",
       "<table border=\"1\" class=\"dataframe\">\n",
       "  <thead>\n",
       "    <tr style=\"text-align: right;\">\n",
       "      <th></th>\n",
       "      <th>0</th>\n",
       "    </tr>\n",
       "  </thead>\n",
       "  <tbody>\n",
       "    <tr>\n",
       "      <th>94025</th>\n",
       "      <td>명이</td>\n",
       "    </tr>\n",
       "    <tr>\n",
       "      <th>94026</th>\n",
       "      <td>방향키</td>\n",
       "    </tr>\n",
       "    <tr>\n",
       "      <th>94027</th>\n",
       "      <td>망함</td>\n",
       "    </tr>\n",
       "    <tr>\n",
       "      <th>94028</th>\n",
       "      <td>공허한</td>\n",
       "    </tr>\n",
       "    <tr>\n",
       "      <th>94029</th>\n",
       "      <td>ㅜㅜㅜ</td>\n",
       "    </tr>\n",
       "  </tbody>\n",
       "</table>\n",
       "</div>"
      ],
      "text/plain": [
       "         0\n",
       "94025   명이\n",
       "94026  방향키\n",
       "94027   망함\n",
       "94028  공허한\n",
       "94029  ㅜㅜㅜ"
      ]
     },
     "execution_count": 107,
     "metadata": {},
     "output_type": "execute_result"
    }
   ],
   "source": [
    "df_unique.tail()"
   ]
  },
  {
   "cell_type": "code",
   "execution_count": 152,
   "id": "d04990a1",
   "metadata": {},
   "outputs": [],
   "source": [
    "df_unique['count'] = 0"
   ]
  },
  {
   "cell_type": "code",
   "execution_count": 153,
   "id": "56a39290",
   "metadata": {},
   "outputs": [],
   "source": [
    "df_unique.columns.values[0] = 'word'"
   ]
  },
  {
   "cell_type": "code",
   "execution_count": 154,
   "id": "5263e1d2",
   "metadata": {},
   "outputs": [
    {
     "data": {
      "text/html": [
       "<div>\n",
       "<style scoped>\n",
       "    .dataframe tbody tr th:only-of-type {\n",
       "        vertical-align: middle;\n",
       "    }\n",
       "\n",
       "    .dataframe tbody tr th {\n",
       "        vertical-align: top;\n",
       "    }\n",
       "\n",
       "    .dataframe thead th {\n",
       "        text-align: right;\n",
       "    }\n",
       "</style>\n",
       "<table border=\"1\" class=\"dataframe\">\n",
       "  <thead>\n",
       "    <tr style=\"text-align: right;\">\n",
       "      <th></th>\n",
       "      <th>word</th>\n",
       "      <th>count</th>\n",
       "    </tr>\n",
       "  </thead>\n",
       "  <tbody>\n",
       "    <tr>\n",
       "      <th>104654</th>\n",
       "      <td>고프다요</td>\n",
       "      <td>0</td>\n",
       "    </tr>\n",
       "    <tr>\n",
       "      <th>104655</th>\n",
       "      <td>방향키</td>\n",
       "      <td>0</td>\n",
       "    </tr>\n",
       "    <tr>\n",
       "      <th>104656</th>\n",
       "      <td>망함</td>\n",
       "      <td>0</td>\n",
       "    </tr>\n",
       "    <tr>\n",
       "      <th>104657</th>\n",
       "      <td>공허한</td>\n",
       "      <td>0</td>\n",
       "    </tr>\n",
       "    <tr>\n",
       "      <th>104658</th>\n",
       "      <td>ㅜㅜㅜ</td>\n",
       "      <td>0</td>\n",
       "    </tr>\n",
       "  </tbody>\n",
       "</table>\n",
       "</div>"
      ],
      "text/plain": [
       "        word  count\n",
       "104654  고프다요      0\n",
       "104655   방향키      0\n",
       "104656    망함      0\n",
       "104657   공허한      0\n",
       "104658   ㅜㅜㅜ      0"
      ]
     },
     "execution_count": 154,
     "metadata": {},
     "output_type": "execute_result"
    }
   ],
   "source": [
    "df_unique.tail()"
   ]
  },
  {
   "cell_type": "markdown",
   "id": "ce3b1594",
   "metadata": {},
   "source": [
    "## 단어 인덱스"
   ]
  },
  {
   "cell_type": "code",
   "execution_count": 155,
   "id": "0914d0df",
   "metadata": {},
   "outputs": [],
   "source": [
    "word_index = {}"
   ]
  },
  {
   "cell_type": "code",
   "execution_count": 156,
   "id": "0cc48973",
   "metadata": {},
   "outputs": [],
   "source": [
    "def words_to_indices(texts):\n",
    "    \n",
    "    # 0: '<PAD>' ; 패딩용 단어\n",
    "    # 1: '<BOS>' ; 문장의 시작지점\n",
    "    # 2: '<UNK>' ; 사전에 없는(Unknown) 단어\n",
    "\n",
    "    index = 3  # Start indexing from 1 (0 can be used for padding or reserved for special tokens)\n",
    "\n",
    "    word_indices = []\n",
    "\n",
    "    indices = []\n",
    "    for word in texts:\n",
    "        #print(word, end=', ')\n",
    "        \n",
    "        if word not in word_index:\n",
    "            #print(index, end=', ')\n",
    "            word_index[word] = index\n",
    "            index += 1\n",
    "            \n",
    "        #print(word_index[word], end='\\n')\n",
    "        indices.append(word_index[word])\n",
    "        \n",
    "    word_indices.append(indices)\n",
    "\n",
    "    return word_indices"
   ]
  },
  {
   "cell_type": "code",
   "execution_count": 157,
   "id": "e3e45d91",
   "metadata": {},
   "outputs": [],
   "source": [
    "train_data.loc[:, 'word_index'] = train_data['tokenized'].apply(words_to_indices)"
   ]
  },
  {
   "cell_type": "code",
   "execution_count": 158,
   "id": "b3dbde63",
   "metadata": {},
   "outputs": [
    {
     "data": {
      "text/plain": [
       "0                                 [[3, 4, 5, 6, 7, 8]]\n",
       "1      [[3, 4, 5, 6, 7, 8, 9, 10, 11, 12, 13, 14, 15]]\n",
       "2                          [[3, 4, 5, 6, 7, 8, 9, 10]]\n",
       "3                    [[3, 4, 5, 5, 6, 7, 8, 5, 9, 10]]\n",
       "4    [[3, 4, 5, 6, 12, 7, 8, 8, 9, 10, 11, 12, 13, ...\n",
       "Name: word_index, dtype: object"
      ]
     },
     "execution_count": 158,
     "metadata": {},
     "output_type": "execute_result"
    }
   ],
   "source": [
    "train_data['word_index'].head()"
   ]
  },
  {
   "cell_type": "code",
   "execution_count": 159,
   "id": "ebd94a4b",
   "metadata": {},
   "outputs": [
    {
     "name": "stdout",
     "output_type": "stream",
     "text": [
      "id                                                      7978306\n",
      "document      임시완 보아 커플 최다니엘 김지원 커플 보러 가자 연장 고 고 고 고 고 고 고 고...\n",
      "label                                                         1\n",
      "tokenized     [임시완, 보아, 커플, 최다니엘, 김지원, 커플, 보러, 가자, 연장, 고, 고,...\n",
      "word_index    [[3, 22, 8, 3, 3, 8, 6, 3, 12, 6, 6, 6, 6, 6, ...\n",
      "Name: 149047, dtype: object\n"
     ]
    }
   ],
   "source": [
    "row_with_max_items = train_data.loc[train_data['word_index'].apply(lambda x: len(x[0])).idxmax()]\n",
    "print(row_with_max_items)"
   ]
  },
  {
   "cell_type": "markdown",
   "id": "a332cf42",
   "metadata": {},
   "source": [
    "## max length"
   ]
  },
  {
   "cell_type": "code",
   "execution_count": 160,
   "id": "7d59849e",
   "metadata": {},
   "outputs": [],
   "source": [
    "df_len = train_data['word_index'].apply(lambda x: len(x[0]))"
   ]
  },
  {
   "cell_type": "code",
   "execution_count": 161,
   "id": "d03d5cda",
   "metadata": {},
   "outputs": [],
   "source": [
    "train_data['word_index_length'] = df_len"
   ]
  },
  {
   "cell_type": "code",
   "execution_count": 162,
   "id": "134b36fa",
   "metadata": {},
   "outputs": [
    {
     "data": {
      "text/html": [
       "<div>\n",
       "<style scoped>\n",
       "    .dataframe tbody tr th:only-of-type {\n",
       "        vertical-align: middle;\n",
       "    }\n",
       "\n",
       "    .dataframe tbody tr th {\n",
       "        vertical-align: top;\n",
       "    }\n",
       "\n",
       "    .dataframe thead th {\n",
       "        text-align: right;\n",
       "    }\n",
       "</style>\n",
       "<table border=\"1\" class=\"dataframe\">\n",
       "  <thead>\n",
       "    <tr style=\"text-align: right;\">\n",
       "      <th></th>\n",
       "      <th>id</th>\n",
       "      <th>document</th>\n",
       "      <th>label</th>\n",
       "      <th>tokenized</th>\n",
       "      <th>word_index</th>\n",
       "      <th>word_index_length</th>\n",
       "    </tr>\n",
       "  </thead>\n",
       "  <tbody>\n",
       "    <tr>\n",
       "      <th>0</th>\n",
       "      <td>9976970</td>\n",
       "      <td>아 더빙.. 진짜 짜증나네요 목소리</td>\n",
       "      <td>0</td>\n",
       "      <td>[아, 더빙, .., 진짜, 짜증나네요, 목소리]</td>\n",
       "      <td>[[3, 4, 5, 6, 7, 8]]</td>\n",
       "      <td>6</td>\n",
       "    </tr>\n",
       "    <tr>\n",
       "      <th>1</th>\n",
       "      <td>3819312</td>\n",
       "      <td>흠...포스터보고 초딩영화줄....오버연기조차 가볍지 않구나</td>\n",
       "      <td>1</td>\n",
       "      <td>[흠, ..., 포스터, 보고, 초딩, 영화, 줄, ...., 오버, 연기, 조차,...</td>\n",
       "      <td>[[3, 4, 5, 6, 7, 8, 9, 10, 11, 12, 13, 14, 15]]</td>\n",
       "      <td>13</td>\n",
       "    </tr>\n",
       "    <tr>\n",
       "      <th>2</th>\n",
       "      <td>10265843</td>\n",
       "      <td>너무재밓었다그래서보는것을추천한다</td>\n",
       "      <td>0</td>\n",
       "      <td>[너, 무재, 밓었, 다그, 래서, 보는것을, 추천, 다]</td>\n",
       "      <td>[[3, 4, 5, 6, 7, 8, 9, 10]]</td>\n",
       "      <td>8</td>\n",
       "    </tr>\n",
       "    <tr>\n",
       "      <th>3</th>\n",
       "      <td>9045019</td>\n",
       "      <td>교도소 이야기구먼 ..솔직히 재미는 없다..평점 조정</td>\n",
       "      <td>0</td>\n",
       "      <td>[교도소, 이야기, 구먼, .., 솔직히, 재미, 없다, .., 평점, 조정]</td>\n",
       "      <td>[[3, 4, 5, 5, 6, 7, 8, 5, 9, 10]]</td>\n",
       "      <td>10</td>\n",
       "    </tr>\n",
       "    <tr>\n",
       "      <th>4</th>\n",
       "      <td>6483659</td>\n",
       "      <td>사이몬페그의 익살스런 연기가 돋보였던 영화!스파이더맨에서 늙어보이기만 했던 커스틴 ...</td>\n",
       "      <td>1</td>\n",
       "      <td>[사이, 몬페, 그, 익살스런, 연기, 돋보였던, 영화, !, 스파이더맨, 에서, ...</td>\n",
       "      <td>[[3, 4, 5, 6, 12, 7, 8, 8, 9, 10, 11, 12, 13, ...</td>\n",
       "      <td>18</td>\n",
       "    </tr>\n",
       "  </tbody>\n",
       "</table>\n",
       "</div>"
      ],
      "text/plain": [
       "         id                                           document  label  \\\n",
       "0   9976970                                아 더빙.. 진짜 짜증나네요 목소리      0   \n",
       "1   3819312                  흠...포스터보고 초딩영화줄....오버연기조차 가볍지 않구나      1   \n",
       "2  10265843                                  너무재밓었다그래서보는것을추천한다      0   \n",
       "3   9045019                      교도소 이야기구먼 ..솔직히 재미는 없다..평점 조정      0   \n",
       "4   6483659  사이몬페그의 익살스런 연기가 돋보였던 영화!스파이더맨에서 늙어보이기만 했던 커스틴 ...      1   \n",
       "\n",
       "                                           tokenized  \\\n",
       "0                        [아, 더빙, .., 진짜, 짜증나네요, 목소리]   \n",
       "1  [흠, ..., 포스터, 보고, 초딩, 영화, 줄, ...., 오버, 연기, 조차,...   \n",
       "2                   [너, 무재, 밓었, 다그, 래서, 보는것을, 추천, 다]   \n",
       "3        [교도소, 이야기, 구먼, .., 솔직히, 재미, 없다, .., 평점, 조정]   \n",
       "4  [사이, 몬페, 그, 익살스런, 연기, 돋보였던, 영화, !, 스파이더맨, 에서, ...   \n",
       "\n",
       "                                          word_index  word_index_length  \n",
       "0                               [[3, 4, 5, 6, 7, 8]]                  6  \n",
       "1    [[3, 4, 5, 6, 7, 8, 9, 10, 11, 12, 13, 14, 15]]                 13  \n",
       "2                        [[3, 4, 5, 6, 7, 8, 9, 10]]                  8  \n",
       "3                  [[3, 4, 5, 5, 6, 7, 8, 5, 9, 10]]                 10  \n",
       "4  [[3, 4, 5, 6, 12, 7, 8, 8, 9, 10, 11, 12, 13, ...                 18  "
      ]
     },
     "execution_count": 162,
     "metadata": {},
     "output_type": "execute_result"
    }
   ],
   "source": [
    "train_data.head()"
   ]
  },
  {
   "cell_type": "code",
   "execution_count": 163,
   "id": "f0ed7c05",
   "metadata": {},
   "outputs": [
    {
     "data": {
      "text/plain": [
       "(array([7.4916e+04, 4.9080e+04, 1.2968e+04, 5.5930e+03, 5.0520e+03,\n",
       "        2.1680e+03, 2.0500e+02, 9.0000e+00, 1.0000e+00, 3.0000e+00]),\n",
       " array([ 0. ,  9.5, 19. , 28.5, 38. , 47.5, 57. , 66.5, 76. , 85.5, 95. ]),\n",
       " <BarContainer object of 10 artists>)"
      ]
     },
     "execution_count": 163,
     "metadata": {},
     "output_type": "execute_result"
    },
    {
     "data": {
      "image/png": "[encoded data removed]",
      "text/plain": [
       "<Figure size 500x300 with 1 Axes>"
      ]
     },
     "metadata": {},
     "output_type": "display_data"
    }
   ],
   "source": [
    "plt.figure(figsize=(5,3))\n",
    "plt.hist(train_data['word_index_length'])"
   ]
  },
  {
   "cell_type": "code",
   "execution_count": 164,
   "id": "78a64777",
   "metadata": {},
   "outputs": [
    {
     "data": {
      "text/plain": [
       "id                   126253\n",
       "document             126253\n",
       "label                126253\n",
       "tokenized            126253\n",
       "word_index           126253\n",
       "word_index_length    126253\n",
       "dtype: int64"
      ]
     },
     "execution_count": 164,
     "metadata": {},
     "output_type": "execute_result"
    }
   ],
   "source": [
    "train_data[train_data['word_index_length'] < 20].count()"
   ]
  },
  {
   "cell_type": "code",
   "execution_count": 165,
   "id": "e5dd81eb",
   "metadata": {
    "scrolled": true
   },
   "outputs": [
    {
     "data": {
      "text/html": [
       "<div>\n",
       "<style scoped>\n",
       "    .dataframe tbody tr th:only-of-type {\n",
       "        vertical-align: middle;\n",
       "    }\n",
       "\n",
       "    .dataframe tbody tr th {\n",
       "        vertical-align: top;\n",
       "    }\n",
       "\n",
       "    .dataframe thead th {\n",
       "        text-align: right;\n",
       "    }\n",
       "</style>\n",
       "<table border=\"1\" class=\"dataframe\">\n",
       "  <thead>\n",
       "    <tr style=\"text-align: right;\">\n",
       "      <th></th>\n",
       "      <th>id</th>\n",
       "      <th>document</th>\n",
       "      <th>label</th>\n",
       "      <th>tokenized</th>\n",
       "      <th>word_index</th>\n",
       "      <th>word_index_length</th>\n",
       "    </tr>\n",
       "  </thead>\n",
       "  <tbody>\n",
       "    <tr>\n",
       "      <th>65113</th>\n",
       "      <td>8520307</td>\n",
       "      <td>강추@강추@강추@강추@강추@강추@강추@강추@강추@강추@강추@강추@강추@강추@강추@강...</td>\n",
       "      <td>1</td>\n",
       "      <td>[강추, @, 강추, @, 강추, @, 강추, @, 강추, @, 강추, @, 강추,...</td>\n",
       "      <td>[[5, 6, 5, 6, 5, 6, 5, 6, 5, 6, 5, 6, 5, 6, 5,...</td>\n",
       "      <td>93</td>\n",
       "    </tr>\n",
       "    <tr>\n",
       "      <th>116829</th>\n",
       "      <td>10002342</td>\n",
       "      <td>선유야 사랑해 우리 좀있다가 보자!!♥!!♥!!♥!!♥!!♥!!♥!!♥!!♥!!♥!...</td>\n",
       "      <td>1</td>\n",
       "      <td>[선, 유야, 사랑, 해, 우리, 좀있다가, 보자, !!, ♥, !!, ♥, !!,...</td>\n",
       "      <td>[[3, 4, 4, 16, 3, 3, 6, 11, 6, 11, 6, 11, 6, 1...</td>\n",
       "      <td>88</td>\n",
       "    </tr>\n",
       "    <tr>\n",
       "      <th>126174</th>\n",
       "      <td>9230852</td>\n",
       "      <td>내평점은쓰레기임 진심평점줬더만일분만에삭제댓음티비서 내돈주고만원내고제돈주고내평썻더만 ...</td>\n",
       "      <td>0</td>\n",
       "      <td>[내, 평점, 쓰레기, 임, 진심, 평점, 줬, 더, 만일분, 만에, 삭제, 댓, ...</td>\n",
       "      <td>[[11, 9, 4, 14, 4, 9, 7, 7, 3, 4, 7, 5, 9, 17,...</td>\n",
       "      <td>81</td>\n",
       "    </tr>\n",
       "    <tr>\n",
       "      <th>149047</th>\n",
       "      <td>7978306</td>\n",
       "      <td>임시완 보아 커플 최다니엘 김지원 커플 보러 가자 연장 고 고 고 고 고 고 고 고...</td>\n",
       "      <td>1</td>\n",
       "      <td>[임시완, 보아, 커플, 최다니엘, 김지원, 커플, 보러, 가자, 연장, 고, 고,...</td>\n",
       "      <td>[[3, 22, 8, 3, 3, 8, 6, 3, 12, 6, 6, 6, 6, 6, ...</td>\n",
       "      <td>95</td>\n",
       "    </tr>\n",
       "  </tbody>\n",
       "</table>\n",
       "</div>"
      ],
      "text/plain": [
       "              id                                           document  label  \\\n",
       "65113    8520307  강추@강추@강추@강추@강추@강추@강추@강추@강추@강추@강추@강추@강추@강추@강추@강...      1   \n",
       "116829  10002342  선유야 사랑해 우리 좀있다가 보자!!♥!!♥!!♥!!♥!!♥!!♥!!♥!!♥!!♥!...      1   \n",
       "126174   9230852  내평점은쓰레기임 진심평점줬더만일분만에삭제댓음티비서 내돈주고만원내고제돈주고내평썻더만 ...      0   \n",
       "149047   7978306  임시완 보아 커플 최다니엘 김지원 커플 보러 가자 연장 고 고 고 고 고 고 고 고...      1   \n",
       "\n",
       "                                                tokenized  \\\n",
       "65113   [강추, @, 강추, @, 강추, @, 강추, @, 강추, @, 강추, @, 강추,...   \n",
       "116829  [선, 유야, 사랑, 해, 우리, 좀있다가, 보자, !!, ♥, !!, ♥, !!,...   \n",
       "126174  [내, 평점, 쓰레기, 임, 진심, 평점, 줬, 더, 만일분, 만에, 삭제, 댓, ...   \n",
       "149047  [임시완, 보아, 커플, 최다니엘, 김지원, 커플, 보러, 가자, 연장, 고, 고,...   \n",
       "\n",
       "                                               word_index  word_index_length  \n",
       "65113   [[5, 6, 5, 6, 5, 6, 5, 6, 5, 6, 5, 6, 5, 6, 5,...                 93  \n",
       "116829  [[3, 4, 4, 16, 3, 3, 6, 11, 6, 11, 6, 11, 6, 1...                 88  \n",
       "126174  [[11, 9, 4, 14, 4, 9, 7, 7, 3, 4, 7, 5, 9, 17,...                 81  \n",
       "149047  [[3, 22, 8, 3, 3, 8, 6, 3, 12, 6, 6, 6, 6, 6, ...                 95  "
      ]
     },
     "execution_count": 165,
     "metadata": {},
     "output_type": "execute_result"
    }
   ],
   "source": [
    "train_data[train_data['word_index_length'] > 80]"
   ]
  },
  {
   "cell_type": "markdown",
   "id": "af42bcf8",
   "metadata": {},
   "source": [
    "## word embedding"
   ]
  },
  {
   "cell_type": "code",
   "execution_count": 166,
   "id": "fbeddc06",
   "metadata": {
    "scrolled": true
   },
   "outputs": [
    {
     "data": {
      "text/plain": [
       "104659"
      ]
     },
     "execution_count": 166,
     "metadata": {},
     "output_type": "execute_result"
    }
   ],
   "source": [
    "vocab_size = df_unique.shape[0]\n",
    "vocab_size"
   ]
  },
  {
   "cell_type": "code",
   "execution_count": 167,
   "id": "80f31831",
   "metadata": {},
   "outputs": [],
   "source": [
    "sequences = train_data['word_index'].apply(lambda x: x[0])"
   ]
  },
  {
   "cell_type": "code",
   "execution_count": 168,
   "id": "0b50ec7f",
   "metadata": {},
   "outputs": [],
   "source": [
    "padded_sequences = pad_sequences(sequences, maxlen=max_sequence_length, padding='post')"
   ]
  },
  {
   "cell_type": "markdown",
   "id": "ac6272b0",
   "metadata": {},
   "source": [
    "# 모델링"
   ]
  },
  {
   "cell_type": "markdown",
   "id": "9d02f2fe",
   "metadata": {},
   "source": [
    "- pad_sequences의 max_sequence_length에 따라 Conv1D 레이어 필터 크기에 제한이 있음\n",
    "    - 최대 시퀀스 길이 30에 필터 크기는 5 적용"
   ]
  },
  {
   "cell_type": "code",
   "execution_count": 169,
   "id": "50e45d7c",
   "metadata": {},
   "outputs": [
    {
     "name": "stdout",
     "output_type": "stream",
     "text": [
      "Model: \"sequential_2\"\n",
      "_________________________________________________________________\n",
      " Layer (type)                Output Shape              Param #   \n",
      "=================================================================\n",
      " embedding_2 (Embedding)     (None, None, 100)         10465900  \n",
      "                                                                 \n",
      " conv1d_4 (Conv1D)           (None, None, 16)          8016      \n",
      "                                                                 \n",
      " max_pooling1d_2 (MaxPoolin  (None, None, 16)          0         \n",
      " g1D)                                                            \n",
      "                                                                 \n",
      " conv1d_5 (Conv1D)           (None, None, 16)          1296      \n",
      "                                                                 \n",
      " global_max_pooling1d_2 (Gl  (None, 16)                0         \n",
      " obalMaxPooling1D)                                               \n",
      "                                                                 \n",
      " dense_4 (Dense)             (None, 8)                 136       \n",
      "                                                                 \n",
      " dense_5 (Dense)             (None, 1)                 9         \n",
      "                                                                 \n",
      "=================================================================\n",
      "Total params: 10475357 (39.96 MB)\n",
      "Trainable params: 10475357 (39.96 MB)\n",
      "Non-trainable params: 0 (0.00 Byte)\n",
      "_________________________________________________________________\n"
     ]
    }
   ],
   "source": [
    "model = tf.keras.Sequential()\n",
    "model.add(tf.keras.layers.Embedding(vocab_size, word_vector_dim, input_shape=(None,)))\n",
    "model.add(tf.keras.layers.Conv1D(16, 5, activation='relu'))\n",
    "model.add(tf.keras.layers.MaxPooling1D(5))\n",
    "model.add(tf.keras.layers.Conv1D(16, 5, activation='relu'))\n",
    "model.add(tf.keras.layers.GlobalMaxPooling1D())\n",
    "model.add(tf.keras.layers.Dense(8, activation='relu'))\n",
    "model.add(tf.keras.layers.Dense(1, activation='sigmoid'))  # 최종 출력은 긍정/부정을 나타내는 1dim 입니다.\n",
    "\n",
    "model.summary()"
   ]
  },
  {
   "cell_type": "markdown",
   "id": "93387cc5",
   "metadata": {},
   "source": [
    "## 학습용/테스트용 데이터 분리"
   ]
  },
  {
   "cell_type": "code",
   "execution_count": 170,
   "id": "753537c3",
   "metadata": {},
   "outputs": [],
   "source": [
    "# 타겟 레이블\n",
    "labels = train_data['label']"
   ]
  },
  {
   "cell_type": "code",
   "execution_count": 171,
   "id": "274a1adc",
   "metadata": {},
   "outputs": [],
   "source": [
    "X_train, X_test, y_train, y_test = train_test_split(padded_sequences, labels, test_size=0.2, random_state=42)\n",
    "\n",
    "model.compile(optimizer='adam', loss='binary_crossentropy', metrics=['accuracy'])"
   ]
  },
  {
   "cell_type": "code",
   "execution_count": 172,
   "id": "27227a9d",
   "metadata": {},
   "outputs": [
    {
     "data": {
      "text/plain": [
       "((119996, 30), (29999, 30))"
      ]
     },
     "execution_count": 172,
     "metadata": {},
     "output_type": "execute_result"
    }
   ],
   "source": [
    "X_train.shape, X_test.shape"
   ]
  },
  {
   "cell_type": "markdown",
   "id": "4e51bdfe",
   "metadata": {},
   "source": [
    "## 학습"
   ]
  },
  {
   "cell_type": "code",
   "execution_count": 173,
   "id": "a8ec186b",
   "metadata": {},
   "outputs": [
    {
     "name": "stdout",
     "output_type": "stream",
     "text": [
      "3750/3750 [==============================] - 105s 28ms/step - loss: 0.6791 - accuracy: 0.5596\n"
     ]
    },
    {
     "data": {
      "text/plain": [
       "<keras.src.callbacks.History at 0x2ed333640>"
      ]
     },
     "execution_count": 173,
     "metadata": {},
     "output_type": "execute_result"
    }
   ],
   "source": [
    "# Train the model\n",
    "model.fit(X_train, y_train, batch_size=32, epochs=1)"
   ]
  },
  {
   "cell_type": "code",
   "execution_count": 174,
   "id": "dff1510e",
   "metadata": {},
   "outputs": [
    {
     "name": "stdout",
     "output_type": "stream",
     "text": [
      "938/938 [==============================] - 1s 460us/step - loss: 0.6692 - accuracy: 0.5840\n",
      "Test Loss: 0.6692\n",
      "Test Accuracy: 0.5840\n"
     ]
    }
   ],
   "source": [
    "# Evaluate the model\n",
    "loss, accuracy = model.evaluate(X_test, y_test)\n",
    "print(f\"Test Loss: {loss:.4f}\")\n",
    "print(f\"Test Accuracy: {accuracy:.4f}\")"
   ]
  },
  {
   "cell_type": "markdown",
   "id": "41834bfc",
   "metadata": {},
   "source": [
    "Loss, Accuracy.... 수치가 엉망..."
   ]
  },
  {
   "cell_type": "markdown",
   "id": "5b7ddd4d",
   "metadata": {},
   "source": [
    "# load_data() 구성"
   ]
  },
  {
   "cell_type": "code",
   "execution_count": null,
   "id": "0ed9def1",
   "metadata": {},
   "outputs": [],
   "source": [
    "def load_data(train_data, test_data, num_words=num_words):\n",
    "    # [[YOUR CODE]]\n",
    "    \n",
    "    \"\"\"\n",
    "    - 데이터의 중복 제거\n",
    "    - NaN 결측치 제거\n",
    "    - 한국어 토크나이저로 토큰화\n",
    "    - 불용어(Stopwords) 제거\n",
    "    - 사전word_to_index 구성\n",
    "    - 텍스트 스트링을 사전 인덱스 스트링으로 변환\n",
    "    - X_train, y_train, X_test, y_test, word_to_index 리턴\n",
    "    \"\"\"\n",
    "    \n",
    "X_train, y_train, X_test, y_test, word_to_index = load_data(train_data, test_data)"
   ]
  },
  {
   "cell_type": "markdown",
   "id": "74186197",
   "metadata": {},
   "source": [
    "일단 이건 나중에..."
   ]
  },
  {
   "cell_type": "markdown",
   "id": "960e79f3",
   "metadata": {},
   "source": [
    "# word2vec"
   ]
  },
  {
   "cell_type": "code",
   "execution_count": 353,
   "id": "c34af90f",
   "metadata": {},
   "outputs": [],
   "source": [
    "from gensim.models.keyedvectors import Word2VecKeyedVectors\n",
    "\n",
    "word2vec_file_path = './word2vec_ko.model'\n",
    "wv_model = Word2VecKeyedVectors.load(word2vec_file_path)\n",
    "word_vectors = wv_model.wv"
   ]
  },
  {
   "cell_type": "code",
   "execution_count": 356,
   "id": "cd3ade20",
   "metadata": {},
   "outputs": [],
   "source": [
    "vocabs            = word_vectors.key_to_index\n",
    "word_vectors_list = [word_vectors[v] for v in vocabs]"
   ]
  },
  {
   "cell_type": "markdown",
   "id": "611cfe76",
   "metadata": {},
   "source": [
    "# 결과"
   ]
  },
  {
   "cell_type": "markdown",
   "id": "1cabead2",
   "metadata": {},
   "source": [
    "- 데이터로더(load_data) 함수화 못함\n",
    "- word2vec으로 성능향상 못함"
   ]
  }
 ],
 "metadata": {
  "kernelspec": {
   "display_name": "Python 3 (ipykernel)",
   "language": "python",
   "name": "python3"
  },
  "language_info": {
   "codemirror_mode": {
    "name": "ipython",
    "version": 3
   },
   "file_extension": ".py",
   "mimetype": "text/x-python",
   "name": "python",
   "nbconvert_exporter": "python",
   "pygments_lexer": "ipython3",
   "version": "3.8.16"
  }
 },
 "nbformat": 4,
 "nbformat_minor": 5
}
