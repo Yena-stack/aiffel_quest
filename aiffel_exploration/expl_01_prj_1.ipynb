{
 "cells": [
  {
   "cell_type": "markdown",
   "id": "e9e91330",
   "metadata": {},
   "source": [
    "1. 데이터 가져오기\n",
    "    - sklearn.datasets의 load_diabetes에서 데이터를 가져와주세요.\n",
    "    - diabetes의 data를 df_X에, target을 df_y에 저장해주세요.\n",
    "2. 모델에 입력할 데이터 X 준비하기\n",
    "    - df_X에 있는 값들을 numpy array로 변환해서 저장해주세요.\n",
    "3. 모델에 예측할 데이터 y 준비하기\n",
    "    - df_y에 있는 값들을 numpy array로 변환해서 저장해주세요.\n",
    "4. train 데이터와 test 데이터로 분리하기\n",
    "    - X와 y 데이터를 각각 train 데이터와 test 데이터로 분리해주세요.\n",
    "5. 모델 준비하기\n",
    "    - 입력 데이터 개수에 맞는 가중치 W와 b를 준비해주세요.\n",
    "    - 모델 함수를 구현해주세요.\n",
    "6. 손실함수 loss 정의하기\n",
    "    - 손실함수를 MSE 함수로 정의해주세요.\n",
    "7. 기울기를 구하는 gradient 함수 구현하기\n",
    "    - 기울기를 계산하는 gradient 함수를 구현해주세요.\n",
    "8. 하이퍼 파라미터인 학습률 설정하기\n",
    "    - 학습률, learning rate 를 설정해주세요\n",
    "    - 만약 학습이 잘 되지 않는다면 learning rate 값을 한번 여러 가지로 설정하며 실험해 보세요.\n",
    "9. 모델 학습하기\n",
    "    - 정의된 손실함수와 기울기 함수로 모델을 학습해주세요.\n",
    "    - loss값이 충분히 떨어질 때까지 학습을 진행해주세요.\n",
    "    - 입력하는 데이터인 X에 들어가는 특성 컬럼들을 몇 개 빼도 괜찮습니다. 다양한 데이터로 실험해 보세요.\n",
    "10. test 데이터에 대한 성능 확인하기\n",
    "    - test 데이터에 대한 성능을 확인해주세요.\n",
    "11. 정답 데이터와 예측한 데이터 시각화하기\n",
    "    - x축에는 X 데이터의 첫 번째 컬럼을, y축에는 정답인 target 데이터를 넣어서 모델이 예측한 데이터를 시각화해 주세요."
   ]
  },
  {
   "cell_type": "code",
   "execution_count": 1,
   "id": "4270b7d1",
   "metadata": {},
   "outputs": [],
   "source": [
    "from sklearn.datasets import load_diabetes\n",
    "\n",
    "diabetes = load_diabetes()"
   ]
  },
  {
   "cell_type": "code",
   "execution_count": 3,
   "id": "ae1d9f23",
   "metadata": {},
   "outputs": [
    {
     "data": {
      "text/plain": [
       "sklearn.utils._bunch.Bunch"
      ]
     },
     "execution_count": 3,
     "metadata": {},
     "output_type": "execute_result"
    }
   ],
   "source": [
    "type(diabetes)"
   ]
  },
  {
   "cell_type": "code",
   "execution_count": 4,
   "id": "d4fa8d1e",
   "metadata": {},
   "outputs": [],
   "source": [
    "df_X = diabetes.data\n",
    "df_y = diabetes.target"
   ]
  },
  {
   "cell_type": "code",
   "execution_count": 5,
   "id": "c044e1d8",
   "metadata": {},
   "outputs": [],
   "source": [
    "import pandas as pd\n",
    "import numpy as np\n",
    "import matplotlib.pyplot as plt"
   ]
  },
  {
   "cell_type": "code",
   "execution_count": 6,
   "id": "587fb9e9",
   "metadata": {},
   "outputs": [],
   "source": [
    "X = np.array(df_X)\n",
    "y = np.array(df_y)"
   ]
  },
  {
   "cell_type": "code",
   "execution_count": 7,
   "id": "beb1483a",
   "metadata": {},
   "outputs": [
    {
     "data": {
      "text/plain": [
       "((442, 10), (442,))"
      ]
     },
     "execution_count": 7,
     "metadata": {},
     "output_type": "execute_result"
    }
   ],
   "source": [
    "X.shape, y.shape"
   ]
  },
  {
   "cell_type": "code",
   "execution_count": 8,
   "id": "218ab488",
   "metadata": {},
   "outputs": [
    {
     "data": {
      "text/plain": [
       "10"
      ]
     },
     "execution_count": 8,
     "metadata": {},
     "output_type": "execute_result"
    }
   ],
   "source": [
    "X.shape[1]"
   ]
  },
  {
   "cell_type": "code",
   "execution_count": 46,
   "id": "2cd16a97",
   "metadata": {},
   "outputs": [],
   "source": [
    "import numpy as np\n",
    "\n",
    "def custom_train_test_split(X, y, test_size=0.2, random_state=None):\n",
    "    \"\"\"\n",
    "    Split the data into training and testing sets.\n",
    "\n",
    "    Parameters:\n",
    "    - X: The feature matrix.\n",
    "    - y: The target variable.\n",
    "    - test_size: The proportion of the data to allocate for testing (default: 0.2).\n",
    "    - random_state: The random seed for reproducibility (default: None).\n",
    "\n",
    "    Returns:\n",
    "    - X_train, X_test: The split feature matrices for training and testing.\n",
    "    - y_train, y_test: The split target variables for training and testing.\n",
    "    \"\"\"\n",
    "    \n",
    "    # Set random seed if provided\n",
    "    if random_state is not None:\n",
    "        np.random.seed(random_state)\n",
    "\n",
    "    # Determine the number of samples for testing\n",
    "    num_test_samples = int(test_size * X.shape[0])\n",
    "\n",
    "    # Shuffle the indices\n",
    "    indices = np.random.permutation(X.shape[0])\n",
    "\n",
    "    # Split the indices into training and testing sets\n",
    "    test_indices = indices[:num_test_samples]\n",
    "    train_indices = indices[num_test_samples:]\n",
    "\n",
    "    # Split the data based on the indices\n",
    "    X_train, X_test = X[train_indices], X[test_indices]\n",
    "    y_train, y_test = y[train_indices], y[test_indices]\n",
    "\n",
    "    return X_train, X_test, y_train, y_test\n"
   ]
  },
  {
   "cell_type": "code",
   "execution_count": 47,
   "id": "be88d0f0",
   "metadata": {},
   "outputs": [],
   "source": [
    "X_train, X_test, y_train, y_test = custom_train_test_split(\n",
    "    X, y, test_size=0.2, random_state=42)"
   ]
  },
  {
   "cell_type": "code",
   "execution_count": null,
   "id": "5716aa8e",
   "metadata": {},
   "outputs": [],
   "source": [
    "# W, b func.\n",
    "# loss -- mse\n",
    "# gradient func.\n",
    "# learning rate\n",
    "# train, test\n",
    "# performance for test\n",
    "# visualise"
   ]
  },
  {
   "cell_type": "code",
   "execution_count": 48,
   "id": "df536b1c",
   "metadata": {},
   "outputs": [],
   "source": [
    "X_LENGTH = X_train.shape[1]"
   ]
  },
  {
   "cell_type": "code",
   "execution_count": 49,
   "id": "14b62cfa",
   "metadata": {},
   "outputs": [],
   "source": [
    "def model(X, W, b):\n",
    "    predictions = 0\n",
    "    for i in range(X.shape[1]):\n",
    "        predictions += X[:, i] * W[i]\n",
    "    predictions += b\n",
    "    return predictions"
   ]
  },
  {
   "cell_type": "code",
   "execution_count": 10,
   "id": "3fa0e30a",
   "metadata": {},
   "outputs": [],
   "source": [
    "def MSE(a, b):\n",
    "    mse = ((a - b) ** 2).mean()\n",
    "    return mse"
   ]
  },
  {
   "cell_type": "code",
   "execution_count": 71,
   "id": "baf12480",
   "metadata": {},
   "outputs": [],
   "source": [
    "def loss(X, W, b, y):\n",
    "    predictions = model(X, W, b)\n",
    "    L = MSE(predictions, y)\n",
    "    return L"
   ]
  },
  {
   "cell_type": "code",
   "execution_count": 12,
   "id": "706f1d11",
   "metadata": {},
   "outputs": [],
   "source": [
    "def gradient(X, W, b, y):\n",
    "    N = len(y)\n",
    "    y_pred = model(X, W, b)\n",
    "    dW = 1/N * 2 * X.T.dot(y_pred - y)\n",
    "    db = 2 * (y_pred - y).mean()\n",
    "    return dW, db"
   ]
  },
  {
   "cell_type": "code",
   "execution_count": 55,
   "id": "ee26f6ad",
   "metadata": {},
   "outputs": [],
   "source": [
    "def fit(X, y, learning_rate=0.1):\n",
    "    losses = []\n",
    "    w = np.random.rand(X.shape[1])\n",
    "    b = np.random.rand()\n",
    "    \n",
    "    for i in range(1, 1000):\n",
    "        dw, db = gradient(X, w, b, y)\n",
    "        w -= LEARNING_RATE * dw\n",
    "        b -= LEARNING_RATE * db\n",
    "        L = loss(X, w, b, y)\n",
    "        losses.append(L)\n",
    "        if i % 100 == 0:\n",
    "            print(f'iteration {i} : Loss {L:0.4f}')\n",
    "        \n",
    "    return w, b, losses"
   ]
  },
  {
   "cell_type": "code",
   "execution_count": 56,
   "id": "e2050056",
   "metadata": {},
   "outputs": [
    {
     "name": "stdout",
     "output_type": "stream",
     "text": [
      "iteration 100 : Loss 5365.0866\n",
      "iteration 200 : Loss 4866.6345\n",
      "iteration 300 : Loss 4495.5786\n",
      "iteration 400 : Loss 4215.6746\n",
      "iteration 500 : Loss 4001.4078\n",
      "iteration 600 : Loss 3834.7725\n",
      "iteration 700 : Loss 3703.0227\n",
      "iteration 800 : Loss 3597.1007\n",
      "iteration 900 : Loss 3510.5389\n"
     ]
    }
   ],
   "source": [
    "W, b, losses = fit(X_train, y_train)"
   ]
  },
  {
   "cell_type": "code",
   "execution_count": 57,
   "id": "51812c77",
   "metadata": {},
   "outputs": [
    {
     "data": {
      "image/png": "[encoded data removed]",
      "text/plain": [
       "<Figure size 640x480 with 1 Axes>"
      ]
     },
     "metadata": {},
     "output_type": "display_data"
    }
   ],
   "source": [
    "plt.plot(losses)\n",
    "plt.show()"
   ]
  },
  {
   "cell_type": "code",
   "execution_count": 69,
   "id": "711c70f7",
   "metadata": {},
   "outputs": [],
   "source": [
    "y_pred = model(X_test, W, b)"
   ]
  },
  {
   "cell_type": "code",
   "execution_count": 72,
   "id": "0954627f",
   "metadata": {},
   "outputs": [],
   "source": [
    "losses_test = loss(X_test, W, b, y_test)"
   ]
  },
  {
   "cell_type": "code",
   "execution_count": 73,
   "id": "69d226d9",
   "metadata": {},
   "outputs": [
    {
     "data": {
      "text/plain": [
       "3106.351744747451"
      ]
     },
     "execution_count": 73,
     "metadata": {},
     "output_type": "execute_result"
    }
   ],
   "source": [
    "losses_test"
   ]
  },
  {
   "cell_type": "code",
   "execution_count": 66,
   "id": "873b8536",
   "metadata": {},
   "outputs": [
    {
     "data": {
      "text/plain": [
       "(442,)"
      ]
     },
     "execution_count": 66,
     "metadata": {},
     "output_type": "execute_result"
    }
   ],
   "source": [
    "X[:, 0].shape"
   ]
  },
  {
   "cell_type": "code",
   "execution_count": 79,
   "id": "a0a5678a",
   "metadata": {},
   "outputs": [
    {
     "data": {
      "image/png": "[encoded data removed]",
      "text/plain": [
       "<Figure size 640x480 with 1 Axes>"
      ]
     },
     "metadata": {},
     "output_type": "display_data"
    }
   ],
   "source": [
    "plt.scatter(X_test[:, 0], y_test, label=\"true\")\n",
    "plt.scatter(X_test[:, 0], y_pred, label=\"pred\")\n",
    "plt.legend()\n",
    "plt.show()"
   ]
  }
 ],
 "metadata": {
  "kernelspec": {
   "display_name": "Python 3 (ipykernel)",
   "language": "python",
   "name": "python3"
  },
  "language_info": {
   "codemirror_mode": {
    "name": "ipython",
    "version": 3
   },
   "file_extension": ".py",
   "mimetype": "text/x-python",
   "name": "python",
   "nbconvert_exporter": "python",
   "pygments_lexer": "ipython3",
   "version": "3.8.16"
  }
 },
 "nbformat": 4,
 "nbformat_minor": 5
}
