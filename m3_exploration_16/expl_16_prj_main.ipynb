{
 "cells": [
  {
   "cell_type": "markdown",
   "id": "bb1118d5",
   "metadata": {},
   "source": [
    "# 라이브러리"
   ]
  },
  {
   "cell_type": "code",
   "execution_count": 14,
   "id": "d33fa9bc",
   "metadata": {},
   "outputs": [],
   "source": [
    "import os\n",
    "import re\n",
    "\n",
    "import numpy as np\n",
    "import matplotlib.pyplot as plt\n",
    "import pandas as pd \n",
    "\n",
    "import tensorflow as tf\n",
    "import tensorflow_datasets as tfds\n",
    "\n",
    "from sklearn.model_selection import train_test_split"
   ]
  },
  {
   "cell_type": "markdown",
   "id": "f58ed31e",
   "metadata": {},
   "source": [
    "# Step 1. 데이터 수집하기\n",
    "\n",
    "---\n",
    "\n",
    "한국어 챗봇 데이터는 송영숙님이 공개한 챗봇 데이터를 사용합니다.\n",
    "\n",
    "이 데이터는 아래의 링크에서 다운로드할 수 있습니다.\n",
    "\n",
    "- [songys/Chatbot_data](https://github.com/songys/Chatbot_data/blob/master/ChatbotData.csv)\n"
   ]
  },
  {
   "cell_type": "code",
   "execution_count": 86,
   "id": "0a1e93d6",
   "metadata": {},
   "outputs": [],
   "source": [
    "data = pd.read_csv('./data/ChatbotData .csv')"
   ]
  },
  {
   "cell_type": "code",
   "execution_count": 88,
   "id": "92b61489",
   "metadata": {},
   "outputs": [
    {
     "name": "stdout",
     "output_type": "stream",
     "text": [
      "<class 'pandas.core.frame.DataFrame'>\n",
      "RangeIndex: 11823 entries, 0 to 11822\n",
      "Data columns (total 3 columns):\n",
      " #   Column  Non-Null Count  Dtype \n",
      "---  ------  --------------  ----- \n",
      " 0   Q       11823 non-null  object\n",
      " 1   A       11823 non-null  object\n",
      " 2   label   11823 non-null  int64 \n",
      "dtypes: int64(1), object(2)\n",
      "memory usage: 277.2+ KB\n"
     ]
    }
   ],
   "source": [
    "data.info()"
   ]
  },
  {
   "cell_type": "code",
   "execution_count": 87,
   "id": "bc3c0021",
   "metadata": {},
   "outputs": [
    {
     "data": {
      "text/html": [
       "<div>\n",
       "<style scoped>\n",
       "    .dataframe tbody tr th:only-of-type {\n",
       "        vertical-align: middle;\n",
       "    }\n",
       "\n",
       "    .dataframe tbody tr th {\n",
       "        vertical-align: top;\n",
       "    }\n",
       "\n",
       "    .dataframe thead th {\n",
       "        text-align: right;\n",
       "    }\n",
       "</style>\n",
       "<table border=\"1\" class=\"dataframe\">\n",
       "  <thead>\n",
       "    <tr style=\"text-align: right;\">\n",
       "      <th></th>\n",
       "      <th>Q</th>\n",
       "      <th>A</th>\n",
       "      <th>label</th>\n",
       "    </tr>\n",
       "  </thead>\n",
       "  <tbody>\n",
       "    <tr>\n",
       "      <th>0</th>\n",
       "      <td>12시 땡!</td>\n",
       "      <td>하루가 또 가네요.</td>\n",
       "      <td>0</td>\n",
       "    </tr>\n",
       "    <tr>\n",
       "      <th>1</th>\n",
       "      <td>1지망 학교 떨어졌어</td>\n",
       "      <td>위로해 드립니다.</td>\n",
       "      <td>0</td>\n",
       "    </tr>\n",
       "    <tr>\n",
       "      <th>2</th>\n",
       "      <td>3박4일 놀러가고 싶다</td>\n",
       "      <td>여행은 언제나 좋죠.</td>\n",
       "      <td>0</td>\n",
       "    </tr>\n",
       "  </tbody>\n",
       "</table>\n",
       "</div>"
      ],
      "text/plain": [
       "              Q            A  label\n",
       "0        12시 땡!   하루가 또 가네요.      0\n",
       "1   1지망 학교 떨어졌어    위로해 드립니다.      0\n",
       "2  3박4일 놀러가고 싶다  여행은 언제나 좋죠.      0"
      ]
     },
     "execution_count": 87,
     "metadata": {},
     "output_type": "execute_result"
    }
   ],
   "source": [
    "data.head(3)"
   ]
  },
  {
   "cell_type": "code",
   "execution_count": 135,
   "id": "24411f9c",
   "metadata": {},
   "outputs": [],
   "source": [
    "X_train, X_test, y_train, y_test = train_test_split(data['Q'], data['A'], test_size=0.1, random_state=42)"
   ]
  },
  {
   "cell_type": "code",
   "execution_count": 136,
   "id": "98ddf287",
   "metadata": {},
   "outputs": [
    {
     "data": {
      "text/plain": [
       "((10640,), (10640,), (1183,), (1183,))"
      ]
     },
     "execution_count": 136,
     "metadata": {},
     "output_type": "execute_result"
    }
   ],
   "source": [
    "X_train.shape, y_train.shape, X_test.shape, y_test.shape"
   ]
  },
  {
   "cell_type": "markdown",
   "id": "e4a792f6",
   "metadata": {},
   "source": [
    "\n",
    "# Step 2. 데이터 전처리하기\n",
    "\n",
    "---\n",
    "\n",
    "영어 데이터와는 전혀 다른 데이터인 만큼 영어 데이터에 사용했던 전처리와 일부 동일한 전처리도 필요하겠지만 전체적으로는 다른 전처리를 수행해야 할 수도 있습니다.\n",
    "\n"
   ]
  },
  {
   "cell_type": "code",
   "execution_count": 19,
   "id": "81bfed7f",
   "metadata": {},
   "outputs": [],
   "source": [
    "# 전처리 함수\n",
    "def preprocess_sentence(sentence):\n",
    "    sentence = sentence.lower().strip()\n",
    "\n",
    "    # 단어와 구두점(punctuation) 사이의 거리를 만듭니다.\n",
    "    # 예를 들어서 \"I am a student.\" => \"I am a student .\"와 같이\n",
    "    # student와 온점 사이에 거리를 만듭니다.\n",
    "    sentence = re.sub(r\"([?.!,])\", r\" \\1 \", sentence)\n",
    "    sentence = re.sub(r'[\" \"]+', \" \", sentence)\n",
    "\n",
    "    sentence = sentence.strip()\n",
    "    return sentence"
   ]
  },
  {
   "cell_type": "code",
   "execution_count": 137,
   "id": "e3a80762",
   "metadata": {},
   "outputs": [
    {
     "name": "stdout",
     "output_type": "stream",
     "text": [
      "3727: 이상한 소문이 돌아\n",
      "3727: 소문은 소문일 뿐이에요 .\n"
     ]
    }
   ],
   "source": [
    "rnd_idx = np.random.randint(0, X_train.shape[0])\n",
    "print('{}: {}'.format(rnd_idx, preprocess_sentence(X_train[rnd_idx])))\n",
    "print('{}: {}'.format(rnd_idx, preprocess_sentence(y_train[rnd_idx])))"
   ]
  },
  {
   "cell_type": "markdown",
   "id": "c49e7752",
   "metadata": {},
   "source": [
    "# Step 3. SubwordTextEncoder 사용하기\n",
    "\n",
    "---\n",
    "\n",
    "한국어 데이터는 형태소 분석기를 사용하여 토크나이징을 해야 한다고 많은 분이 알고 있습니다. 하지만 여기서는 형태소 분석기가 아닌 위 실습에서 사용했던 내부 단어 토크나이저인 `SubwordTextEncoder`를 그대로 사용해보세요.\n",
    "\n"
   ]
  },
  {
   "cell_type": "markdown",
   "id": "1d340b57",
   "metadata": {},
   "source": [
    "## 토큰화"
   ]
  },
  {
   "cell_type": "code",
   "execution_count": 138,
   "id": "cfebaecc",
   "metadata": {},
   "outputs": [],
   "source": [
    "tokenizer = tfds.deprecated.text.SubwordTextEncoder.build_from_corpus(X_train + y_train, target_vocab_size=2**13)"
   ]
  },
  {
   "cell_type": "code",
   "execution_count": 139,
   "id": "0cfef637",
   "metadata": {},
   "outputs": [],
   "source": [
    "# 시작 토큰과 종료 토큰에 고유한 정수를 부여합니다.\n",
    "START_TOKEN, END_TOKEN = [tokenizer.vocab_size], [tokenizer.vocab_size + 1]"
   ]
  },
  {
   "cell_type": "code",
   "execution_count": 140,
   "id": "f5eef1af",
   "metadata": {},
   "outputs": [
    {
     "name": "stdout",
     "output_type": "stream",
     "text": [
      "START_TOKEN의 번호 : [7716]\n",
      "END_TOKEN의 번호 : [7717]\n"
     ]
    }
   ],
   "source": [
    "print('START_TOKEN의 번호 :' ,[tokenizer.vocab_size])\n",
    "print('END_TOKEN의 번호 :' ,[tokenizer.vocab_size + 1])"
   ]
  },
  {
   "cell_type": "code",
   "execution_count": 141,
   "id": "cc40017c",
   "metadata": {},
   "outputs": [
    {
     "name": "stdout",
     "output_type": "stream",
     "text": [
      "7718\n"
     ]
    }
   ],
   "source": [
    "# 시작 토큰과 종료 토큰을 고려하여 +2를 하여 단어장의 크기를 산정합니다.\n",
    "VOCAB_SIZE = tokenizer.vocab_size + 2\n",
    "print(VOCAB_SIZE)"
   ]
  },
  {
   "cell_type": "markdown",
   "id": "e0b70a76",
   "metadata": {},
   "source": [
    "## 정수 인코딩 & 패딩"
   ]
  },
  {
   "cell_type": "code",
   "execution_count": 142,
   "id": "28ef8d10",
   "metadata": {},
   "outputs": [
    {
     "name": "stdout",
     "output_type": "stream",
     "text": [
      "3727. 질문: [1659, 6482, 7492, 1166]\n",
      "3727. 답변: [3922, 24, 3922, 83, 540, 7506]\n"
     ]
    }
   ],
   "source": [
    "# 임의의 22번째 샘플에 대해서 정수 인코딩 작업을 수행.\n",
    "# 각 토큰을 고유한 정수로 변환\n",
    "print('{}. 질문: {}'.format(rnd_idx, tokenizer.encode(X_train[rnd_idx])))\n",
    "print('{}. 답변: {}'.format(rnd_idx, tokenizer.encode(y_train[rnd_idx])))"
   ]
  },
  {
   "cell_type": "code",
   "execution_count": 143,
   "id": "a141c5ef",
   "metadata": {},
   "outputs": [],
   "source": [
    "X_len = X_train.apply(lambda x: len(x))"
   ]
  },
  {
   "cell_type": "code",
   "execution_count": 144,
   "id": "8edd812a",
   "metadata": {},
   "outputs": [
    {
     "data": {
      "text/plain": [
       "(array([1.850e+02, 9.980e+02, 2.312e+03, 1.720e+03, 2.046e+03, 1.338e+03,\n",
       "        8.400e+02, 3.670e+02, 3.850e+02, 2.040e+02, 1.310e+02, 4.700e+01,\n",
       "        3.000e+01, 1.900e+01, 7.000e+00, 3.000e+00, 5.000e+00, 1.000e+00,\n",
       "        0.000e+00, 1.000e+00]),\n",
       " array([ 1.  ,  3.75,  6.5 ,  9.25, 12.  , 14.75, 17.5 , 20.25, 23.  ,\n",
       "        25.75, 28.5 , 31.25, 34.  , 36.75, 39.5 , 42.25, 45.  , 47.75,\n",
       "        50.5 , 53.25, 56.  ]),\n",
       " <BarContainer object of 20 artists>)"
      ]
     },
     "execution_count": 144,
     "metadata": {},
     "output_type": "execute_result"
    },
    {
     "data": {
      "image/png": "[encoded data removed]",
      "text/plain": [
       "<Figure size 432x288 with 1 Axes>"
      ]
     },
     "metadata": {
      "needs_background": "light"
     },
     "output_type": "display_data"
    }
   ],
   "source": [
    "plt.hist(X_len[:-1], bins=20)"
   ]
  },
  {
   "cell_type": "code",
   "execution_count": 197,
   "id": "b5366909",
   "metadata": {},
   "outputs": [
    {
     "data": {
      "text/plain": [
       "10052    40\n",
       "11556    45\n",
       "11248    46\n",
       "8903     46\n",
       "11451    42\n",
       "11348    42\n",
       "10605    41\n",
       "11011    48\n",
       "11462    41\n",
       "11769    43\n",
       "9519     41\n",
       "11053    46\n",
       "9506     41\n",
       "11044    47\n",
       "9273     43\n",
       "8527     44\n",
       "11810    56\n",
       "Name: Q, dtype: int64"
      ]
     },
     "execution_count": 197,
     "metadata": {},
     "output_type": "execute_result"
    }
   ],
   "source": [
    "X_len[X_len >= 40]"
   ]
  },
  {
   "cell_type": "code",
   "execution_count": 146,
   "id": "b1283c6d",
   "metadata": {},
   "outputs": [
    {
     "name": "stdout",
     "output_type": "stream",
     "text": [
      "0.9983084296588667\n"
     ]
    }
   ],
   "source": [
    "under_val = len(X_len[X_len < 40])\n",
    "print(under_val / df_train_q.shape[0])"
   ]
  },
  {
   "cell_type": "code",
   "execution_count": 149,
   "id": "7f102766",
   "metadata": {},
   "outputs": [],
   "source": [
    "MAX_LENGTH = 40"
   ]
  },
  {
   "cell_type": "code",
   "execution_count": 150,
   "id": "58c516dd",
   "metadata": {},
   "outputs": [],
   "source": [
    "# 정수 인코딩, 최대 길이를 초과하는 샘플 제거, 패딩\n",
    "def tokenize_and_filter(inputs, outputs):\n",
    "    tokenized_inputs, tokenized_outputs = [], []\n",
    "  \n",
    "    for (sentence1, sentence2) in zip(inputs, outputs):\n",
    "        # 정수 인코딩 과정에서 시작 토큰과 종료 토큰을 추가\n",
    "        sentence1 = START_TOKEN + tokenizer.encode(sentence1) + END_TOKEN\n",
    "        sentence2 = START_TOKEN + tokenizer.encode(sentence2) + END_TOKEN\n",
    "\n",
    "        # 최대 길이 40이하인 경우에만 데이터셋으로 허용\n",
    "        if len(sentence1) <= MAX_LENGTH and len(sentence2) <= MAX_LENGTH:\n",
    "            tokenized_inputs.append(sentence1)\n",
    "            tokenized_outputs.append(sentence2)\n",
    "\n",
    "    # 최대 길이 40으로 모든 데이터셋을 패딩\n",
    "    tokenized_inputs = tf.keras.preprocessing.sequence.pad_sequences(\n",
    "      tokenized_inputs, maxlen=MAX_LENGTH, padding='post')\n",
    "    tokenized_outputs = tf.keras.preprocessing.sequence.pad_sequences(\n",
    "      tokenized_outputs, maxlen=MAX_LENGTH, padding='post')\n",
    "\n",
    "    return tokenized_inputs, tokenized_outputs"
   ]
  },
  {
   "cell_type": "code",
   "execution_count": 151,
   "id": "7affb184",
   "metadata": {},
   "outputs": [
    {
     "name": "stdout",
     "output_type": "stream",
     "text": [
      "단어장의 크기 : 7718\n",
      "필터링 후의 샘플 개수: 10640\n",
      "필터링 후의 샘플 개수: 10640\n"
     ]
    }
   ],
   "source": [
    "questions, answers = tokenize_and_filter(X_train, y_train)\n",
    "print('단어장의 크기 :',(VOCAB_SIZE))\n",
    "print('필터링 후의 샘플 개수: {}'.format(len(questions)))\n",
    "print('필터링 후의 샘플 개수: {}'.format(len(answers)))"
   ]
  },
  {
   "cell_type": "markdown",
   "id": "84b113a5",
   "metadata": {},
   "source": [
    "# Step 4. 모델 구성하기\n",
    "\n",
    "---\n",
    "\n",
    "위 실습 내용을 참고하여 트랜스포머 모델을 구현합니다.\n",
    "\n"
   ]
  },
  {
   "cell_type": "markdown",
   "id": "16bcc85b",
   "metadata": {},
   "source": [
    "## Positional Encoding"
   ]
  },
  {
   "cell_type": "code",
   "execution_count": 152,
   "id": "d2b02947",
   "metadata": {},
   "outputs": [],
   "source": [
    "# 포지셔널 인코딩 레이어\n",
    "class PositionalEncoding(tf.keras.layers.Layer):\n",
    "    def __init__(self, position, d_model):\n",
    "        super(PositionalEncoding, self).__init__()\n",
    "        self.pos_encoding = self.positional_encoding(position, d_model)\n",
    "\n",
    "    def get_angles(self, position, i, d_model):\n",
    "        angles = 1 / tf.pow(10000, (2 * (i // 2)) / tf.cast(d_model, tf.float32))\n",
    "        return position * angles\n",
    "\n",
    "    def positional_encoding(self, position, d_model):\n",
    "        angle_rads = self.get_angles(\n",
    "            position=tf.range(position, dtype=tf.float32)[:, tf.newaxis],\n",
    "            i=tf.range(d_model, dtype=tf.float32)[tf.newaxis, :],\n",
    "            d_model=d_model)\n",
    "        # 배열의 짝수 인덱스에는 sin 함수 적용\n",
    "        sines = tf.math.sin(angle_rads[:, 0::2])\n",
    "        # 배열의 홀수 인덱스에는 cosine 함수 적용\n",
    "        cosines = tf.math.cos(angle_rads[:, 1::2])\n",
    "\n",
    "        pos_encoding = tf.concat([sines, cosines], axis=-1)\n",
    "        pos_encoding = pos_encoding[tf.newaxis, ...]\n",
    "        return tf.cast(pos_encoding, tf.float32)\n",
    "\n",
    "    def call(self, inputs):\n",
    "        return inputs + self.pos_encoding[:, :tf.shape(inputs)[1], :]"
   ]
  },
  {
   "cell_type": "markdown",
   "id": "8c829255",
   "metadata": {},
   "source": [
    "## Scaled Dot Product Attention"
   ]
  },
  {
   "cell_type": "code",
   "execution_count": 153,
   "id": "a3a075f0",
   "metadata": {},
   "outputs": [],
   "source": [
    "# 스케일드 닷 프로덕트 어텐션 함수\n",
    "def scaled_dot_product_attention(query, key, value, mask):\n",
    "    # 어텐션 가중치는 Q와 K의 닷 프로덕트\n",
    "    matmul_qk = tf.matmul(query, key, transpose_b=True)\n",
    "\n",
    "    # 가중치를 정규화\n",
    "    depth = tf.cast(tf.shape(key)[-1], tf.float32)\n",
    "    logits = matmul_qk / tf.math.sqrt(depth)\n",
    "\n",
    "    # 패딩에 마스크 추가\n",
    "    if mask is not None:\n",
    "        logits += (mask * -1e9)\n",
    "\n",
    "    # softmax적용\n",
    "    attention_weights = tf.nn.softmax(logits, axis=-1)\n",
    "\n",
    "    # 최종 어텐션은 가중치와 V의 닷 프로덕트\n",
    "    output = tf.matmul(attention_weights, value)\n",
    "    \n",
    "    return output"
   ]
  },
  {
   "cell_type": "markdown",
   "id": "76a06a59",
   "metadata": {},
   "source": [
    "## Multi Head Attention"
   ]
  },
  {
   "cell_type": "code",
   "execution_count": 154,
   "id": "a9b320f7",
   "metadata": {},
   "outputs": [],
   "source": [
    "class MultiHeadAttention(tf.keras.layers.Layer):\n",
    "\n",
    "    def __init__(self, d_model, num_heads, name=\"multi_head_attention\"):\n",
    "        super(MultiHeadAttention, self).__init__(name=name)\n",
    "        self.num_heads = num_heads\n",
    "        self.d_model = d_model\n",
    "\n",
    "        assert d_model % self.num_heads == 0\n",
    "\n",
    "        self.depth = d_model // self.num_heads\n",
    "\n",
    "        self.query_dense = tf.keras.layers.Dense(units=d_model)\n",
    "        self.key_dense = tf.keras.layers.Dense(units=d_model)\n",
    "        self.value_dense = tf.keras.layers.Dense(units=d_model)\n",
    "\n",
    "        self.dense = tf.keras.layers.Dense(units=d_model)\n",
    "\n",
    "    def split_heads(self, inputs, batch_size):\n",
    "        inputs = tf.reshape(\n",
    "            inputs, shape=(batch_size, -1, self.num_heads, self.depth))\n",
    "\n",
    "        return tf.transpose(inputs, perm=[0, 2, 1, 3])\n",
    "\n",
    "    def call(self, inputs):\n",
    "        query, key, value, mask = inputs['query'], inputs['key'], inputs[\n",
    "            'value'], inputs['mask']\n",
    "        batch_size = tf.shape(query)[0]\n",
    "\n",
    "        # linear layers\n",
    "        query = self.query_dense(query)\n",
    "        key = self.key_dense(key)\n",
    "        value = self.value_dense(value)\n",
    "\n",
    "        # 병렬 연산을 위한 머리를 여러 개 만듭니다.\n",
    "        query = self.split_heads(query, batch_size)\n",
    "        key = self.split_heads(key, batch_size)\n",
    "        value = self.split_heads(value, batch_size)\n",
    "\n",
    "        # 스케일드 닷-프로덕트 어텐션 함수\n",
    "        scaled_attention = scaled_dot_product_attention(query, key, value, mask)\n",
    "\n",
    "        scaled_attention = tf.transpose(scaled_attention, perm=[0, 2, 1, 3])\n",
    "\n",
    "        # 어텐션 연산 후에 각 결과를 다시 연결(concatenate)합니다.\n",
    "        concat_attention = tf.reshape(scaled_attention,\n",
    "                                      (batch_size, -1, self.d_model))\n",
    "\n",
    "        # final linear layer\n",
    "        outputs = self.dense(concat_attention)\n",
    "\n",
    "        return outputs"
   ]
  },
  {
   "cell_type": "markdown",
   "id": "0502d280",
   "metadata": {},
   "source": [
    "## Padding"
   ]
  },
  {
   "cell_type": "code",
   "execution_count": 155,
   "id": "08be4907",
   "metadata": {},
   "outputs": [],
   "source": [
    "def create_padding_mask(x):\n",
    "    mask = tf.cast(tf.math.equal(x, 0), tf.float32)\n",
    "    # (batch_size, 1, 1, sequence length)\n",
    "    return mask[:, tf.newaxis, tf.newaxis, :]"
   ]
  },
  {
   "cell_type": "code",
   "execution_count": 156,
   "id": "0f681426",
   "metadata": {},
   "outputs": [],
   "source": [
    "def create_look_ahead_mask(x):\n",
    "    seq_len = tf.shape(x)[1]\n",
    "    look_ahead_mask = 1 - tf.linalg.band_part(tf.ones((seq_len, seq_len)), -1, 0)\n",
    "    padding_mask = create_padding_mask(x)\n",
    "    return tf.maximum(look_ahead_mask, padding_mask)"
   ]
  },
  {
   "cell_type": "markdown",
   "id": "d4d72696",
   "metadata": {},
   "source": [
    "## Encoder"
   ]
  },
  {
   "cell_type": "code",
   "execution_count": 157,
   "id": "5d1d444b",
   "metadata": {},
   "outputs": [],
   "source": [
    "# 인코더 하나의 레이어를 함수로 구현.\n",
    "# 이 하나의 레이어 안에는 두 개의 서브 레이어가 존재합니다.\n",
    "def encoder_layer(units, d_model, num_heads, dropout, name=\"encoder_layer\"):\n",
    "    inputs = tf.keras.Input(shape=(None, d_model), name=\"inputs\")\n",
    "\n",
    "    # 패딩 마스크 사용\n",
    "    padding_mask = tf.keras.Input(shape=(1, 1, None), name=\"padding_mask\")\n",
    "\n",
    "    # 첫번째 서브 레이어 : 멀티 헤드 어텐션 수행 (셀프 어텐션)\n",
    "    attention = MultiHeadAttention(\n",
    "          d_model, num_heads, name=\"attention\")({\n",
    "              'query': inputs,\n",
    "              'key': inputs,\n",
    "              'value': inputs,\n",
    "              'mask': padding_mask\n",
    "          })\n",
    "\n",
    "    # 어텐션의 결과는 Dropout과 Layer Normalization이라는 훈련을 돕는 테크닉을 수행\n",
    "    attention = tf.keras.layers.Dropout(rate=dropout)(attention)\n",
    "    attention = tf.keras.layers.LayerNormalization(\n",
    "          epsilon=1e-6)(inputs + attention)\n",
    "\n",
    "    # 두번째 서브 레이어 : 2개의 완전연결층\n",
    "    outputs = tf.keras.layers.Dense(units=units, activation='relu')(attention)\n",
    "    outputs = tf.keras.layers.Dense(units=d_model)(outputs)\n",
    "\n",
    "    # 완전연결층의 결과는 Dropout과 LayerNormalization이라는 훈련을 돕는 테크닉을 수행\n",
    "    outputs = tf.keras.layers.Dropout(rate=dropout)(outputs)\n",
    "    outputs = tf.keras.layers.LayerNormalization(\n",
    "          epsilon=1e-6)(attention + outputs)\n",
    "\n",
    "    return tf.keras.Model(\n",
    "          inputs=[inputs, padding_mask], outputs=outputs, name=name)"
   ]
  },
  {
   "cell_type": "code",
   "execution_count": 158,
   "id": "444adda1",
   "metadata": {},
   "outputs": [],
   "source": [
    "def encoder(vocab_size,\n",
    "            num_layers,\n",
    "            units,\n",
    "            d_model,\n",
    "            num_heads,\n",
    "            dropout,\n",
    "            name=\"encoder\"):\n",
    "    inputs = tf.keras.Input(shape=(None,), name=\"inputs\")\n",
    "\n",
    "    # 패딩 마스크 사용\n",
    "    padding_mask = tf.keras.Input(shape=(1, 1, None), name=\"padding_mask\")\n",
    "\n",
    "    # 임베딩 레이어\n",
    "    embeddings = tf.keras.layers.Embedding(vocab_size, d_model)(inputs)\n",
    "    embeddings *= tf.math.sqrt(tf.cast(d_model, tf.float32))\n",
    "\n",
    "    # 포지셔널 인코딩\n",
    "    embeddings = PositionalEncoding(vocab_size, d_model)(embeddings)\n",
    "\n",
    "    outputs = tf.keras.layers.Dropout(rate=dropout)(embeddings)\n",
    "\n",
    "    # num_layers만큼 쌓아올린 인코더의 층.\n",
    "    for i in range(num_layers):\n",
    "        outputs = encoder_layer(\n",
    "            units=units,\n",
    "            d_model=d_model,\n",
    "            num_heads=num_heads,\n",
    "            dropout=dropout,\n",
    "            name=\"encoder_layer_{}\".format(i),\n",
    "        )([outputs, padding_mask])\n",
    "\n",
    "    return tf.keras.Model(\n",
    "      inputs=[inputs, padding_mask], outputs=outputs, name=name)"
   ]
  },
  {
   "cell_type": "markdown",
   "id": "661688c2",
   "metadata": {},
   "source": [
    "## Decoder"
   ]
  },
  {
   "cell_type": "code",
   "execution_count": 159,
   "id": "5e939355",
   "metadata": {},
   "outputs": [],
   "source": [
    "# 디코더 하나의 레이어를 함수로 구현.\n",
    "# 이 하나의 레이어 안에는 세 개의 서브 레이어가 존재합니다.\n",
    "def decoder_layer(units, d_model, num_heads, dropout, name=\"decoder_layer\"):\n",
    "    inputs = tf.keras.Input(shape=(None, d_model), name=\"inputs\")\n",
    "    enc_outputs = tf.keras.Input(shape=(None, d_model), name=\"encoder_outputs\")\n",
    "    look_ahead_mask = tf.keras.Input(\n",
    "          shape=(1, None, None), name=\"look_ahead_mask\")\n",
    "    padding_mask = tf.keras.Input(shape=(1, 1, None), name='padding_mask')\n",
    "\n",
    "    # 첫번째 서브 레이어 : 멀티 헤드 어텐션 수행 (셀프 어텐션)\n",
    "    attention1 = MultiHeadAttention(\n",
    "          d_model, num_heads, name=\"attention_1\")(inputs={\n",
    "              'query': inputs,\n",
    "              'key': inputs,\n",
    "              'value': inputs,\n",
    "              'mask': look_ahead_mask\n",
    "          })\n",
    "\n",
    "    # 멀티 헤드 어텐션의 결과는 LayerNormalization이라는 훈련을 돕는 테크닉을 수행\n",
    "    attention1 = tf.keras.layers.LayerNormalization(\n",
    "          epsilon=1e-6)(attention1 + inputs)\n",
    "\n",
    "    # 두번째 서브 레이어 : 마스크드 멀티 헤드 어텐션 수행 (인코더-디코더 어텐션)\n",
    "    attention2 = MultiHeadAttention(\n",
    "          d_model, num_heads, name=\"attention_2\")(inputs={\n",
    "              'query': attention1,\n",
    "              'key': enc_outputs,\n",
    "              'value': enc_outputs,\n",
    "              'mask': padding_mask\n",
    "          })\n",
    "\n",
    "    # 마스크드 멀티 헤드 어텐션의 결과는\n",
    "    # Dropout과 LayerNormalization이라는 훈련을 돕는 테크닉을 수행\n",
    "    attention2 = tf.keras.layers.Dropout(rate=dropout)(attention2)\n",
    "    attention2 = tf.keras.layers.LayerNormalization(\n",
    "          epsilon=1e-6)(attention2 + attention1)\n",
    "\n",
    "    # 세번째 서브 레이어 : 2개의 완전연결층\n",
    "    outputs = tf.keras.layers.Dense(units=units, activation='relu')(attention2)\n",
    "    outputs = tf.keras.layers.Dense(units=d_model)(outputs)\n",
    "\n",
    "    # 완전연결층의 결과는 Dropout과 LayerNormalization 수행\n",
    "    outputs = tf.keras.layers.Dropout(rate=dropout)(outputs)\n",
    "    outputs = tf.keras.layers.LayerNormalization(\n",
    "          epsilon=1e-6)(outputs + attention2)\n",
    "\n",
    "    return tf.keras.Model(\n",
    "          inputs=[inputs, enc_outputs, look_ahead_mask, padding_mask],\n",
    "          outputs=outputs,\n",
    "          name=name)"
   ]
  },
  {
   "cell_type": "code",
   "execution_count": 160,
   "id": "f668ed92",
   "metadata": {},
   "outputs": [],
   "source": [
    "def decoder(vocab_size,\n",
    "            num_layers,\n",
    "            units,\n",
    "            d_model,\n",
    "            num_heads,\n",
    "            dropout,\n",
    "            name='decoder'):\n",
    "    inputs = tf.keras.Input(shape=(None,), name='inputs')\n",
    "    enc_outputs = tf.keras.Input(shape=(None, d_model), name='encoder_outputs')\n",
    "    look_ahead_mask = tf.keras.Input(\n",
    "      shape=(1, None, None), name='look_ahead_mask')\n",
    "\n",
    "    # 패딩 마스크\n",
    "    padding_mask = tf.keras.Input(shape=(1, 1, None), name='padding_mask')\n",
    "\n",
    "    # 임베딩 레이어\n",
    "    embeddings = tf.keras.layers.Embedding(vocab_size, d_model)(inputs)\n",
    "    embeddings *= tf.math.sqrt(tf.cast(d_model, tf.float32))\n",
    "\n",
    "    # 포지셔널 인코딩\n",
    "    embeddings = PositionalEncoding(vocab_size, d_model)(embeddings)\n",
    "\n",
    "    # Dropout이라는 훈련을 돕는 테크닉을 수행\n",
    "    outputs = tf.keras.layers.Dropout(rate=dropout)(embeddings)\n",
    "\n",
    "    for i in range(num_layers):\n",
    "        outputs = decoder_layer(\n",
    "            units=units,\n",
    "            d_model=d_model,\n",
    "            num_heads=num_heads,\n",
    "            dropout=dropout,\n",
    "            name='decoder_layer_{}'.format(i),\n",
    "        )(inputs=[outputs, enc_outputs, look_ahead_mask, padding_mask])\n",
    "\n",
    "    return tf.keras.Model(\n",
    "      inputs=[inputs, enc_outputs, look_ahead_mask, padding_mask],\n",
    "      outputs=outputs,\n",
    "      name=name)"
   ]
  },
  {
   "cell_type": "markdown",
   "id": "e8e2576f",
   "metadata": {},
   "source": [
    "## Teacher Forcing "
   ]
  },
  {
   "cell_type": "code",
   "execution_count": 161,
   "id": "54c3e016",
   "metadata": {},
   "outputs": [],
   "source": [
    "BATCH_SIZE = 64\n",
    "BUFFER_SIZE = 20000\n",
    "\n",
    "# 디코더는 이전의 target을 다음의 input으로 사용합니다.\n",
    "# 이에 따라 outputs에서는 START_TOKEN을 제거하겠습니다.\n",
    "dataset = tf.data.Dataset.from_tensor_slices((\n",
    "    {\n",
    "        'inputs': questions,\n",
    "        'dec_inputs': answers[:, :-1]\n",
    "    },\n",
    "    {\n",
    "        'outputs': answers[:, 1:]\n",
    "    },\n",
    "))\n",
    "\n",
    "dataset = dataset.cache()\n",
    "dataset = dataset.shuffle(BUFFER_SIZE)\n",
    "dataset = dataset.batch(BATCH_SIZE)\n",
    "dataset = dataset.prefetch(tf.data.experimental.AUTOTUNE)"
   ]
  },
  {
   "cell_type": "markdown",
   "id": "024eccf1",
   "metadata": {},
   "source": [
    "## Transformer"
   ]
  },
  {
   "cell_type": "code",
   "execution_count": 162,
   "id": "90d5b239",
   "metadata": {},
   "outputs": [],
   "source": [
    "def transformer(vocab_size,\n",
    "                num_layers,\n",
    "                units,\n",
    "                d_model,\n",
    "                num_heads,\n",
    "                dropout,\n",
    "                name=\"transformer\"):\n",
    "    inputs = tf.keras.Input(shape=(None,), name=\"inputs\")\n",
    "    dec_inputs = tf.keras.Input(shape=(None,), name=\"dec_inputs\")\n",
    "\n",
    "    # 인코더에서 패딩을 위한 마스크\n",
    "    enc_padding_mask = tf.keras.layers.Lambda(\n",
    "      create_padding_mask, output_shape=(1, 1, None),\n",
    "      name='enc_padding_mask')(inputs)\n",
    "\n",
    "    # 디코더에서 미래의 토큰을 마스크하기위해서 사용합니다.\n",
    "    # 내부적으로 패딩 마스크도 포함되어져 있습니다.\n",
    "    look_ahead_mask = tf.keras.layers.Lambda(\n",
    "      create_look_ahead_mask,\n",
    "      output_shape=(1, None, None),\n",
    "      name='look_ahead_mask')(dec_inputs)\n",
    "\n",
    "    # 두번째 어텐션 블록에서 인코더의 벡터들을 마스킹\n",
    "    # 디코더에서 패딩을 위한 마스크\n",
    "    dec_padding_mask = tf.keras.layers.Lambda(\n",
    "      create_padding_mask, output_shape=(1, 1, None),\n",
    "      name='dec_padding_mask')(inputs)\n",
    "\n",
    "    # 인코더\n",
    "    enc_outputs = encoder(\n",
    "      vocab_size=vocab_size,\n",
    "      num_layers=num_layers,\n",
    "      units=units,\n",
    "      d_model=d_model,\n",
    "      num_heads=num_heads,\n",
    "      dropout=dropout,\n",
    "    )(inputs=[inputs, enc_padding_mask])\n",
    "\n",
    "    # 디코더\n",
    "    dec_outputs = decoder(\n",
    "      vocab_size=vocab_size,\n",
    "      num_layers=num_layers,\n",
    "      units=units,\n",
    "      d_model=d_model,\n",
    "      num_heads=num_heads,\n",
    "      dropout=dropout,\n",
    "    )(inputs=[dec_inputs, enc_outputs, look_ahead_mask, dec_padding_mask])\n",
    "\n",
    "    # 완전연결층\n",
    "    outputs = tf.keras.layers.Dense(units=vocab_size, name=\"outputs\")(dec_outputs)\n",
    "\n",
    "    return tf.keras.Model(inputs=[inputs, dec_inputs], outputs=outputs, name=name)"
   ]
  },
  {
   "cell_type": "code",
   "execution_count": 163,
   "id": "d5a5ab50",
   "metadata": {},
   "outputs": [
    {
     "name": "stdout",
     "output_type": "stream",
     "text": [
      "Model: \"transformer\"\n",
      "__________________________________________________________________________________________________\n",
      "Layer (type)                    Output Shape         Param #     Connected to                     \n",
      "==================================================================================================\n",
      "inputs (InputLayer)             [(None, None)]       0                                            \n",
      "__________________________________________________________________________________________________\n",
      "dec_inputs (InputLayer)         [(None, None)]       0                                            \n",
      "__________________________________________________________________________________________________\n",
      "enc_padding_mask (Lambda)       (None, 1, 1, None)   0           inputs[0][0]                     \n",
      "__________________________________________________________________________________________________\n",
      "encoder (Functional)            (None, None, 256)    3030016     inputs[0][0]                     \n",
      "                                                                 enc_padding_mask[0][0]           \n",
      "__________________________________________________________________________________________________\n",
      "look_ahead_mask (Lambda)        (None, 1, None, None 0           dec_inputs[0][0]                 \n",
      "__________________________________________________________________________________________________\n",
      "dec_padding_mask (Lambda)       (None, 1, 1, None)   0           inputs[0][0]                     \n",
      "__________________________________________________________________________________________________\n",
      "decoder (Functional)            (None, None, 256)    3557376     dec_inputs[0][0]                 \n",
      "                                                                 encoder[0][0]                    \n",
      "                                                                 look_ahead_mask[0][0]            \n",
      "                                                                 dec_padding_mask[0][0]           \n",
      "__________________________________________________________________________________________________\n",
      "outputs (Dense)                 (None, None, 7718)   1983526     decoder[0][0]                    \n",
      "==================================================================================================\n",
      "Total params: 8,570,918\n",
      "Trainable params: 8,570,918\n",
      "Non-trainable params: 0\n",
      "__________________________________________________________________________________________________\n"
     ]
    }
   ],
   "source": [
    "tf.keras.backend.clear_session()\n",
    "\n",
    "# 하이퍼파라미터\n",
    "NUM_LAYERS = 2 # 인코더와 디코더의 층의 개수\n",
    "D_MODEL = 256 # 인코더와 디코더 내부의 입, 출력의 고정 차원\n",
    "NUM_HEADS = 8 # 멀티 헤드 어텐션에서의 헤드 수 \n",
    "UNITS = 512 # 피드 포워드 신경망의 은닉층의 크기\n",
    "DROPOUT = 0.1 # 드롭아웃의 비율\n",
    "\n",
    "model = transformer(\n",
    "    vocab_size=VOCAB_SIZE,\n",
    "    num_layers=NUM_LAYERS,\n",
    "    units=UNITS,\n",
    "    d_model=D_MODEL,\n",
    "    num_heads=NUM_HEADS,\n",
    "    dropout=DROPOUT)\n",
    "\n",
    "model.summary()"
   ]
  },
  {
   "cell_type": "markdown",
   "id": "b980988d",
   "metadata": {},
   "source": [
    "## Loss, Accuracy"
   ]
  },
  {
   "cell_type": "code",
   "execution_count": 164,
   "id": "e7044459",
   "metadata": {},
   "outputs": [],
   "source": [
    "def loss_function(y_true, y_pred):\n",
    "    y_true = tf.reshape(y_true, shape=(-1, MAX_LENGTH - 1))\n",
    "\n",
    "    loss = tf.keras.losses.SparseCategoricalCrossentropy(\n",
    "      from_logits=True, reduction='none')(y_true, y_pred)\n",
    "\n",
    "    mask = tf.cast(tf.not_equal(y_true, 0), tf.float32)\n",
    "    loss = tf.multiply(loss, mask)\n",
    "\n",
    "    return tf.reduce_mean(loss)"
   ]
  },
  {
   "cell_type": "code",
   "execution_count": 165,
   "id": "7bfef122",
   "metadata": {},
   "outputs": [],
   "source": [
    "def accuracy(y_true, y_pred):\n",
    "    y_true = tf.reshape(y_true, shape=(-1, MAX_LENGTH - 1))\n",
    "    return tf.keras.metrics.sparse_categorical_accuracy(y_true, y_pred)\n"
   ]
  },
  {
   "cell_type": "markdown",
   "id": "7c3eb0a1",
   "metadata": {},
   "source": [
    "## Learning Rate"
   ]
  },
  {
   "cell_type": "code",
   "execution_count": 166,
   "id": "f694e308",
   "metadata": {},
   "outputs": [],
   "source": [
    "class CustomSchedule(tf.keras.optimizers.schedules.LearningRateSchedule):\n",
    "    \n",
    "    def __init__(self, d_model, warmup_steps=4000):\n",
    "        super(CustomSchedule, self).__init__()\n",
    "\n",
    "        self.d_model = d_model\n",
    "        self.d_model = tf.cast(self.d_model, tf.float32)\n",
    "\n",
    "        self.warmup_steps = warmup_steps\n",
    "\n",
    "    def __call__(self, step):\n",
    "        arg1 = tf.math.rsqrt(step)\n",
    "        arg2 = step * (self.warmup_steps**-1.5)\n",
    "\n",
    "        return tf.math.rsqrt(self.d_model) * tf.math.minimum(arg1, arg2)"
   ]
  },
  {
   "cell_type": "code",
   "execution_count": 167,
   "id": "0f01b588",
   "metadata": {},
   "outputs": [],
   "source": [
    "learning_rate = CustomSchedule(D_MODEL)\n",
    "\n",
    "optimizer = tf.keras.optimizers.Adam(\n",
    "    learning_rate, beta_1=0.9, beta_2=0.98, epsilon=1e-9)"
   ]
  },
  {
   "cell_type": "markdown",
   "id": "b2cbc1a5",
   "metadata": {},
   "source": [
    "## Model Compile & Train"
   ]
  },
  {
   "cell_type": "code",
   "execution_count": 168,
   "id": "6615e20c",
   "metadata": {},
   "outputs": [],
   "source": [
    "model.compile(optimizer=optimizer, loss=loss_function, metrics=[accuracy])"
   ]
  },
  {
   "cell_type": "code",
   "execution_count": 169,
   "id": "7a7aa05c",
   "metadata": {},
   "outputs": [
    {
     "name": "stdout",
     "output_type": "stream",
     "text": [
      "Epoch 1/50\n",
      "167/167 [==============================] - 16s 54ms/step - loss: 1.4679 - accuracy: 0.0212\n",
      "Epoch 2/50\n",
      "167/167 [==============================] - 9s 54ms/step - loss: 1.2260 - accuracy: 0.0468\n",
      "Epoch 3/50\n",
      "167/167 [==============================] - 9s 54ms/step - loss: 1.0437 - accuracy: 0.0503\n",
      "Epoch 4/50\n",
      "167/167 [==============================] - 9s 54ms/step - loss: 0.9598 - accuracy: 0.0536\n",
      "Epoch 5/50\n",
      "167/167 [==============================] - 9s 53ms/step - loss: 0.9029 - accuracy: 0.0566\n",
      "Epoch 6/50\n",
      "167/167 [==============================] - 9s 53ms/step - loss: 0.8481 - accuracy: 0.0599\n",
      "Epoch 7/50\n",
      "167/167 [==============================] - 9s 53ms/step - loss: 0.7875 - accuracy: 0.0648\n",
      "Epoch 8/50\n",
      "167/167 [==============================] - 9s 54ms/step - loss: 0.7214 - accuracy: 0.0716\n",
      "Epoch 9/50\n",
      "167/167 [==============================] - 9s 53ms/step - loss: 0.6502 - accuracy: 0.0796\n",
      "Epoch 10/50\n",
      "167/167 [==============================] - 9s 53ms/step - loss: 0.5737 - accuracy: 0.0881\n",
      "Epoch 11/50\n",
      "167/167 [==============================] - 9s 53ms/step - loss: 0.4943 - accuracy: 0.0976\n",
      "Epoch 12/50\n",
      "167/167 [==============================] - 9s 53ms/step - loss: 0.4151 - accuracy: 0.1078\n",
      "Epoch 13/50\n",
      "167/167 [==============================] - 9s 53ms/step - loss: 0.3387 - accuracy: 0.1184\n",
      "Epoch 14/50\n",
      "167/167 [==============================] - 9s 53ms/step - loss: 0.2667 - accuracy: 0.1294\n",
      "Epoch 15/50\n",
      "167/167 [==============================] - 9s 53ms/step - loss: 0.2043 - accuracy: 0.1392\n",
      "Epoch 16/50\n",
      "167/167 [==============================] - 9s 53ms/step - loss: 0.1505 - accuracy: 0.1489\n",
      "Epoch 17/50\n",
      "167/167 [==============================] - 9s 53ms/step - loss: 0.1086 - accuracy: 0.1565\n",
      "Epoch 18/50\n",
      "167/167 [==============================] - 9s 53ms/step - loss: 0.0781 - accuracy: 0.1622\n",
      "Epoch 19/50\n",
      "167/167 [==============================] - 9s 53ms/step - loss: 0.0597 - accuracy: 0.1652\n",
      "Epoch 20/50\n",
      "167/167 [==============================] - 9s 53ms/step - loss: 0.0489 - accuracy: 0.1669\n",
      "Epoch 21/50\n",
      "167/167 [==============================] - 9s 53ms/step - loss: 0.0429 - accuracy: 0.1679\n",
      "Epoch 22/50\n",
      "167/167 [==============================] - 9s 53ms/step - loss: 0.0391 - accuracy: 0.1684\n",
      "Epoch 23/50\n",
      "167/167 [==============================] - 9s 53ms/step - loss: 0.0372 - accuracy: 0.1688\n",
      "Epoch 24/50\n",
      "167/167 [==============================] - 9s 54ms/step - loss: 0.0357 - accuracy: 0.1689\n",
      "Epoch 25/50\n",
      "167/167 [==============================] - 9s 53ms/step - loss: 0.0347 - accuracy: 0.1690\n",
      "Epoch 26/50\n",
      "167/167 [==============================] - 9s 53ms/step - loss: 0.0295 - accuracy: 0.1702\n",
      "Epoch 27/50\n",
      "167/167 [==============================] - 9s 53ms/step - loss: 0.0271 - accuracy: 0.1707\n",
      "Epoch 28/50\n",
      "167/167 [==============================] - 9s 53ms/step - loss: 0.0245 - accuracy: 0.1714\n",
      "Epoch 29/50\n",
      "167/167 [==============================] - 9s 53ms/step - loss: 0.0215 - accuracy: 0.1722\n",
      "Epoch 30/50\n",
      "167/167 [==============================] - 9s 53ms/step - loss: 0.0196 - accuracy: 0.1726\n",
      "Epoch 31/50\n",
      "167/167 [==============================] - 9s 53ms/step - loss: 0.0178 - accuracy: 0.1731\n",
      "Epoch 32/50\n",
      "167/167 [==============================] - 9s 53ms/step - loss: 0.0164 - accuracy: 0.1734\n",
      "Epoch 33/50\n",
      "167/167 [==============================] - 9s 53ms/step - loss: 0.0144 - accuracy: 0.1740\n",
      "Epoch 34/50\n",
      "167/167 [==============================] - 9s 53ms/step - loss: 0.0141 - accuracy: 0.1741\n",
      "Epoch 35/50\n",
      "167/167 [==============================] - 9s 53ms/step - loss: 0.0128 - accuracy: 0.1745\n",
      "Epoch 36/50\n",
      "167/167 [==============================] - 9s 53ms/step - loss: 0.0123 - accuracy: 0.1746\n",
      "Epoch 37/50\n",
      "167/167 [==============================] - 9s 53ms/step - loss: 0.0112 - accuracy: 0.1748\n",
      "Epoch 38/50\n",
      "167/167 [==============================] - 9s 53ms/step - loss: 0.0104 - accuracy: 0.1750\n",
      "Epoch 39/50\n",
      "167/167 [==============================] - 9s 53ms/step - loss: 0.0102 - accuracy: 0.1751\n",
      "Epoch 40/50\n",
      "167/167 [==============================] - 9s 53ms/step - loss: 0.0097 - accuracy: 0.1751\n",
      "Epoch 41/50\n",
      "167/167 [==============================] - 9s 53ms/step - loss: 0.0085 - accuracy: 0.1754\n",
      "Epoch 42/50\n",
      "167/167 [==============================] - 9s 53ms/step - loss: 0.0090 - accuracy: 0.1753\n",
      "Epoch 43/50\n",
      "167/167 [==============================] - 9s 54ms/step - loss: 0.0081 - accuracy: 0.1756\n",
      "Epoch 44/50\n",
      "167/167 [==============================] - 9s 53ms/step - loss: 0.0078 - accuracy: 0.1756\n",
      "Epoch 45/50\n",
      "167/167 [==============================] - 9s 53ms/step - loss: 0.0074 - accuracy: 0.1758\n",
      "Epoch 46/50\n",
      "167/167 [==============================] - 9s 53ms/step - loss: 0.0071 - accuracy: 0.1757\n",
      "Epoch 47/50\n",
      "167/167 [==============================] - 9s 53ms/step - loss: 0.0074 - accuracy: 0.1757\n",
      "Epoch 48/50\n",
      "167/167 [==============================] - 9s 54ms/step - loss: 0.0063 - accuracy: 0.1759\n",
      "Epoch 49/50\n",
      "167/167 [==============================] - 9s 53ms/step - loss: 0.0064 - accuracy: 0.1759\n",
      "Epoch 50/50\n",
      "167/167 [==============================] - 9s 53ms/step - loss: 0.0059 - accuracy: 0.1761\n"
     ]
    }
   ],
   "source": [
    "EPOCHS = 50\n",
    "history = model.fit(dataset, epochs=EPOCHS, verbose=1)"
   ]
  },
  {
   "cell_type": "markdown",
   "id": "6d4ebfec",
   "metadata": {},
   "source": [
    "## Visualisation - Accuracy"
   ]
  },
  {
   "cell_type": "code",
   "execution_count": 195,
   "id": "cbe51d1d",
   "metadata": {},
   "outputs": [
    {
     "data": {
      "image/png": "[encoded data removed]",
      "text/plain": [
       "<Figure size 576x432 with 2 Axes>"
      ]
     },
     "metadata": {
      "needs_background": "light"
     },
     "output_type": "display_data"
    }
   ],
   "source": [
    "# Create a subplot with 2 rows and 1 column\n",
    "fig, ax = plt.subplots(2, 1, figsize=(8, 6))\n",
    "\n",
    "# Plot loss values on the first subplot\n",
    "ax[0].plot(history.history['loss'], 'r')\n",
    "ax[0].set_title('Model Loss')\n",
    "ax[0].set_ylabel('Loss')\n",
    "\n",
    "# Plot accuracy values on the second subplot\n",
    "ax[1].plot(history.history['accuracy'], 'b')\n",
    "ax[1].set_title('Model Accuracy')\n",
    "ax[1].set_ylabel('Accuracy')\n",
    "ax[1].set_xlabel('Epoch')\n",
    "\n",
    "# Adjust spacing between subplots\n",
    "plt.tight_layout()\n",
    "\n",
    "# Display the plot\n",
    "plt.show()"
   ]
  },
  {
   "cell_type": "markdown",
   "id": "846618d5",
   "metadata": {},
   "source": [
    "> 에포크 200회 결과 50회 정도에서 더 나아지지 않음.  "
   ]
  },
  {
   "cell_type": "markdown",
   "id": "686c88c4",
   "metadata": {},
   "source": [
    "# Step 5. 모델 평가하기\n",
    "\n",
    "---\n",
    "\n",
    "Step 1에서 선택한 전처리 방법을 고려하여 입력된 문장에 대해서 대답을 얻는 예측 함수를 만듭니다.\n"
   ]
  },
  {
   "cell_type": "code",
   "execution_count": 171,
   "id": "b8a8cfde",
   "metadata": {},
   "outputs": [],
   "source": [
    "def decoder_inference(sentence):\n",
    "    sentence = preprocess_sentence(sentence)\n",
    "\n",
    "    sentence = tf.expand_dims(\n",
    "      START_TOKEN + tokenizer.encode(sentence) + END_TOKEN, axis=0)\n",
    "\n",
    "    # 디코더의 현재까지의 예측한 출력 시퀀스가 지속적으로 저장되는 변수.\n",
    "    # 처음에는 예측한 내용이 없으므로 시작 토큰만 별도 저장. ex) 8331\n",
    "    output_sequence = tf.expand_dims(START_TOKEN, 0)\n",
    "\n",
    "    # 디코더의 인퍼런스 단계\n",
    "    for i in range(MAX_LENGTH):\n",
    "        # 디코더는 최대 MAX_LENGTH의 길이만큼 다음 단어 예측을 반복합니다.\n",
    "        predictions = model(inputs=[sentence, output_sequence], training=False)\n",
    "        predictions = predictions[:, -1:, :]\n",
    "\n",
    "        # 현재 예측한 단어의 정수\n",
    "        predicted_id = tf.cast(tf.argmax(predictions, axis=-1), tf.int32)\n",
    "\n",
    "        # 만약 현재 예측한 단어가 종료 토큰이라면 for문을 종료\n",
    "        if tf.equal(predicted_id, END_TOKEN[0]):\n",
    "            break\n",
    "\n",
    "        # 예측한 단어들은 지속적으로 output_sequence에 추가됩니다.\n",
    "        # 이 output_sequence는 다시 디코더의 입력이 됩니다.\n",
    "        output_sequence = tf.concat([output_sequence, predicted_id], axis=-1)\n",
    "\n",
    "    return tf.squeeze(output_sequence, axis=0)"
   ]
  },
  {
   "cell_type": "code",
   "execution_count": 172,
   "id": "d2cc87b9",
   "metadata": {},
   "outputs": [],
   "source": [
    "def sentence_generation(sentence):\n",
    "    # 입력 문장에 대해서 디코더를 동작시켜 예측된 정수 시퀀스를 리턴받습니다.\n",
    "    prediction = decoder_inference(sentence)\n",
    "\n",
    "    # 정수 시퀀스를 다시 텍스트 시퀀스로 변환합니다.\n",
    "    predicted_sentence = tokenizer.decode(\n",
    "      [i for i in prediction if i < tokenizer.vocab_size])\n",
    "\n",
    "    return predicted_sentence"
   ]
  },
  {
   "cell_type": "code",
   "execution_count": 192,
   "id": "d5882144",
   "metadata": {},
   "outputs": [],
   "source": [
    "def get_chat(number=10):\n",
    "    for i in range(10):\n",
    "        rnd_i = np.random.randint(0, X_test.shape[0])\n",
    "        print('Q: {}'.format(X_test.iloc[rnd_i]))\n",
    "        print('PRED.A: {}'.format(sentence_generation(X_test.iloc[rnd_i])))\n",
    "        print('REAL.A: {}'.format(y_test.iloc[rnd_i]))\n",
    "        print()"
   ]
  },
  {
   "cell_type": "markdown",
   "id": "fd211d16",
   "metadata": {},
   "source": [
    "## epoch - 10"
   ]
  },
  {
   "cell_type": "code",
   "execution_count": 55,
   "id": "713c7e5c",
   "metadata": {},
   "outputs": [
    {
     "name": "stdout",
     "output_type": "stream",
     "text": [
      "Q: 운동 좀 잘 하고 싶다. 진짜\n",
      "A: 뭐든 시작해보면 좋을 거예요.\n",
      "\n",
      "Q: 먼저 인사할까 했는데 짝녀가 먼저 인사해줬어.\n",
      "A: 다정한게 좋을 거예요.\n",
      "\n",
      "Q: 오늘도 공기가 뿌얘\n",
      "A: 운동하고 오세요.\n",
      "\n",
      "Q: 사랑해 보고싶어\n",
      "A: 할 수 있을 거예요.\n",
      "\n",
      "Q: 유부녀 좋아하면 안되지?\n",
      "A: 저도 모르겠어요.\n",
      "\n",
      "Q: 인터넷 쇼핑몰에서 바지 샀는데 망함\n",
      "A: 이해하기 힘드니까요.\n",
      "\n",
      "Q: 내가 좋아하는 사람이 나 좋아해줬으면 좋겠다\n",
      "A: 먼저 다가가 보세요.\n",
      "\n",
      "Q: 친구인데 고백해도 될까?\n",
      "A: 고민 하고 있으면 썸의 가능성이 높겠네요.\n",
      "\n",
      "Q: 썸은 좋았는데 연애는 별로\n",
      "A: 그 누구도 아닌 자기 걸음을 걸으세요.\n",
      "\n",
      "Q: 남자친구가 진짜 잘 챙겨줘\n",
      "A: 그래도 상관없어요. 칭찬해주고 싶네요.\n",
      "\n"
     ]
    }
   ],
   "source": [
    "get_chat(10)"
   ]
  },
  {
   "cell_type": "markdown",
   "id": "cfc9629c",
   "metadata": {},
   "source": [
    "## epoch - 200"
   ]
  },
  {
   "cell_type": "code",
   "execution_count": 58,
   "id": "163d612a",
   "metadata": {},
   "outputs": [
    {
     "name": "stdout",
     "output_type": "stream",
     "text": [
      "Q: 약 챙겨 먹어야지\n",
      "A: 제길.\n",
      "\n",
      "Q: 이별극복후 새로운 설렘\n",
      "A: 새로운 시작 응원해요.\n",
      "\n",
      "Q: 헤어지지 말자더니 놔버린 나쁜놈\n",
      "A: 마음 단단히 잡길 바랄게요.\n",
      "\n",
      "Q: 등산할까\n",
      "A: 그러게 말이에요.\n",
      "\n",
      "Q: 술 먹으면 연락이 안돼\n",
      "A: 혼자 힘들어하지 마세요.\n",
      "\n",
      "Q: 헤어진지 5개월차 꿀인생삽니다\n",
      "A: 항상 좋아했나봐요.\n",
      "\n",
      "Q: 이별후 그리움이 생생한 오늘\n",
      "A: 상대의 의견도 물어보세요.\n",
      "\n",
      "Q: 노는 거 좋아하는 사람은 좋아하면 힘들거야.\n",
      "A: 지금은 괜찮지만 힘들 거예요.\n",
      "\n",
      "Q: 오래 연애하고 싶어.\n",
      "A: 좋은 소식이네요.\n",
      "\n",
      "Q: 7년사귄 남자친구에게 배신당했어.\n",
      "A: 저는 저에게 투자하는 시간을 가져요. 예를들면 운동이나 여행같이 잡념을 없앨 수 있는 일들이요.\n",
      "\n"
     ]
    }
   ],
   "source": [
    "get_chat(10)"
   ]
  },
  {
   "cell_type": "markdown",
   "id": "8765c8c6",
   "metadata": {},
   "source": [
    "## epoch - 50"
   ]
  },
  {
   "cell_type": "code",
   "execution_count": 193,
   "id": "f9ccfb1e",
   "metadata": {
    "scrolled": false
   },
   "outputs": [
    {
     "name": "stdout",
     "output_type": "stream",
     "text": [
      "Q: 의욕이 없어\n",
      "PRED.A: 가벼운 산책을 해보세요.\n",
      "REAL.A: 가벼운 산책을 해보세요.\n",
      "\n",
      "Q: 독학하려니까 힘들어\n",
      "PRED.A: 신경 말을 한 사람이 가장 이상할 거예요.\n",
      "REAL.A: 더 깊은 공부할 수 있을 거예요.\n",
      "\n",
      "Q: 오늘 상 받았다\n",
      "PRED.A: 축하드려요.\n",
      "REAL.A: 축하드려요.\n",
      "\n",
      "Q: 오랜만에 쇼핑\n",
      "PRED.A: 제 선물 사오세요.\n",
      "REAL.A: 득템했길 바라요.\n",
      "\n",
      "Q: 마지막이겠죠\n",
      "PRED.A: 고민은 누구나 해요.\n",
      "REAL.A: 마지막이 아닐 지도 몰라요.\n",
      "\n",
      "Q: 뷔페 가고 싶어\n",
      "PRED.A: 저도 딸기 좋아해요. 같이 가요.\n",
      "REAL.A: 저도 딸기 좋아해요. 같이 가요.\n",
      "\n",
      "Q: 아쉬움만 남아\n",
      "PRED.A: 이별 뒤엔 아쉬움이 따를뿐이죠.\n",
      "REAL.A: 더 많이 배웠길 바라요.\n",
      "\n",
      "Q: 사랑받고싶어\n",
      "PRED.A: 잠시 쉬어도 괜찮아요.\n",
      "REAL.A: 먼저 사랑한다고 말해보세요.\n",
      "\n",
      "Q: 여름 빨리 지나갔으면\n",
      "PRED.A: 공부한 만큼 나올 거예요.\n",
      "REAL.A: 곧 지나갑니다.\n",
      "\n",
      "Q: 이 사랑이 마지막 사랑이었으면\n",
      "PRED.A: 그 울어도 돼요.\n",
      "REAL.A: 후회하지 않을 사랑 해보세요.\n",
      "\n"
     ]
    }
   ],
   "source": [
    "get_chat(10)"
   ]
  },
  {
   "cell_type": "markdown",
   "id": "13b85b2c",
   "metadata": {},
   "source": [
    "> 예측값, 실제값 비교\n",
    ">   - 어떻게 에측값이 실제값과 같을 수 있지?  \n",
    ">   - 학습 데이터와 내용이 섞여있는건가?"
   ]
  }
 ],
 "metadata": {
  "kernelspec": {
   "display_name": "Python 3 (ipykernel)",
   "language": "python",
   "name": "python3"
  },
  "language_info": {
   "codemirror_mode": {
    "name": "ipython",
    "version": 3
   },
   "file_extension": ".py",
   "mimetype": "text/x-python",
   "name": "python",
   "nbconvert_exporter": "python",
   "pygments_lexer": "ipython3",
   "version": "3.8.16"
  }
 },
 "nbformat": 4,
 "nbformat_minor": 5
}
