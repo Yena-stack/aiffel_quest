{
 "cells": [
  {
   "cell_type": "markdown",
   "id": "05066f47",
   "metadata": {},
   "source": [
    "1. 데이터 가져오기\n",
    "    - sklearn.datasets의 load_diabetes에서 데이터를 가져와주세요.\n",
    "    - diabetes의 data를 df_X에, target을 df_y에 저장해주세요.\n",
    "2. 모델에 입력할 데이터 X 준비하기\n",
    "    - df_X에 있는 값들을 numpy array로 변환해서 저장해주세요.\n",
    "3. 모델에 예측할 데이터 y 준비하기\n",
    "    - df_y에 있는 값들을 numpy array로 변환해서 저장해주세요.\n",
    "4. train 데이터와 test 데이터로 분리하기\n",
    "    - X와 y 데이터를 각각 train 데이터와 test 데이터로 분리해주세요.\n",
    "5. 모델 준비하기\n",
    "    - 입력 데이터 개수에 맞는 가중치 W와 b를 준비해주세요.\n",
    "    - 모델 함수를 구현해주세요.\n",
    "6. 손실함수 loss 정의하기\n",
    "    - 손실함수를 MSE 함수로 정의해주세요.\n",
    "7. 기울기를 구하는 gradient 함수 구현하기\n",
    "    - 기울기를 계산하는 gradient 함수를 구현해주세요.\n",
    "8. 하이퍼 파라미터인 학습률 설정하기\n",
    "    - 학습률, learning rate 를 설정해주세요\n",
    "    - 만약 학습이 잘 되지 않는다면 learning rate 값을 한번 여러 가지로 설정하며 실험해 보세요.\n",
    "9. 모델 학습하기\n",
    "    - 정의된 손실함수와 기울기 함수로 모델을 학습해주세요.\n",
    "    - loss값이 충분히 떨어질 때까지 학습을 진행해주세요.\n",
    "    - 입력하는 데이터인 X에 들어가는 특성 컬럼들을 몇 개 빼도 괜찮습니다. 다양한 데이터로 실험해 보세요.\n",
    "10. test 데이터에 대한 성능 확인하기\n",
    "    - test 데이터에 대한 성능을 확인해주세요.\n",
    "11. 정답 데이터와 예측한 데이터 시각화하기\n",
    "    - x축에는 X 데이터의 첫 번째 컬럼을, y축에는 정답인 target 데이터를 넣어서 모델이 예측한 데이터를 시각화해 주세요."
   ]
  },
  {
   "cell_type": "markdown",
   "id": "97a019c1",
   "metadata": {},
   "source": [
    "# 1. 데이터셋 불러오기"
   ]
  },
  {
   "cell_type": "code",
   "execution_count": 9,
   "id": "82680170",
   "metadata": {},
   "outputs": [],
   "source": [
    "from sklearn.datasets import load_diabetes\n",
    "\n",
    "diabetes = load_diabetes()"
   ]
  },
  {
   "cell_type": "code",
   "execution_count": 10,
   "id": "08c93c34",
   "metadata": {},
   "outputs": [],
   "source": [
    "import pandas as pd\n",
    "import numpy as np\n",
    "import matplotlib.pyplot as plt"
   ]
  },
  {
   "cell_type": "code",
   "execution_count": 11,
   "id": "0713a096",
   "metadata": {},
   "outputs": [],
   "source": [
    "# 모델에 입력할 데이터 X, y 준비하기\n",
    "X = np.array(diabetes.data)\n",
    "y = np.array(diabetes.target)"
   ]
  },
  {
   "cell_type": "markdown",
   "id": "5d6bf61d",
   "metadata": {},
   "source": [
    "데이터 확인"
   ]
  },
  {
   "cell_type": "code",
   "execution_count": 12,
   "id": "e10d1099",
   "metadata": {},
   "outputs": [
    {
     "data": {
      "text/plain": [
       "((442, 10), (442,))"
      ]
     },
     "execution_count": 12,
     "metadata": {},
     "output_type": "execute_result"
    }
   ],
   "source": [
    "X.shape, y.shape"
   ]
  },
  {
   "cell_type": "markdown",
   "id": "d3951e2a",
   "metadata": {},
   "source": [
    "y 데이터 분포 확인"
   ]
  },
  {
   "cell_type": "code",
   "execution_count": 13,
   "id": "711e381c",
   "metadata": {},
   "outputs": [
    {
     "data": {
      "text/plain": [
       "(25.0, 346.0, 152.13348416289594, 77.00574586945044)"
      ]
     },
     "execution_count": 13,
     "metadata": {},
     "output_type": "execute_result"
    }
   ],
   "source": [
    "y.min(), y.max(), y.mean(), y.std()"
   ]
  },
  {
   "cell_type": "code",
   "execution_count": 14,
   "id": "f8906ccf",
   "metadata": {},
   "outputs": [],
   "source": [
    "# y 데이터의 min, max\n",
    "min_val = y.min()\n",
    "max_val = y.max()\n",
    "\n",
    "# min-max 정규화\n",
    "normalized_y = (y - min_val) / (max_val - min_val)"
   ]
  },
  {
   "cell_type": "markdown",
   "id": "dabbe70e",
   "metadata": {},
   "source": [
    "정규화된 y 분포 확인"
   ]
  },
  {
   "cell_type": "code",
   "execution_count": 15,
   "id": "2102dbd5",
   "metadata": {},
   "outputs": [
    {
     "data": {
      "text/plain": [
       "(0.0, 1.0, 0.39605446779718356, 0.2398932893129297)"
      ]
     },
     "execution_count": 15,
     "metadata": {},
     "output_type": "execute_result"
    }
   ],
   "source": [
    "normalized_y.min(), normalized_y.max(), normalized_y.mean(), normalized_y.std()"
   ]
  },
  {
   "cell_type": "markdown",
   "id": "cd7157da",
   "metadata": {},
   "source": [
    "# train / test 데이터 분리"
   ]
  },
  {
   "cell_type": "code",
   "execution_count": 16,
   "id": "9a0d9bba",
   "metadata": {},
   "outputs": [],
   "source": [
    "import numpy as np\n",
    "\n",
    "def custom_train_test_split(X, y, test_size=0.2, random_state=None):\n",
    "    \"\"\"\n",
    "    학습/검증 데이터 분리\n",
    "\n",
    "    파라미터:\n",
    "    - X: 피쳐 행렬\n",
    "    - y: 타겟 \n",
    "    - test_size: 테스트 데이터 비율 (default: 0.2).\n",
    "    - random_state: 랜덤 씨드 (default: None).\n",
    "\n",
    "    리턴:\n",
    "    - X_train, X_test: 학습/검증 데이터 행렬.\n",
    "    - y_train, y_test: 학습/검증 타겟.\n",
    "    \"\"\"\n",
    "    \n",
    "    # 랜덤 씨드 설정되었을 경우\n",
    "    if random_state is not None:\n",
    "        np.random.seed(random_state)\n",
    "\n",
    "    # 검증 데이터 샘플 수\n",
    "    num_test_samples = int(test_size * X.shape[0])\n",
    "\n",
    "    # 랜덤 인덱스 값\n",
    "    indices = np.random.permutation(X.shape[0])\n",
    "\n",
    "    # 랜덤 인덱스를 학습/검증 셋으로 분리\n",
    "    test_indices = indices[:num_test_samples]\n",
    "    train_indices = indices[num_test_samples:]\n",
    "\n",
    "    # 랜덤 인덱스로 학습/검증 데이터 분리\n",
    "    X_train, X_test = X[train_indices], X[test_indices]\n",
    "    y_train, y_test = y[train_indices], y[test_indices]\n",
    "\n",
    "    return X_train, X_test, y_train, y_test\n"
   ]
  },
  {
   "cell_type": "code",
   "execution_count": 17,
   "id": "9edb58eb",
   "metadata": {},
   "outputs": [],
   "source": [
    "# 커스텀 학습/검증 데이터 분리 함수 호출, 검증 데이터 비율 0.2, 랜덤 씨드 42\n",
    "X_train, X_test, y_train, y_test = custom_train_test_split(\n",
    "    X, normalized_y, test_size=0.2, random_state=42)"
   ]
  },
  {
   "cell_type": "code",
   "execution_count": 18,
   "id": "77d4419e",
   "metadata": {},
   "outputs": [],
   "source": [
    "# 모델 예측\n",
    "def model(X, W, b):\n",
    "    predictions = 0\n",
    "    for i in range(X.shape[1]):\n",
    "        predictions += X[:, i] * W[i]\n",
    "    predictions += b\n",
    "    return predictions"
   ]
  },
  {
   "cell_type": "code",
   "execution_count": 19,
   "id": "9870e72a",
   "metadata": {},
   "outputs": [],
   "source": [
    "# MSE\n",
    "def MSE(a, b):\n",
    "    mse = ((a - b) ** 2).mean()\n",
    "    return mse"
   ]
  },
  {
   "cell_type": "code",
   "execution_count": 20,
   "id": "f198bce3",
   "metadata": {},
   "outputs": [],
   "source": [
    "# 손실 함수\n",
    "def loss(X, W, b, y):\n",
    "    predictions = model(X, W, b)\n",
    "    L = MSE(predictions, y)\n",
    "    return L"
   ]
  },
  {
   "cell_type": "code",
   "execution_count": 21,
   "id": "29a0e94c",
   "metadata": {},
   "outputs": [],
   "source": [
    "# 그래디언트 함수\n",
    "def gradient(X, W, b, y):\n",
    "    N = len(y)\n",
    "    y_pred = model(X, W, b)\n",
    "    dW = 1/N * 2 * X.T.dot(y_pred - y)\n",
    "    db = 2 * (y_pred - y).mean()\n",
    "    return dW, db"
   ]
  },
  {
   "cell_type": "code",
   "execution_count": 24,
   "id": "3dedf776",
   "metadata": {},
   "outputs": [],
   "source": [
    "LEARNING_RATE = 0.1"
   ]
  },
  {
   "cell_type": "code",
   "execution_count": 32,
   "id": "fe77673b",
   "metadata": {},
   "outputs": [],
   "source": [
    "# 학습\n",
    "def fit(X, y, learning_rate=0.1):\n",
    "    \n",
    "    # 초기화\n",
    "    losses = []\n",
    "    w = np.random.rand(X.shape[1])\n",
    "    b = np.random.rand()\n",
    "    \n",
    "    # 학습: epoch 1~999\n",
    "    for i in range(1, 1001):\n",
    "        dw, db = gradient(X, w, b, y)\n",
    "        w -= LEARNING_RATE * dw\n",
    "        b -= LEARNING_RATE * db\n",
    "        L = loss(X, w, b, y)\n",
    "        losses.append(L)\n",
    "        if i % 100 == 0:\n",
    "            print(f'iteration {i} : Loss {L:0.4f}')\n",
    "        \n",
    "    return w, b, losses"
   ]
  },
  {
   "cell_type": "code",
   "execution_count": 33,
   "id": "5faad49c",
   "metadata": {},
   "outputs": [
    {
     "name": "stdout",
     "output_type": "stream",
     "text": [
      "iteration 100 : Loss 0.0407\n",
      "iteration 200 : Loss 0.0393\n",
      "iteration 300 : Loss 0.0380\n",
      "iteration 400 : Loss 0.0369\n",
      "iteration 500 : Loss 0.0360\n",
      "iteration 600 : Loss 0.0351\n",
      "iteration 700 : Loss 0.0344\n",
      "iteration 800 : Loss 0.0338\n",
      "iteration 900 : Loss 0.0332\n",
      "iteration 1000 : Loss 0.0327\n"
     ]
    }
   ],
   "source": [
    "# 학습 진행\n",
    "W, b, losses = fit(X_train, y_train)"
   ]
  },
  {
   "cell_type": "code",
   "execution_count": 27,
   "id": "0432c8b2",
   "metadata": {},
   "outputs": [
    {
     "data": {
      "image/png": "[encoded data removed]",
      "text/plain": [
       "<Figure size 640x480 with 1 Axes>"
      ]
     },
     "metadata": {},
     "output_type": "display_data"
    }
   ],
   "source": [
    "# 손실값 시각화\n",
    "plt.plot(losses)\n",
    "plt.show()"
   ]
  },
  {
   "cell_type": "code",
   "execution_count": 28,
   "id": "a1b3735c",
   "metadata": {},
   "outputs": [],
   "source": [
    "# 검증 데이터로 예측\n",
    "y_pred = model(X_test, W, b)"
   ]
  },
  {
   "cell_type": "code",
   "execution_count": 29,
   "id": "9d4ea4e3",
   "metadata": {},
   "outputs": [],
   "source": [
    "# 검증 데이터 손실값\n",
    "losses_test = loss(X_test, W, b, y_test)"
   ]
  },
  {
   "cell_type": "code",
   "execution_count": 30,
   "id": "4c9ce5c4",
   "metadata": {},
   "outputs": [
    {
     "data": {
      "text/plain": [
       "0.0347124131805257"
      ]
     },
     "execution_count": 30,
     "metadata": {},
     "output_type": "execute_result"
    }
   ],
   "source": [
    "losses_test"
   ]
  },
  {
   "cell_type": "code",
   "execution_count": 31,
   "id": "98cf7042",
   "metadata": {},
   "outputs": [
    {
     "data": {
      "image/png": "[encoded data removed]",
      "text/plain": [
       "<Figure size 640x480 with 1 Axes>"
      ]
     },
     "metadata": {},
     "output_type": "display_data"
    }
   ],
   "source": [
    "# 실제값, 예측값 시각화\n",
    "plt.scatter(X_test[:, 0], y_test, label=\"true\")\n",
    "plt.scatter(X_test[:, 0], y_pred, label=\"pred\")\n",
    "plt.legend()\n",
    "plt.show()"
   ]
  }
 ],
 "metadata": {
  "kernelspec": {
   "display_name": "Python 3 (ipykernel)",
   "language": "python",
   "name": "python3"
  },
  "language_info": {
   "codemirror_mode": {
    "name": "ipython",
    "version": 3
   },
   "file_extension": ".py",
   "mimetype": "text/x-python",
   "name": "python",
   "nbconvert_exporter": "python",
   "pygments_lexer": "ipython3",
   "version": "3.8.16"
  }
 },
 "nbformat": 4,
 "nbformat_minor": 5
}
